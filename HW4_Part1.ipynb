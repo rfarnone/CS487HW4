{
  "cells": [
    {
      "cell_type": "markdown",
      "metadata": {
        "id": "7WDaLEQ-UjbX"
      },
      "source": [
        "## Load the dataset"
      ]
    },
    {
      "cell_type": "code",
      "execution_count": null,
      "metadata": {
        "id": "ZCwGoKa2o17l"
      },
      "outputs": [],
      "source": [
        "# Import libraries\n",
        "import numpy as np\n",
        "import matplotlib.pyplot as plt\n",
        "import seaborn as sns\n",
        "import pandas as pd\n",
        "from sklearn.model_selection import train_test_split"
      ]
    },
    {
      "cell_type": "code",
      "source": [
        "# Download the dataset\n",
        "!wget https://www.webpages.uidaho.edu/vakanski/Codes_Data/spam_messages.csv"
      ],
      "metadata": {
        "colab": {
          "base_uri": "https://localhost:8080/"
        },
        "id": "AZNEYsOYpxEw",
        "outputId": "eb0dd03f-4c5c-4b90-be6d-dd9d4ef9d12d"
      },
      "execution_count": null,
      "outputs": [
        {
          "output_type": "stream",
          "name": "stdout",
          "text": [
            "--2025-03-28 19:28:32--  https://www.webpages.uidaho.edu/vakanski/Codes_Data/spam_messages.csv\n",
            "Resolving www.webpages.uidaho.edu (www.webpages.uidaho.edu)... 129.101.105.230\n",
            "Connecting to www.webpages.uidaho.edu (www.webpages.uidaho.edu)|129.101.105.230|:443... connected.\n",
            "HTTP request sent, awaiting response... 200 OK\n",
            "Length: 45108305 (43M) [application/octet-stream]\n",
            "Saving to: ‘spam_messages.csv’\n",
            "\n",
            "spam_messages.csv   100%[===================>]  43.02M  11.0MB/s    in 4.3s    \n",
            "\n",
            "2025-03-28 19:28:37 (10.0 MB/s) - ‘spam_messages.csv’ saved [45108305/45108305]\n",
            "\n"
          ]
        }
      ]
    },
    {
      "cell_type": "code",
      "execution_count": null,
      "metadata": {
        "colab": {
          "base_uri": "https://localhost:8080/",
          "height": 380
        },
        "id": "9h-nFtZ8lnml",
        "outputId": "e3461443-52cd-49c8-a983-505e975d1345"
      },
      "outputs": [
        {
          "output_type": "stream",
          "name": "stdout",
          "text": [
            "Data shape (47392, 2)\n"
          ]
        },
        {
          "output_type": "execute_result",
          "data": {
            "text/plain": [
              "  label                                               text\n",
              "0   ham  Funny fact Nobody teaches volcanoes 2 erupt, t...\n",
              "1   ham  I sent my scores to sophas and i had to do sec...\n",
              "2  spam  We know someone who you know that fancies you....\n",
              "3   ham  Only if you promise your getting out as SOON a...\n",
              "4  spam  Congratulations ur awarded either ï¿½500 of CD...\n",
              "5   ham         I'll text carlos and let you know, hang on\n",
              "6   ham          K.i did't see you.:)k:)where are you now?\n",
              "7   ham             No message..no responce..what happend?\n",
              "8   ham  Get down in gandhipuram and walk to cross cut ...\n",
              "9   ham                         You flippin your shit yet?"
            ],
            "text/html": [
              "\n",
              "  <div id=\"df-dbbed121-3b7d-41ad-bb43-c4308b0b2ab4\" class=\"colab-df-container\">\n",
              "    <div>\n",
              "<style scoped>\n",
              "    .dataframe tbody tr th:only-of-type {\n",
              "        vertical-align: middle;\n",
              "    }\n",
              "\n",
              "    .dataframe tbody tr th {\n",
              "        vertical-align: top;\n",
              "    }\n",
              "\n",
              "    .dataframe thead th {\n",
              "        text-align: right;\n",
              "    }\n",
              "</style>\n",
              "<table border=\"1\" class=\"dataframe\">\n",
              "  <thead>\n",
              "    <tr style=\"text-align: right;\">\n",
              "      <th></th>\n",
              "      <th>label</th>\n",
              "      <th>text</th>\n",
              "    </tr>\n",
              "  </thead>\n",
              "  <tbody>\n",
              "    <tr>\n",
              "      <th>0</th>\n",
              "      <td>ham</td>\n",
              "      <td>Funny fact Nobody teaches volcanoes 2 erupt, t...</td>\n",
              "    </tr>\n",
              "    <tr>\n",
              "      <th>1</th>\n",
              "      <td>ham</td>\n",
              "      <td>I sent my scores to sophas and i had to do sec...</td>\n",
              "    </tr>\n",
              "    <tr>\n",
              "      <th>2</th>\n",
              "      <td>spam</td>\n",
              "      <td>We know someone who you know that fancies you....</td>\n",
              "    </tr>\n",
              "    <tr>\n",
              "      <th>3</th>\n",
              "      <td>ham</td>\n",
              "      <td>Only if you promise your getting out as SOON a...</td>\n",
              "    </tr>\n",
              "    <tr>\n",
              "      <th>4</th>\n",
              "      <td>spam</td>\n",
              "      <td>Congratulations ur awarded either ï¿½500 of CD...</td>\n",
              "    </tr>\n",
              "    <tr>\n",
              "      <th>5</th>\n",
              "      <td>ham</td>\n",
              "      <td>I'll text carlos and let you know, hang on</td>\n",
              "    </tr>\n",
              "    <tr>\n",
              "      <th>6</th>\n",
              "      <td>ham</td>\n",
              "      <td>K.i did't see you.:)k:)where are you now?</td>\n",
              "    </tr>\n",
              "    <tr>\n",
              "      <th>7</th>\n",
              "      <td>ham</td>\n",
              "      <td>No message..no responce..what happend?</td>\n",
              "    </tr>\n",
              "    <tr>\n",
              "      <th>8</th>\n",
              "      <td>ham</td>\n",
              "      <td>Get down in gandhipuram and walk to cross cut ...</td>\n",
              "    </tr>\n",
              "    <tr>\n",
              "      <th>9</th>\n",
              "      <td>ham</td>\n",
              "      <td>You flippin your shit yet?</td>\n",
              "    </tr>\n",
              "  </tbody>\n",
              "</table>\n",
              "</div>\n",
              "    <div class=\"colab-df-buttons\">\n",
              "\n",
              "  <div class=\"colab-df-container\">\n",
              "    <button class=\"colab-df-convert\" onclick=\"convertToInteractive('df-dbbed121-3b7d-41ad-bb43-c4308b0b2ab4')\"\n",
              "            title=\"Convert this dataframe to an interactive table.\"\n",
              "            style=\"display:none;\">\n",
              "\n",
              "  <svg xmlns=\"http://www.w3.org/2000/svg\" height=\"24px\" viewBox=\"0 -960 960 960\">\n",
              "    <path d=\"M120-120v-720h720v720H120Zm60-500h600v-160H180v160Zm220 220h160v-160H400v160Zm0 220h160v-160H400v160ZM180-400h160v-160H180v160Zm440 0h160v-160H620v160ZM180-180h160v-160H180v160Zm440 0h160v-160H620v160Z\"/>\n",
              "  </svg>\n",
              "    </button>\n",
              "\n",
              "  <style>\n",
              "    .colab-df-container {\n",
              "      display:flex;\n",
              "      gap: 12px;\n",
              "    }\n",
              "\n",
              "    .colab-df-convert {\n",
              "      background-color: #E8F0FE;\n",
              "      border: none;\n",
              "      border-radius: 50%;\n",
              "      cursor: pointer;\n",
              "      display: none;\n",
              "      fill: #1967D2;\n",
              "      height: 32px;\n",
              "      padding: 0 0 0 0;\n",
              "      width: 32px;\n",
              "    }\n",
              "\n",
              "    .colab-df-convert:hover {\n",
              "      background-color: #E2EBFA;\n",
              "      box-shadow: 0px 1px 2px rgba(60, 64, 67, 0.3), 0px 1px 3px 1px rgba(60, 64, 67, 0.15);\n",
              "      fill: #174EA6;\n",
              "    }\n",
              "\n",
              "    .colab-df-buttons div {\n",
              "      margin-bottom: 4px;\n",
              "    }\n",
              "\n",
              "    [theme=dark] .colab-df-convert {\n",
              "      background-color: #3B4455;\n",
              "      fill: #D2E3FC;\n",
              "    }\n",
              "\n",
              "    [theme=dark] .colab-df-convert:hover {\n",
              "      background-color: #434B5C;\n",
              "      box-shadow: 0px 1px 3px 1px rgba(0, 0, 0, 0.15);\n",
              "      filter: drop-shadow(0px 1px 2px rgba(0, 0, 0, 0.3));\n",
              "      fill: #FFFFFF;\n",
              "    }\n",
              "  </style>\n",
              "\n",
              "    <script>\n",
              "      const buttonEl =\n",
              "        document.querySelector('#df-dbbed121-3b7d-41ad-bb43-c4308b0b2ab4 button.colab-df-convert');\n",
              "      buttonEl.style.display =\n",
              "        google.colab.kernel.accessAllowed ? 'block' : 'none';\n",
              "\n",
              "      async function convertToInteractive(key) {\n",
              "        const element = document.querySelector('#df-dbbed121-3b7d-41ad-bb43-c4308b0b2ab4');\n",
              "        const dataTable =\n",
              "          await google.colab.kernel.invokeFunction('convertToInteractive',\n",
              "                                                    [key], {});\n",
              "        if (!dataTable) return;\n",
              "\n",
              "        const docLinkHtml = 'Like what you see? Visit the ' +\n",
              "          '<a target=\"_blank\" href=https://colab.research.google.com/notebooks/data_table.ipynb>data table notebook</a>'\n",
              "          + ' to learn more about interactive tables.';\n",
              "        element.innerHTML = '';\n",
              "        dataTable['output_type'] = 'display_data';\n",
              "        await google.colab.output.renderOutput(dataTable, element);\n",
              "        const docLink = document.createElement('div');\n",
              "        docLink.innerHTML = docLinkHtml;\n",
              "        element.appendChild(docLink);\n",
              "      }\n",
              "    </script>\n",
              "  </div>\n",
              "\n",
              "\n",
              "<div id=\"df-2c2c04c1-443a-4200-b915-2b14dc470776\">\n",
              "  <button class=\"colab-df-quickchart\" onclick=\"quickchart('df-2c2c04c1-443a-4200-b915-2b14dc470776')\"\n",
              "            title=\"Suggest charts\"\n",
              "            style=\"display:none;\">\n",
              "\n",
              "<svg xmlns=\"http://www.w3.org/2000/svg\" height=\"24px\"viewBox=\"0 0 24 24\"\n",
              "     width=\"24px\">\n",
              "    <g>\n",
              "        <path d=\"M19 3H5c-1.1 0-2 .9-2 2v14c0 1.1.9 2 2 2h14c1.1 0 2-.9 2-2V5c0-1.1-.9-2-2-2zM9 17H7v-7h2v7zm4 0h-2V7h2v10zm4 0h-2v-4h2v4z\"/>\n",
              "    </g>\n",
              "</svg>\n",
              "  </button>\n",
              "\n",
              "<style>\n",
              "  .colab-df-quickchart {\n",
              "      --bg-color: #E8F0FE;\n",
              "      --fill-color: #1967D2;\n",
              "      --hover-bg-color: #E2EBFA;\n",
              "      --hover-fill-color: #174EA6;\n",
              "      --disabled-fill-color: #AAA;\n",
              "      --disabled-bg-color: #DDD;\n",
              "  }\n",
              "\n",
              "  [theme=dark] .colab-df-quickchart {\n",
              "      --bg-color: #3B4455;\n",
              "      --fill-color: #D2E3FC;\n",
              "      --hover-bg-color: #434B5C;\n",
              "      --hover-fill-color: #FFFFFF;\n",
              "      --disabled-bg-color: #3B4455;\n",
              "      --disabled-fill-color: #666;\n",
              "  }\n",
              "\n",
              "  .colab-df-quickchart {\n",
              "    background-color: var(--bg-color);\n",
              "    border: none;\n",
              "    border-radius: 50%;\n",
              "    cursor: pointer;\n",
              "    display: none;\n",
              "    fill: var(--fill-color);\n",
              "    height: 32px;\n",
              "    padding: 0;\n",
              "    width: 32px;\n",
              "  }\n",
              "\n",
              "  .colab-df-quickchart:hover {\n",
              "    background-color: var(--hover-bg-color);\n",
              "    box-shadow: 0 1px 2px rgba(60, 64, 67, 0.3), 0 1px 3px 1px rgba(60, 64, 67, 0.15);\n",
              "    fill: var(--button-hover-fill-color);\n",
              "  }\n",
              "\n",
              "  .colab-df-quickchart-complete:disabled,\n",
              "  .colab-df-quickchart-complete:disabled:hover {\n",
              "    background-color: var(--disabled-bg-color);\n",
              "    fill: var(--disabled-fill-color);\n",
              "    box-shadow: none;\n",
              "  }\n",
              "\n",
              "  .colab-df-spinner {\n",
              "    border: 2px solid var(--fill-color);\n",
              "    border-color: transparent;\n",
              "    border-bottom-color: var(--fill-color);\n",
              "    animation:\n",
              "      spin 1s steps(1) infinite;\n",
              "  }\n",
              "\n",
              "  @keyframes spin {\n",
              "    0% {\n",
              "      border-color: transparent;\n",
              "      border-bottom-color: var(--fill-color);\n",
              "      border-left-color: var(--fill-color);\n",
              "    }\n",
              "    20% {\n",
              "      border-color: transparent;\n",
              "      border-left-color: var(--fill-color);\n",
              "      border-top-color: var(--fill-color);\n",
              "    }\n",
              "    30% {\n",
              "      border-color: transparent;\n",
              "      border-left-color: var(--fill-color);\n",
              "      border-top-color: var(--fill-color);\n",
              "      border-right-color: var(--fill-color);\n",
              "    }\n",
              "    40% {\n",
              "      border-color: transparent;\n",
              "      border-right-color: var(--fill-color);\n",
              "      border-top-color: var(--fill-color);\n",
              "    }\n",
              "    60% {\n",
              "      border-color: transparent;\n",
              "      border-right-color: var(--fill-color);\n",
              "    }\n",
              "    80% {\n",
              "      border-color: transparent;\n",
              "      border-right-color: var(--fill-color);\n",
              "      border-bottom-color: var(--fill-color);\n",
              "    }\n",
              "    90% {\n",
              "      border-color: transparent;\n",
              "      border-bottom-color: var(--fill-color);\n",
              "    }\n",
              "  }\n",
              "</style>\n",
              "\n",
              "  <script>\n",
              "    async function quickchart(key) {\n",
              "      const quickchartButtonEl =\n",
              "        document.querySelector('#' + key + ' button');\n",
              "      quickchartButtonEl.disabled = true;  // To prevent multiple clicks.\n",
              "      quickchartButtonEl.classList.add('colab-df-spinner');\n",
              "      try {\n",
              "        const charts = await google.colab.kernel.invokeFunction(\n",
              "            'suggestCharts', [key], {});\n",
              "      } catch (error) {\n",
              "        console.error('Error during call to suggestCharts:', error);\n",
              "      }\n",
              "      quickchartButtonEl.classList.remove('colab-df-spinner');\n",
              "      quickchartButtonEl.classList.add('colab-df-quickchart-complete');\n",
              "    }\n",
              "    (() => {\n",
              "      let quickchartButtonEl =\n",
              "        document.querySelector('#df-2c2c04c1-443a-4200-b915-2b14dc470776 button');\n",
              "      quickchartButtonEl.style.display =\n",
              "        google.colab.kernel.accessAllowed ? 'block' : 'none';\n",
              "    })();\n",
              "  </script>\n",
              "</div>\n",
              "\n",
              "    </div>\n",
              "  </div>\n"
            ],
            "application/vnd.google.colaboratory.intrinsic+json": {
              "type": "dataframe",
              "variable_name": "dataset",
              "summary": "{\n  \"name\": \"dataset\",\n  \"rows\": 47392,\n  \"fields\": [\n    {\n      \"column\": \"label\",\n      \"properties\": {\n        \"dtype\": \"category\",\n        \"num_unique_values\": 2,\n        \"samples\": [\n          \"spam\",\n          \"ham\"\n        ],\n        \"semantic_type\": \"\",\n        \"description\": \"\"\n      }\n    },\n    {\n      \"column\": \"text\",\n      \"properties\": {\n        \"dtype\": \"string\",\n        \"num_unique_values\": 44568,\n        \"samples\": [\n          \"more then 70 great pornstars sex movles dowlnoad all our collection x 646 cum witness the most extreme sexual achievements ever to be found on the net we have tons of exclusive never before seen pics and videos of your fav pornstars doing exactly what you dream to see do you think you have what it takes to beat one of our records we welcome all member entries cum see if you have what it takes to earn a spot in our record library http uxm 5 info lediesnight biz checkbook dahomey canaveral belgrade affiliate carven armillaria baneberry brown brasilia collier demarcate\",\n          \"dear all , attached is anjam ' s reasoning and final version of the uk ppi pllu model . the uk inflation book ' s main exposure is to two ppi indexes - the pllu and the dzcv through year 2010 . both are ppi output indexes with very comparable baskets . the only significant difference between the two is the presence of energy in the pllu ( 7 . 6 % ) . the model in use escalates the two indexes by the same factors . however , with the energy price fluctuations in recent years different models for the two indexes would reflect better the nature of their drivers . anjam concentrated on the pllu index first and he will shortly construct one for the dzcv based on the same methodology , but without the brent crude curve . the new model achieves the two main objectives of the ppi curve : it is significantly more robust and stable than the existing one , and it is considerably less sensitive to the input coefficients . this will result in us having more confidence in our monthly p & l as well as less fluctuations . best regards , martina x 34327 anjam ahmad 10 / 03 / 2000 11 : 59 to : martina angelova / lon / ect @ ect cc : subject : new update on ppi model for inflation book dear all , i followed up on the suggestions of happening babe at the conference call as follows : - 1 ) use less data unfortunately , kicking out only 1990 makes the overall equation a lot less robust , in fact dramatically so , and so eliminates the possibility of using less data . the model tested was the rpi ( month + 15 ) ppi pre - empts the moves in rpi by about 8 months . the magnitude of the oscillations is also reduced . this shows that if we had more detail in our rpi forward curve , then the ppi model would reflect those peaks and humps adequately . conclusion i therefore propose that we use the model that incorporates rpi , rpi [ t + 15 ] and deviations of brent crude from long - term average . the new model is plotted below in burgundy and can be compared to the old ppi which is depicted in blue . please note that all this analysis only applies to pllu , and that a separate study will be needed for the dzcv ppi index . regards , anjam x 35383 - - - - - - - - - - - - - - - - - - - - - - forwarded by anjam ahmad / lon / ect on 09 / 03 / 2000 16 : 52 - - - - - - - - - - - - - - - - - - - - - - - - - - - anjam ahmad 08 / 03 / 2000 14 : 03 to : martina angelova / lon / ect @ ect , harry arora / hou / ect @ ect , maureen raymond / hou / ect @ ect , zimin lu / hou / ect @ ect , farouk lalji / hou / ect @ ect cc : trena mcfarland / lon / ect @ ect , dale surbey / lon / ect @ ect , stinson gibner / hou / ect @ ect , vince j kaminski / hou / ect @ ect , leandro ibasco / corp / enron @ enron subject : update on ppi model for inflation book dear all , we thought it might be useful to incorporate brent crude as an explanatory variable for ppi ; it was found that deviations of dated brent crude from the long - term average of $ 18 . 80 was the best form of the variable to use ( for predictions the brent forward curve produced by the global products group is used ) . the three new equations developed were : - pllu ( t ) = a . rpi ( t ) + b . rpi ( t + n ) + c . ( datedbrentcrude - 18 . 8 ) + constant , where n is 14 , 15 or 16 [ reddish curves ] r - squared approx 0 . 49 f - stat approx 32 the chart below shows what our projected pllu curve would be given this equation , and also the three best relations from before which were based upon current and future rpi : pllu ( t ) = a . rpi ( t ) + b . rpi ( t + n ) + constant , where n is 14 , 15 or 16 [ greenish curves ] r - squared approx 0 . 47 f - stat approx 45 comparison of models as you can see , the two equations differ in the very short - term and very long - term ; the inclusion of deviations of brent crude leads to short - term predictions of 3 . 0 % to 3 . 2 % over the next six months . the greenish curves predict pllu in the range of 2 . 5 % to 2 . 8 % over the next six months . the curves are then very similar until 2009 , when the models including crude break - away to the upside , relative to the falling rpi curve . the model based purely on rpi hugs the rpi curve much more closely in the longer term . this is only important to the extent that we have large positions beyond 2009 ( which we don ' t ) . suggestion what could be useful now is a differently - specified model designed to forecast only the next 3 months , using auto - regressive or auto - regressive error terms . this model would be far more accurate in the near - term , and we could include this information onto the front of this long - term model . this may be useful , despite the fact that most of our exposure is in future time buckets . back - testing all the models give similar visual and statistical performance over the data sample used ( based mainly on 1990 s \\\" new paradigm \\\" economy ) . hopefully we can discuss these and other points later in the tele - conference ; your ideas on this would be appreciated . regards , anjam x 35383\"\n        ],\n        \"semantic_type\": \"\",\n        \"description\": \"\"\n      }\n    }\n  ]\n}"
            }
          },
          "metadata": {},
          "execution_count": 3
        }
      ],
      "source": [
        "# Load the CSV file\n",
        "dataset = pd.read_csv('spam_messages.csv', index_col=False, encoding = 'latin-1')\n",
        "\n",
        "# Display the shape of the dataset\n",
        "print('Data shape', dataset.shape)\n",
        "\n",
        "# Display the first 10 messages in the dataset\n",
        "dataset.head(10)"
      ]
    },
    {
      "cell_type": "code",
      "source": [
        "# Replace 0 with 'ham' and 1 with 'spam' in the labels\n",
        "dataset['label'] = dataset['label'].replace({'ham':0, 'spam':1})\n",
        "\n",
        "dataset"
      ],
      "metadata": {
        "colab": {
          "base_uri": "https://localhost:8080/",
          "height": 478
        },
        "id": "HsUmIRXv65v2",
        "outputId": "eb302b89-c13d-4a9e-f676-63553699a8e5"
      },
      "execution_count": null,
      "outputs": [
        {
          "output_type": "stream",
          "name": "stderr",
          "text": [
            "<ipython-input-4-b094fd578c8d>:2: FutureWarning: Downcasting behavior in `replace` is deprecated and will be removed in a future version. To retain the old behavior, explicitly call `result.infer_objects(copy=False)`. To opt-in to the future behavior, set `pd.set_option('future.no_silent_downcasting', True)`\n",
            "  dataset['label'] = dataset['label'].replace({'ham':0, 'spam':1})\n"
          ]
        },
        {
          "output_type": "execute_result",
          "data": {
            "text/plain": [
              "       label                                               text\n",
              "0          0  Funny fact Nobody teaches volcanoes 2 erupt, t...\n",
              "1          0  I sent my scores to sophas and i had to do sec...\n",
              "2          1  We know someone who you know that fancies you....\n",
              "3          0  Only if you promise your getting out as SOON a...\n",
              "4          1  Congratulations ur awarded either ï¿½500 of CD...\n",
              "...      ...                                                ...\n",
              "47387      0  please change the sitara tickets dating back t...\n",
              "47388      1  from mr . silas sankoh ecobank benin rue du go...\n",
              "47389      0  just to get things stirred up : the estate wil...\n",
              "47390      0  sorry for the oversight . bill - - - - - origi...\n",
              "47391      1  executive hospitality corp ( ehpc ) operator o...\n",
              "\n",
              "[47392 rows x 2 columns]"
            ],
            "text/html": [
              "\n",
              "  <div id=\"df-e256de77-f1fe-44f8-955a-ea708877b15b\" class=\"colab-df-container\">\n",
              "    <div>\n",
              "<style scoped>\n",
              "    .dataframe tbody tr th:only-of-type {\n",
              "        vertical-align: middle;\n",
              "    }\n",
              "\n",
              "    .dataframe tbody tr th {\n",
              "        vertical-align: top;\n",
              "    }\n",
              "\n",
              "    .dataframe thead th {\n",
              "        text-align: right;\n",
              "    }\n",
              "</style>\n",
              "<table border=\"1\" class=\"dataframe\">\n",
              "  <thead>\n",
              "    <tr style=\"text-align: right;\">\n",
              "      <th></th>\n",
              "      <th>label</th>\n",
              "      <th>text</th>\n",
              "    </tr>\n",
              "  </thead>\n",
              "  <tbody>\n",
              "    <tr>\n",
              "      <th>0</th>\n",
              "      <td>0</td>\n",
              "      <td>Funny fact Nobody teaches volcanoes 2 erupt, t...</td>\n",
              "    </tr>\n",
              "    <tr>\n",
              "      <th>1</th>\n",
              "      <td>0</td>\n",
              "      <td>I sent my scores to sophas and i had to do sec...</td>\n",
              "    </tr>\n",
              "    <tr>\n",
              "      <th>2</th>\n",
              "      <td>1</td>\n",
              "      <td>We know someone who you know that fancies you....</td>\n",
              "    </tr>\n",
              "    <tr>\n",
              "      <th>3</th>\n",
              "      <td>0</td>\n",
              "      <td>Only if you promise your getting out as SOON a...</td>\n",
              "    </tr>\n",
              "    <tr>\n",
              "      <th>4</th>\n",
              "      <td>1</td>\n",
              "      <td>Congratulations ur awarded either ï¿½500 of CD...</td>\n",
              "    </tr>\n",
              "    <tr>\n",
              "      <th>...</th>\n",
              "      <td>...</td>\n",
              "      <td>...</td>\n",
              "    </tr>\n",
              "    <tr>\n",
              "      <th>47387</th>\n",
              "      <td>0</td>\n",
              "      <td>please change the sitara tickets dating back t...</td>\n",
              "    </tr>\n",
              "    <tr>\n",
              "      <th>47388</th>\n",
              "      <td>1</td>\n",
              "      <td>from mr . silas sankoh ecobank benin rue du go...</td>\n",
              "    </tr>\n",
              "    <tr>\n",
              "      <th>47389</th>\n",
              "      <td>0</td>\n",
              "      <td>just to get things stirred up : the estate wil...</td>\n",
              "    </tr>\n",
              "    <tr>\n",
              "      <th>47390</th>\n",
              "      <td>0</td>\n",
              "      <td>sorry for the oversight . bill - - - - - origi...</td>\n",
              "    </tr>\n",
              "    <tr>\n",
              "      <th>47391</th>\n",
              "      <td>1</td>\n",
              "      <td>executive hospitality corp ( ehpc ) operator o...</td>\n",
              "    </tr>\n",
              "  </tbody>\n",
              "</table>\n",
              "<p>47392 rows × 2 columns</p>\n",
              "</div>\n",
              "    <div class=\"colab-df-buttons\">\n",
              "\n",
              "  <div class=\"colab-df-container\">\n",
              "    <button class=\"colab-df-convert\" onclick=\"convertToInteractive('df-e256de77-f1fe-44f8-955a-ea708877b15b')\"\n",
              "            title=\"Convert this dataframe to an interactive table.\"\n",
              "            style=\"display:none;\">\n",
              "\n",
              "  <svg xmlns=\"http://www.w3.org/2000/svg\" height=\"24px\" viewBox=\"0 -960 960 960\">\n",
              "    <path d=\"M120-120v-720h720v720H120Zm60-500h600v-160H180v160Zm220 220h160v-160H400v160Zm0 220h160v-160H400v160ZM180-400h160v-160H180v160Zm440 0h160v-160H620v160ZM180-180h160v-160H180v160Zm440 0h160v-160H620v160Z\"/>\n",
              "  </svg>\n",
              "    </button>\n",
              "\n",
              "  <style>\n",
              "    .colab-df-container {\n",
              "      display:flex;\n",
              "      gap: 12px;\n",
              "    }\n",
              "\n",
              "    .colab-df-convert {\n",
              "      background-color: #E8F0FE;\n",
              "      border: none;\n",
              "      border-radius: 50%;\n",
              "      cursor: pointer;\n",
              "      display: none;\n",
              "      fill: #1967D2;\n",
              "      height: 32px;\n",
              "      padding: 0 0 0 0;\n",
              "      width: 32px;\n",
              "    }\n",
              "\n",
              "    .colab-df-convert:hover {\n",
              "      background-color: #E2EBFA;\n",
              "      box-shadow: 0px 1px 2px rgba(60, 64, 67, 0.3), 0px 1px 3px 1px rgba(60, 64, 67, 0.15);\n",
              "      fill: #174EA6;\n",
              "    }\n",
              "\n",
              "    .colab-df-buttons div {\n",
              "      margin-bottom: 4px;\n",
              "    }\n",
              "\n",
              "    [theme=dark] .colab-df-convert {\n",
              "      background-color: #3B4455;\n",
              "      fill: #D2E3FC;\n",
              "    }\n",
              "\n",
              "    [theme=dark] .colab-df-convert:hover {\n",
              "      background-color: #434B5C;\n",
              "      box-shadow: 0px 1px 3px 1px rgba(0, 0, 0, 0.15);\n",
              "      filter: drop-shadow(0px 1px 2px rgba(0, 0, 0, 0.3));\n",
              "      fill: #FFFFFF;\n",
              "    }\n",
              "  </style>\n",
              "\n",
              "    <script>\n",
              "      const buttonEl =\n",
              "        document.querySelector('#df-e256de77-f1fe-44f8-955a-ea708877b15b button.colab-df-convert');\n",
              "      buttonEl.style.display =\n",
              "        google.colab.kernel.accessAllowed ? 'block' : 'none';\n",
              "\n",
              "      async function convertToInteractive(key) {\n",
              "        const element = document.querySelector('#df-e256de77-f1fe-44f8-955a-ea708877b15b');\n",
              "        const dataTable =\n",
              "          await google.colab.kernel.invokeFunction('convertToInteractive',\n",
              "                                                    [key], {});\n",
              "        if (!dataTable) return;\n",
              "\n",
              "        const docLinkHtml = 'Like what you see? Visit the ' +\n",
              "          '<a target=\"_blank\" href=https://colab.research.google.com/notebooks/data_table.ipynb>data table notebook</a>'\n",
              "          + ' to learn more about interactive tables.';\n",
              "        element.innerHTML = '';\n",
              "        dataTable['output_type'] = 'display_data';\n",
              "        await google.colab.output.renderOutput(dataTable, element);\n",
              "        const docLink = document.createElement('div');\n",
              "        docLink.innerHTML = docLinkHtml;\n",
              "        element.appendChild(docLink);\n",
              "      }\n",
              "    </script>\n",
              "  </div>\n",
              "\n",
              "\n",
              "<div id=\"df-a98fa658-afe0-4152-9bf3-7d83fcbdd6f5\">\n",
              "  <button class=\"colab-df-quickchart\" onclick=\"quickchart('df-a98fa658-afe0-4152-9bf3-7d83fcbdd6f5')\"\n",
              "            title=\"Suggest charts\"\n",
              "            style=\"display:none;\">\n",
              "\n",
              "<svg xmlns=\"http://www.w3.org/2000/svg\" height=\"24px\"viewBox=\"0 0 24 24\"\n",
              "     width=\"24px\">\n",
              "    <g>\n",
              "        <path d=\"M19 3H5c-1.1 0-2 .9-2 2v14c0 1.1.9 2 2 2h14c1.1 0 2-.9 2-2V5c0-1.1-.9-2-2-2zM9 17H7v-7h2v7zm4 0h-2V7h2v10zm4 0h-2v-4h2v4z\"/>\n",
              "    </g>\n",
              "</svg>\n",
              "  </button>\n",
              "\n",
              "<style>\n",
              "  .colab-df-quickchart {\n",
              "      --bg-color: #E8F0FE;\n",
              "      --fill-color: #1967D2;\n",
              "      --hover-bg-color: #E2EBFA;\n",
              "      --hover-fill-color: #174EA6;\n",
              "      --disabled-fill-color: #AAA;\n",
              "      --disabled-bg-color: #DDD;\n",
              "  }\n",
              "\n",
              "  [theme=dark] .colab-df-quickchart {\n",
              "      --bg-color: #3B4455;\n",
              "      --fill-color: #D2E3FC;\n",
              "      --hover-bg-color: #434B5C;\n",
              "      --hover-fill-color: #FFFFFF;\n",
              "      --disabled-bg-color: #3B4455;\n",
              "      --disabled-fill-color: #666;\n",
              "  }\n",
              "\n",
              "  .colab-df-quickchart {\n",
              "    background-color: var(--bg-color);\n",
              "    border: none;\n",
              "    border-radius: 50%;\n",
              "    cursor: pointer;\n",
              "    display: none;\n",
              "    fill: var(--fill-color);\n",
              "    height: 32px;\n",
              "    padding: 0;\n",
              "    width: 32px;\n",
              "  }\n",
              "\n",
              "  .colab-df-quickchart:hover {\n",
              "    background-color: var(--hover-bg-color);\n",
              "    box-shadow: 0 1px 2px rgba(60, 64, 67, 0.3), 0 1px 3px 1px rgba(60, 64, 67, 0.15);\n",
              "    fill: var(--button-hover-fill-color);\n",
              "  }\n",
              "\n",
              "  .colab-df-quickchart-complete:disabled,\n",
              "  .colab-df-quickchart-complete:disabled:hover {\n",
              "    background-color: var(--disabled-bg-color);\n",
              "    fill: var(--disabled-fill-color);\n",
              "    box-shadow: none;\n",
              "  }\n",
              "\n",
              "  .colab-df-spinner {\n",
              "    border: 2px solid var(--fill-color);\n",
              "    border-color: transparent;\n",
              "    border-bottom-color: var(--fill-color);\n",
              "    animation:\n",
              "      spin 1s steps(1) infinite;\n",
              "  }\n",
              "\n",
              "  @keyframes spin {\n",
              "    0% {\n",
              "      border-color: transparent;\n",
              "      border-bottom-color: var(--fill-color);\n",
              "      border-left-color: var(--fill-color);\n",
              "    }\n",
              "    20% {\n",
              "      border-color: transparent;\n",
              "      border-left-color: var(--fill-color);\n",
              "      border-top-color: var(--fill-color);\n",
              "    }\n",
              "    30% {\n",
              "      border-color: transparent;\n",
              "      border-left-color: var(--fill-color);\n",
              "      border-top-color: var(--fill-color);\n",
              "      border-right-color: var(--fill-color);\n",
              "    }\n",
              "    40% {\n",
              "      border-color: transparent;\n",
              "      border-right-color: var(--fill-color);\n",
              "      border-top-color: var(--fill-color);\n",
              "    }\n",
              "    60% {\n",
              "      border-color: transparent;\n",
              "      border-right-color: var(--fill-color);\n",
              "    }\n",
              "    80% {\n",
              "      border-color: transparent;\n",
              "      border-right-color: var(--fill-color);\n",
              "      border-bottom-color: var(--fill-color);\n",
              "    }\n",
              "    90% {\n",
              "      border-color: transparent;\n",
              "      border-bottom-color: var(--fill-color);\n",
              "    }\n",
              "  }\n",
              "</style>\n",
              "\n",
              "  <script>\n",
              "    async function quickchart(key) {\n",
              "      const quickchartButtonEl =\n",
              "        document.querySelector('#' + key + ' button');\n",
              "      quickchartButtonEl.disabled = true;  // To prevent multiple clicks.\n",
              "      quickchartButtonEl.classList.add('colab-df-spinner');\n",
              "      try {\n",
              "        const charts = await google.colab.kernel.invokeFunction(\n",
              "            'suggestCharts', [key], {});\n",
              "      } catch (error) {\n",
              "        console.error('Error during call to suggestCharts:', error);\n",
              "      }\n",
              "      quickchartButtonEl.classList.remove('colab-df-spinner');\n",
              "      quickchartButtonEl.classList.add('colab-df-quickchart-complete');\n",
              "    }\n",
              "    (() => {\n",
              "      let quickchartButtonEl =\n",
              "        document.querySelector('#df-a98fa658-afe0-4152-9bf3-7d83fcbdd6f5 button');\n",
              "      quickchartButtonEl.style.display =\n",
              "        google.colab.kernel.accessAllowed ? 'block' : 'none';\n",
              "    })();\n",
              "  </script>\n",
              "</div>\n",
              "\n",
              "  <div id=\"id_702de198-e2a9-4fd4-99c5-4f48418b7329\">\n",
              "    <style>\n",
              "      .colab-df-generate {\n",
              "        background-color: #E8F0FE;\n",
              "        border: none;\n",
              "        border-radius: 50%;\n",
              "        cursor: pointer;\n",
              "        display: none;\n",
              "        fill: #1967D2;\n",
              "        height: 32px;\n",
              "        padding: 0 0 0 0;\n",
              "        width: 32px;\n",
              "      }\n",
              "\n",
              "      .colab-df-generate:hover {\n",
              "        background-color: #E2EBFA;\n",
              "        box-shadow: 0px 1px 2px rgba(60, 64, 67, 0.3), 0px 1px 3px 1px rgba(60, 64, 67, 0.15);\n",
              "        fill: #174EA6;\n",
              "      }\n",
              "\n",
              "      [theme=dark] .colab-df-generate {\n",
              "        background-color: #3B4455;\n",
              "        fill: #D2E3FC;\n",
              "      }\n",
              "\n",
              "      [theme=dark] .colab-df-generate:hover {\n",
              "        background-color: #434B5C;\n",
              "        box-shadow: 0px 1px 3px 1px rgba(0, 0, 0, 0.15);\n",
              "        filter: drop-shadow(0px 1px 2px rgba(0, 0, 0, 0.3));\n",
              "        fill: #FFFFFF;\n",
              "      }\n",
              "    </style>\n",
              "    <button class=\"colab-df-generate\" onclick=\"generateWithVariable('dataset')\"\n",
              "            title=\"Generate code using this dataframe.\"\n",
              "            style=\"display:none;\">\n",
              "\n",
              "  <svg xmlns=\"http://www.w3.org/2000/svg\" height=\"24px\"viewBox=\"0 0 24 24\"\n",
              "       width=\"24px\">\n",
              "    <path d=\"M7,19H8.4L18.45,9,17,7.55,7,17.6ZM5,21V16.75L18.45,3.32a2,2,0,0,1,2.83,0l1.4,1.43a1.91,1.91,0,0,1,.58,1.4,1.91,1.91,0,0,1-.58,1.4L9.25,21ZM18.45,9,17,7.55Zm-12,3A5.31,5.31,0,0,0,4.9,8.1,5.31,5.31,0,0,0,1,6.5,5.31,5.31,0,0,0,4.9,4.9,5.31,5.31,0,0,0,6.5,1,5.31,5.31,0,0,0,8.1,4.9,5.31,5.31,0,0,0,12,6.5,5.46,5.46,0,0,0,6.5,12Z\"/>\n",
              "  </svg>\n",
              "    </button>\n",
              "    <script>\n",
              "      (() => {\n",
              "      const buttonEl =\n",
              "        document.querySelector('#id_702de198-e2a9-4fd4-99c5-4f48418b7329 button.colab-df-generate');\n",
              "      buttonEl.style.display =\n",
              "        google.colab.kernel.accessAllowed ? 'block' : 'none';\n",
              "\n",
              "      buttonEl.onclick = () => {\n",
              "        google.colab.notebook.generateWithVariable('dataset');\n",
              "      }\n",
              "      })();\n",
              "    </script>\n",
              "  </div>\n",
              "\n",
              "    </div>\n",
              "  </div>\n"
            ],
            "application/vnd.google.colaboratory.intrinsic+json": {
              "type": "dataframe",
              "variable_name": "dataset",
              "summary": "{\n  \"name\": \"dataset\",\n  \"rows\": 47392,\n  \"fields\": [\n    {\n      \"column\": \"label\",\n      \"properties\": {\n        \"dtype\": \"number\",\n        \"std\": 0,\n        \"min\": 0,\n        \"max\": 1,\n        \"num_unique_values\": 2,\n        \"samples\": [\n          1,\n          0\n        ],\n        \"semantic_type\": \"\",\n        \"description\": \"\"\n      }\n    },\n    {\n      \"column\": \"text\",\n      \"properties\": {\n        \"dtype\": \"string\",\n        \"num_unique_values\": 44568,\n        \"samples\": [\n          \"more then 70 great pornstars sex movles dowlnoad all our collection x 646 cum witness the most extreme sexual achievements ever to be found on the net we have tons of exclusive never before seen pics and videos of your fav pornstars doing exactly what you dream to see do you think you have what it takes to beat one of our records we welcome all member entries cum see if you have what it takes to earn a spot in our record library http uxm 5 info lediesnight biz checkbook dahomey canaveral belgrade affiliate carven armillaria baneberry brown brasilia collier demarcate\",\n          \"dear all , attached is anjam ' s reasoning and final version of the uk ppi pllu model . the uk inflation book ' s main exposure is to two ppi indexes - the pllu and the dzcv through year 2010 . both are ppi output indexes with very comparable baskets . the only significant difference between the two is the presence of energy in the pllu ( 7 . 6 % ) . the model in use escalates the two indexes by the same factors . however , with the energy price fluctuations in recent years different models for the two indexes would reflect better the nature of their drivers . anjam concentrated on the pllu index first and he will shortly construct one for the dzcv based on the same methodology , but without the brent crude curve . the new model achieves the two main objectives of the ppi curve : it is significantly more robust and stable than the existing one , and it is considerably less sensitive to the input coefficients . this will result in us having more confidence in our monthly p & l as well as less fluctuations . best regards , martina x 34327 anjam ahmad 10 / 03 / 2000 11 : 59 to : martina angelova / lon / ect @ ect cc : subject : new update on ppi model for inflation book dear all , i followed up on the suggestions of happening babe at the conference call as follows : - 1 ) use less data unfortunately , kicking out only 1990 makes the overall equation a lot less robust , in fact dramatically so , and so eliminates the possibility of using less data . the model tested was the rpi ( month + 15 ) ppi pre - empts the moves in rpi by about 8 months . the magnitude of the oscillations is also reduced . this shows that if we had more detail in our rpi forward curve , then the ppi model would reflect those peaks and humps adequately . conclusion i therefore propose that we use the model that incorporates rpi , rpi [ t + 15 ] and deviations of brent crude from long - term average . the new model is plotted below in burgundy and can be compared to the old ppi which is depicted in blue . please note that all this analysis only applies to pllu , and that a separate study will be needed for the dzcv ppi index . regards , anjam x 35383 - - - - - - - - - - - - - - - - - - - - - - forwarded by anjam ahmad / lon / ect on 09 / 03 / 2000 16 : 52 - - - - - - - - - - - - - - - - - - - - - - - - - - - anjam ahmad 08 / 03 / 2000 14 : 03 to : martina angelova / lon / ect @ ect , harry arora / hou / ect @ ect , maureen raymond / hou / ect @ ect , zimin lu / hou / ect @ ect , farouk lalji / hou / ect @ ect cc : trena mcfarland / lon / ect @ ect , dale surbey / lon / ect @ ect , stinson gibner / hou / ect @ ect , vince j kaminski / hou / ect @ ect , leandro ibasco / corp / enron @ enron subject : update on ppi model for inflation book dear all , we thought it might be useful to incorporate brent crude as an explanatory variable for ppi ; it was found that deviations of dated brent crude from the long - term average of $ 18 . 80 was the best form of the variable to use ( for predictions the brent forward curve produced by the global products group is used ) . the three new equations developed were : - pllu ( t ) = a . rpi ( t ) + b . rpi ( t + n ) + c . ( datedbrentcrude - 18 . 8 ) + constant , where n is 14 , 15 or 16 [ reddish curves ] r - squared approx 0 . 49 f - stat approx 32 the chart below shows what our projected pllu curve would be given this equation , and also the three best relations from before which were based upon current and future rpi : pllu ( t ) = a . rpi ( t ) + b . rpi ( t + n ) + constant , where n is 14 , 15 or 16 [ greenish curves ] r - squared approx 0 . 47 f - stat approx 45 comparison of models as you can see , the two equations differ in the very short - term and very long - term ; the inclusion of deviations of brent crude leads to short - term predictions of 3 . 0 % to 3 . 2 % over the next six months . the greenish curves predict pllu in the range of 2 . 5 % to 2 . 8 % over the next six months . the curves are then very similar until 2009 , when the models including crude break - away to the upside , relative to the falling rpi curve . the model based purely on rpi hugs the rpi curve much more closely in the longer term . this is only important to the extent that we have large positions beyond 2009 ( which we don ' t ) . suggestion what could be useful now is a differently - specified model designed to forecast only the next 3 months , using auto - regressive or auto - regressive error terms . this model would be far more accurate in the near - term , and we could include this information onto the front of this long - term model . this may be useful , despite the fact that most of our exposure is in future time buckets . back - testing all the models give similar visual and statistical performance over the data sample used ( based mainly on 1990 s \\\" new paradigm \\\" economy ) . hopefully we can discuss these and other points later in the tele - conference ; your ideas on this would be appreciated . regards , anjam x 35383\"\n        ],\n        \"semantic_type\": \"\",\n        \"description\": \"\"\n      }\n    }\n  ]\n}"
            }
          },
          "metadata": {},
          "execution_count": 4
        }
      ]
    },
    {
      "cell_type": "code",
      "source": [
        "# Define a list with class labels\n",
        "class_names = ['ham', 'spam']"
      ],
      "metadata": {
        "id": "xFQHuVfpI8h2"
      },
      "execution_count": null,
      "outputs": []
    },
    {
      "cell_type": "code",
      "execution_count": null,
      "metadata": {
        "colab": {
          "base_uri": "https://localhost:8080/"
        },
        "id": "HYlf_0C0lnou",
        "outputId": "d05ddef6-c469-4815-f7ac-2986b5c42dfb"
      },
      "outputs": [
        {
          "output_type": "stream",
          "name": "stdout",
          "text": [
            "Funny fact Nobody teaches volcanoes 2 erupt, tsunamis 2 arise, hurricanes 2 sway aroundn no 1 teaches hw 2 choose a wife Natural disasters just happens\n",
            "I sent my scores to sophas and i had to do secondary application for a few schools. I think if you are thinking of applying, do a research on cost also. Contact joke ogunrinde, her school is one me the less expensive ones\n",
            "We know someone who you know that fancies you. Call 09058097218 to find out who. POBox 6, LS15HB 150p\n",
            "Only if you promise your getting out as SOON as you can. And you'll text me in the morning to let me know you made it in ok.\n",
            "I'll text carlos and let you know, hang on\n"
          ]
        }
      ],
      "source": [
        "# Display fully the first few messages (can you guess which one is spam without looking at the label?)\n",
        "print(dataset.iloc[0,1])\n",
        "print(dataset.iloc[1,1])\n",
        "print(dataset.iloc[2,1])\n",
        "print(dataset.iloc[3,1])\n",
        "print(dataset.iloc[5,1])"
      ]
    },
    {
      "cell_type": "code",
      "source": [
        "# Install the datasets library from Hugging Face\n",
        "!pip install -q datasets fsspec"
      ],
      "metadata": {
        "id": "fgcLCVeY7TbW",
        "colab": {
          "base_uri": "https://localhost:8080/"
        },
        "outputId": "c662b71e-da29-4f76-eb16-1180f7e26aaa"
      },
      "execution_count": null,
      "outputs": [
        {
          "output_type": "stream",
          "name": "stdout",
          "text": [
            "\u001b[?25l   \u001b[90m━━━━━━━━━━━━━━━━━━━━━━━━━━━━━━━━━━━━━━━━\u001b[0m \u001b[32m0.0/491.2 kB\u001b[0m \u001b[31m?\u001b[0m eta \u001b[36m-:--:--\u001b[0m\r\u001b[2K   \u001b[90m━━━━━━━━━━━━━━━━━━━━━━━━━━━━━━━━━━━━━━━━\u001b[0m \u001b[32m491.2/491.2 kB\u001b[0m \u001b[31m24.1 MB/s\u001b[0m eta \u001b[36m0:00:00\u001b[0m\n",
            "\u001b[?25h\u001b[?25l   \u001b[90m━━━━━━━━━━━━━━━━━━━━━━━━━━━━━━━━━━━━━━━━\u001b[0m \u001b[32m0.0/183.9 kB\u001b[0m \u001b[31m?\u001b[0m eta \u001b[36m-:--:--\u001b[0m\r\u001b[2K   \u001b[90m━━━━━━━━━━━━━━━━━━━━━━━━━━━━━━━━━━━━━━━━\u001b[0m \u001b[32m183.9/183.9 kB\u001b[0m \u001b[31m14.3 MB/s\u001b[0m eta \u001b[36m0:00:00\u001b[0m\n",
            "\u001b[?25h\u001b[?25l   \u001b[90m━━━━━━━━━━━━━━━━━━━━━━━━━━━━━━━━━━━━━━━━\u001b[0m \u001b[32m0.0/116.3 kB\u001b[0m \u001b[31m?\u001b[0m eta \u001b[36m-:--:--\u001b[0m\r\u001b[2K   \u001b[90m━━━━━━━━━━━━━━━━━━━━━━━━━━━━━━━━━━━━━━━━\u001b[0m \u001b[32m116.3/116.3 kB\u001b[0m \u001b[31m9.5 MB/s\u001b[0m eta \u001b[36m0:00:00\u001b[0m\n",
            "\u001b[?25h\u001b[?25l   \u001b[90m━━━━━━━━━━━━━━━━━━━━━━━━━━━━━━━━━━━━━━━━\u001b[0m \u001b[32m0.0/143.5 kB\u001b[0m \u001b[31m?\u001b[0m eta \u001b[36m-:--:--\u001b[0m\r\u001b[2K   \u001b[90m━━━━━━━━━━━━━━━━━━━━━━━━━━━━━━━━━━━━━━━━\u001b[0m \u001b[32m143.5/143.5 kB\u001b[0m \u001b[31m11.3 MB/s\u001b[0m eta \u001b[36m0:00:00\u001b[0m\n",
            "\u001b[?25h\u001b[?25l   \u001b[90m━━━━━━━━━━━━━━━━━━━━━━━━━━━━━━━━━━━━━━━━\u001b[0m \u001b[32m0.0/194.8 kB\u001b[0m \u001b[31m?\u001b[0m eta \u001b[36m-:--:--\u001b[0m\r\u001b[2K   \u001b[90m━━━━━━━━━━━━━━━━━━━━━━━━━━━━━━━━━━━━━━━━\u001b[0m \u001b[32m194.8/194.8 kB\u001b[0m \u001b[31m16.6 MB/s\u001b[0m eta \u001b[36m0:00:00\u001b[0m\n",
            "\u001b[?25h\u001b[31mERROR: pip's dependency resolver does not currently take into account all the packages that are installed. This behaviour is the source of the following dependency conflicts.\n",
            "torch 2.6.0+cu124 requires nvidia-cublas-cu12==12.4.5.8; platform_system == \"Linux\" and platform_machine == \"x86_64\", but you have nvidia-cublas-cu12 12.5.3.2 which is incompatible.\n",
            "torch 2.6.0+cu124 requires nvidia-cuda-cupti-cu12==12.4.127; platform_system == \"Linux\" and platform_machine == \"x86_64\", but you have nvidia-cuda-cupti-cu12 12.5.82 which is incompatible.\n",
            "torch 2.6.0+cu124 requires nvidia-cuda-nvrtc-cu12==12.4.127; platform_system == \"Linux\" and platform_machine == \"x86_64\", but you have nvidia-cuda-nvrtc-cu12 12.5.82 which is incompatible.\n",
            "torch 2.6.0+cu124 requires nvidia-cuda-runtime-cu12==12.4.127; platform_system == \"Linux\" and platform_machine == \"x86_64\", but you have nvidia-cuda-runtime-cu12 12.5.82 which is incompatible.\n",
            "torch 2.6.0+cu124 requires nvidia-cudnn-cu12==9.1.0.70; platform_system == \"Linux\" and platform_machine == \"x86_64\", but you have nvidia-cudnn-cu12 9.3.0.75 which is incompatible.\n",
            "torch 2.6.0+cu124 requires nvidia-cufft-cu12==11.2.1.3; platform_system == \"Linux\" and platform_machine == \"x86_64\", but you have nvidia-cufft-cu12 11.2.3.61 which is incompatible.\n",
            "torch 2.6.0+cu124 requires nvidia-curand-cu12==10.3.5.147; platform_system == \"Linux\" and platform_machine == \"x86_64\", but you have nvidia-curand-cu12 10.3.6.82 which is incompatible.\n",
            "torch 2.6.0+cu124 requires nvidia-cusolver-cu12==11.6.1.9; platform_system == \"Linux\" and platform_machine == \"x86_64\", but you have nvidia-cusolver-cu12 11.6.3.83 which is incompatible.\n",
            "torch 2.6.0+cu124 requires nvidia-cusparse-cu12==12.3.1.170; platform_system == \"Linux\" and platform_machine == \"x86_64\", but you have nvidia-cusparse-cu12 12.5.1.3 which is incompatible.\n",
            "torch 2.6.0+cu124 requires nvidia-nvjitlink-cu12==12.4.127; platform_system == \"Linux\" and platform_machine == \"x86_64\", but you have nvidia-nvjitlink-cu12 12.5.82 which is incompatible.\n",
            "gcsfs 2025.3.0 requires fsspec==2025.3.0, but you have fsspec 2024.12.0 which is incompatible.\u001b[0m\u001b[31m\n",
            "\u001b[0m"
          ]
        }
      ]
    },
    {
      "cell_type": "code",
      "execution_count": null,
      "metadata": {
        "id": "XWuLb3yylnqy"
      },
      "outputs": [],
      "source": [
        "from datasets import Dataset\n",
        "\n",
        "# Split the dataset into train, test, and validation sets\n",
        "train_data, test_data = train_test_split(dataset, test_size=0.2, random_state=42)\n",
        "train_data, val_data = train_test_split(train_data, test_size=0.1, random_state=42)\n",
        "\n",
        "# create the datasets from pandas dataframes\n",
        "train_dataset = Dataset.from_pandas(train_data)\n",
        "val_dataset = Dataset.from_pandas(val_data)\n",
        "test_dataset = Dataset.from_pandas(test_data)\n",
        "\n",
        "# remove the index column to retain only label and text columns\n",
        "train_dataset = train_dataset.remove_columns([\"__index_level_0__\"])\n",
        "val_dataset  = val_dataset .remove_columns([\"__index_level_0__\"])\n",
        "test_dataset = test_dataset.remove_columns([\"__index_level_0__\"])"
      ]
    },
    {
      "cell_type": "code",
      "source": [
        "# Check the train dataset\n",
        "train_dataset"
      ],
      "metadata": {
        "colab": {
          "base_uri": "https://localhost:8080/"
        },
        "id": "xJgkLqmP7oUM",
        "outputId": "95114af0-3343-4061-afff-50567352b4a8"
      },
      "execution_count": null,
      "outputs": [
        {
          "output_type": "execute_result",
          "data": {
            "text/plain": [
              "Dataset({\n",
              "    features: ['label', 'text'],\n",
              "    num_rows: 34121\n",
              "})"
            ]
          },
          "metadata": {},
          "execution_count": 9
        }
      ]
    },
    {
      "cell_type": "markdown",
      "source": [
        "## Prepare the data for model fitting"
      ],
      "metadata": {
        "id": "8bD53k3g-Bz_"
      }
    },
    {
      "cell_type": "code",
      "source": [
        "from transformers import AutoTokenizer\n",
        "\n",
        "# Tokenizers in Hugging Face are functions that convert input text into numerical format\n",
        "\n",
        "# Load the tokenizer for the model Mobilebert\n",
        "tokenizer = AutoTokenizer.from_pretrained(\"google/mobilebert-uncased\")"
      ],
      "metadata": {
        "id": "LX3FM5E1-Exi",
        "colab": {
          "base_uri": "https://localhost:8080/",
          "height": 113,
          "referenced_widgets": [
            "fd102389a31844848a0e8035d97ee6f3",
            "cfd552f6b3174da4bba75bb67c5f7b93",
            "a001d428a9294d31a3520ac8d824f683",
            "0ebf668901e94d1b93450f8a76896523",
            "73b3461910bb4feca6c91f6538079fe5",
            "8a611c4725af4cef8a39ea7454a79ac9",
            "26f51af8603244afbaaa42334e047cc7",
            "857bad8a7f7b4e48ab15f65bedbebc34",
            "f813b976dc714b12b17d10eb025a731a",
            "11265f452d6d49a5ad2005c99bf189b0",
            "2f55e8aa60f745e2a31c51761d725790",
            "eaca84486dfd4f8da4531698e5aa52ba",
            "b36bbe04916f4ac9a6ad61a95a5fcbe4",
            "7d27b7d0fe764373b61b2d2fbe9c322d",
            "4971a15376764417955c7710ed1894ce",
            "eb10c4ae7d2b42888bc2983d5361abbe",
            "a9f6064b6fa74427b04871806f0fe05a",
            "a8bdd95669124735bcaa4255cfeb7a29",
            "ebd2ad9ede9442fea5c0e2058f96a76c",
            "0eaab52256994d06ac7aaf04adb2589b",
            "0d29542c6e57458aa82112c53acf68aa",
            "0c9cf37a1fcb48e1935c01bc34f0cf6e",
            "19eccfeed7414dccad37abad0e721778",
            "5913075a3192481982bba9fdea97844e",
            "cb73e086fbc54337955c55d96b587db0",
            "c2cd73175ba54473bc0d51d68fb1ffa2",
            "e62f66b175a94947bd5d230d7098ce42",
            "bf2b842b50a54bf29fa8320c736122d0",
            "77e7283305394659b07c368afd7da9c9",
            "2b96e87f44dc464fbda1fd37dbf2a3d6",
            "a7c28381343d48cab221cac03710dcae",
            "c2a82fc65f41492da5543875fb5501ee",
            "eddc964164f343c1bd5c0bb61d6b365f"
          ]
        },
        "outputId": "80037a90-17fe-4981-e2cb-bd26ad9c360d"
      },
      "execution_count": null,
      "outputs": [
        {
          "output_type": "display_data",
          "data": {
            "text/plain": [
              "config.json:   0%|          | 0.00/847 [00:00<?, ?B/s]"
            ],
            "application/vnd.jupyter.widget-view+json": {
              "version_major": 2,
              "version_minor": 0,
              "model_id": "fd102389a31844848a0e8035d97ee6f3"
            }
          },
          "metadata": {}
        },
        {
          "output_type": "display_data",
          "data": {
            "text/plain": [
              "vocab.txt:   0%|          | 0.00/232k [00:00<?, ?B/s]"
            ],
            "application/vnd.jupyter.widget-view+json": {
              "version_major": 2,
              "version_minor": 0,
              "model_id": "eaca84486dfd4f8da4531698e5aa52ba"
            }
          },
          "metadata": {}
        },
        {
          "output_type": "display_data",
          "data": {
            "text/plain": [
              "tokenizer.json:   0%|          | 0.00/466k [00:00<?, ?B/s]"
            ],
            "application/vnd.jupyter.widget-view+json": {
              "version_major": 2,
              "version_minor": 0,
              "model_id": "19eccfeed7414dccad37abad0e721778"
            }
          },
          "metadata": {}
        }
      ]
    },
    {
      "cell_type": "code",
      "source": [
        "# Create a function to use the loaded tokenizer and convert the text into numercial format\n",
        "def tokenize(rows):\n",
        "  return tokenizer(rows['text'], padding=\"max_length\", truncation=True, max_length=128)"
      ],
      "metadata": {
        "id": "nHevivLq-MWL"
      },
      "execution_count": null,
      "outputs": []
    },
    {
      "cell_type": "code",
      "source": [
        "# Tokenize the training, validation, and test datasets\n",
        "tokenized_train_dataset = train_dataset.map(tokenize, batched=True)\n",
        "tokenized_val_dataset = val_dataset.map(tokenize, batched=True)\n",
        "tokenized_test_dataset =  test_dataset.map(tokenize, batched=True)"
      ],
      "metadata": {
        "id": "cjEnTQzG-PM_",
        "colab": {
          "base_uri": "https://localhost:8080/",
          "height": 113,
          "referenced_widgets": [
            "3d2c1cd8b4c2450d9cef5858be652d1b",
            "6dfce5d5d32e461eb381666c07476117",
            "3e7dbe4d194d42cdb8c9769edad7df3a",
            "6311a081d9c840e5a6deac78c7a3e307",
            "5e15c4d1cd1c4737bf534831905b7502",
            "a8fcee3e19af4f469f2070e517750d82",
            "3c0eae1d9b4f4788bbe8eec561ec6ac9",
            "96ecc3a8f8604f58ace19e22b3677cf7",
            "570dc2a5c4e44473844d32ed282e9ce1",
            "89b788aa4d4d4762b8c6ed1417007ec4",
            "ac03e264d39e42839abd20d5a3e59caf",
            "c3b8a2979841438193cc278a2587b450",
            "cc31785aa21349c6895f24b79dd701a6",
            "859fae10f7b74b22863753930ef564b1",
            "9cd08a771a5c4a8e9a5682a3164ce6c0",
            "b50b90aadb0944edbe4b0d1f38467cac",
            "f3fd90b7c3eb48858e415b48f781234f",
            "de360e44c5fa45f9a1fd899303aa15ea",
            "395d45a7047b4441aebb27465019e0f3",
            "98782f579f1445c79d7228e7f3c3ccc5",
            "19b2b61d623e415dad5b7650c75af04a",
            "5a29ba63e6c94d38a57027ca387efe04",
            "1cabe2ee0e0c45b4aa2cefb9c77f0dc5",
            "c9987193b9244a748b43e4016e30ed9a",
            "c82a72638a824fef9425ace1b7b8f039",
            "10bd840d08574da5a95643821767de0f",
            "f5306b128cf6484a95e024624961156a",
            "1a9323adb26c460cb2d91bc9613b223c",
            "0e458fecb01d4ea79230a8b3110de429",
            "22817fc39a234deab4d3c4a6de22c9f3",
            "5d930ea8be094d80a0720f324821cfb3",
            "e4910a19b7f74bb8bf4bdea5aaf55590",
            "90ae0f3c0dc54cdbba5b7a349d2d6f0e"
          ]
        },
        "outputId": "97ed8f82-eb14-4a72-dadd-40a5a8763060"
      },
      "execution_count": null,
      "outputs": [
        {
          "output_type": "display_data",
          "data": {
            "text/plain": [
              "Map:   0%|          | 0/34121 [00:00<?, ? examples/s]"
            ],
            "application/vnd.jupyter.widget-view+json": {
              "version_major": 2,
              "version_minor": 0,
              "model_id": "3d2c1cd8b4c2450d9cef5858be652d1b"
            }
          },
          "metadata": {}
        },
        {
          "output_type": "display_data",
          "data": {
            "text/plain": [
              "Map:   0%|          | 0/3792 [00:00<?, ? examples/s]"
            ],
            "application/vnd.jupyter.widget-view+json": {
              "version_major": 2,
              "version_minor": 0,
              "model_id": "c3b8a2979841438193cc278a2587b450"
            }
          },
          "metadata": {}
        },
        {
          "output_type": "display_data",
          "data": {
            "text/plain": [
              "Map:   0%|          | 0/9479 [00:00<?, ? examples/s]"
            ],
            "application/vnd.jupyter.widget-view+json": {
              "version_major": 2,
              "version_minor": 0,
              "model_id": "1cabe2ee0e0c45b4aa2cefb9c77f0dc5"
            }
          },
          "metadata": {}
        }
      ]
    },
    {
      "cell_type": "markdown",
      "source": [
        "## Import a pretrained model"
      ],
      "metadata": {
        "id": "T0RwSt18-XWh"
      }
    },
    {
      "cell_type": "code",
      "source": [
        "from transformers import AutoModelForSequenceClassification\n",
        "\n",
        "# Import the Distilbert model and specify the number of classes\n",
        "model = AutoModelForSequenceClassification.from_pretrained(\"google/mobilebert-uncased\", num_labels=2)"
      ],
      "metadata": {
        "id": "ImEQgLj8-Vqe",
        "colab": {
          "base_uri": "https://localhost:8080/",
          "height": 84,
          "referenced_widgets": [
            "f2c7fab180064a0d93f3f267ba76e3ab",
            "b3a641feac484931b2aeb4cd210bec87",
            "888cec6f655a44b7b0d4c8fe825064a6",
            "3ef3b022d717491f915d68c8916de474",
            "3e737ad29bc24a0982f2432f8ecafc86",
            "28b3898ad74c422abb0c3c1db8e4ee9b",
            "613d4bd781314a09b66d073f99171a54",
            "de17f3e2a0994e64a394bba96cc1c3e3",
            "acbd6db464a94e1a8bdd5cd20e26f15a",
            "7bc493060bf74fd7b078caf65175f8fb",
            "dd20304108a1403f9a5d3d4ad9982779"
          ]
        },
        "outputId": "a65cac1f-d15b-40d4-d7fe-604f449097cd"
      },
      "execution_count": null,
      "outputs": [
        {
          "output_type": "display_data",
          "data": {
            "text/plain": [
              "pytorch_model.bin:   0%|          | 0.00/147M [00:00<?, ?B/s]"
            ],
            "application/vnd.jupyter.widget-view+json": {
              "version_major": 2,
              "version_minor": 0,
              "model_id": "f2c7fab180064a0d93f3f267ba76e3ab"
            }
          },
          "metadata": {}
        },
        {
          "output_type": "stream",
          "name": "stderr",
          "text": [
            "Some weights of MobileBertForSequenceClassification were not initialized from the model checkpoint at google/mobilebert-uncased and are newly initialized: ['classifier.bias', 'classifier.weight']\n",
            "You should probably TRAIN this model on a down-stream task to be able to use it for predictions and inference.\n"
          ]
        }
      ]
    },
    {
      "cell_type": "markdown",
      "source": [
        "## Train the model"
      ],
      "metadata": {
        "id": "3vlv1Njj-aXD"
      }
    },
    {
      "cell_type": "code",
      "source": [
        "from transformers import TrainingArguments\n",
        "\n",
        "# Define training arguments for the model\n",
        "training_args = TrainingArguments(\n",
        "    # Directory to save model checkpoints and logs\n",
        "    output_dir=\"distilbert-emotion\",\n",
        "    # Evaluation strategy - evaluate the model at the end of each epoch\n",
        "    eval_strategy=\"epoch\",\n",
        "    # Learning rate for the optimizer\n",
        "    learning_rate=2e-5,\n",
        "    # Batch size for training\n",
        "    per_device_train_batch_size=64,\n",
        "    # Batch size for evaluation\n",
        "    per_device_eval_batch_size=64,\n",
        "    # Number of training epochs\n",
        "    num_train_epochs=2,\n",
        "    # Weight decay to apply for regularization\n",
        "    weight_decay=0.01,\n",
        "    # Disable reporting to external tools (e.g., WandB, TensorBoard)\n",
        "    report_to=\"none\"\n",
        ")"
      ],
      "metadata": {
        "id": "mKZ44uIa-cMQ"
      },
      "execution_count": null,
      "outputs": []
    },
    {
      "cell_type": "code",
      "source": [
        "from sklearn.metrics import accuracy_score\n",
        "\n",
        "# Function to compute metrics during training\n",
        "def compute_metrics(eval_pred):\n",
        "    outputs, labels = eval_pred\n",
        "    predictions = outputs.argmax(axis=-1)\n",
        "    acc = accuracy_score(labels, predictions)\n",
        "    return {\"accuracy\": acc}"
      ],
      "metadata": {
        "id": "L07V54HD-lpt"
      },
      "execution_count": null,
      "outputs": []
    },
    {
      "cell_type": "code",
      "source": [
        "from transformers import Trainer\n",
        "\n",
        "# Initialize the Trainer with the required parameters\n",
        "trainer = Trainer(\n",
        "    model=model,\n",
        "    args=training_args,\n",
        "    train_dataset=tokenized_train_dataset,\n",
        "    eval_dataset=tokenized_val_dataset,\n",
        "    processing_class=tokenizer,\n",
        "    compute_metrics=compute_metrics\n",
        ")"
      ],
      "metadata": {
        "id": "QuTFlJhn-imB",
        "colab": {
          "base_uri": "https://localhost:8080/",
          "height": 49,
          "referenced_widgets": [
            "2f0dd3eef2584a97931db848d443d885",
            "541eca55129a4b27bb11911e96fd7cca",
            "f890a5b6eda848aa8acfa81f76ffa910",
            "68397dee08c64a95892dfeb2f2d1b5f0",
            "b777f4fb0b974766997b35ad31631b8f",
            "b8dc9f08ebe54f6facd10b4c2174180d",
            "47542310852a4496a9f3540d15fa048f",
            "a29619ffbec34c5e865155b088858b7a",
            "a8405e7a25f7410284ad59c27400718a",
            "ad090e9e7ab44579be63b0028c5efe82",
            "172d4b48d71a471ebdefabd071f36523"
          ]
        },
        "outputId": "6bb9b915-4e40-4030-c3a1-e002cff485ae"
      },
      "execution_count": null,
      "outputs": [
        {
          "output_type": "display_data",
          "data": {
            "text/plain": [
              "model.safetensors:   0%|          | 0.00/147M [00:00<?, ?B/s]"
            ],
            "application/vnd.jupyter.widget-view+json": {
              "version_major": 2,
              "version_minor": 0,
              "model_id": "2f0dd3eef2584a97931db848d443d885"
            }
          },
          "metadata": {}
        }
      ]
    },
    {
      "cell_type": "code",
      "source": [
        "# Fit the model (about 4 minutes)\n",
        "trainer.train()"
      ],
      "metadata": {
        "id": "F6iVQHNl-nxP",
        "colab": {
          "base_uri": "https://localhost:8080/",
          "height": 155
        },
        "outputId": "7b297e41-563e-49cb-b954-2075b2788bfe"
      },
      "execution_count": null,
      "outputs": [
        {
          "output_type": "display_data",
          "data": {
            "text/plain": [
              "<IPython.core.display.HTML object>"
            ],
            "text/html": [
              "\n",
              "    <div>\n",
              "      \n",
              "      <progress value='1068' max='1068' style='width:300px; height:20px; vertical-align: middle;'></progress>\n",
              "      [1068/1068 09:36, Epoch 2/2]\n",
              "    </div>\n",
              "    <table border=\"1\" class=\"dataframe\">\n",
              "  <thead>\n",
              " <tr style=\"text-align: left;\">\n",
              "      <th>Epoch</th>\n",
              "      <th>Training Loss</th>\n",
              "      <th>Validation Loss</th>\n",
              "      <th>Accuracy</th>\n",
              "    </tr>\n",
              "  </thead>\n",
              "  <tbody>\n",
              "    <tr>\n",
              "      <td>1</td>\n",
              "      <td>118005.624000</td>\n",
              "      <td>0.103516</td>\n",
              "      <td>0.963608</td>\n",
              "    </tr>\n",
              "    <tr>\n",
              "      <td>2</td>\n",
              "      <td>0.078800</td>\n",
              "      <td>0.090125</td>\n",
              "      <td>0.967827</td>\n",
              "    </tr>\n",
              "  </tbody>\n",
              "</table><p>"
            ]
          },
          "metadata": {}
        },
        {
          "output_type": "execute_result",
          "data": {
            "text/plain": [
              "TrainOutput(global_step=1068, training_loss=55246.11951841174, metrics={'train_runtime': 578.0171, 'train_samples_per_second': 118.062, 'train_steps_per_second': 1.848, 'total_flos': 1069838721838080.0, 'train_loss': 55246.11951841174, 'epoch': 2.0})"
            ]
          },
          "metadata": {},
          "execution_count": 18
        }
      ]
    },
    {
      "cell_type": "markdown",
      "source": [
        "## Evaluate the Model"
      ],
      "metadata": {
        "id": "MYUACb1b-ok_"
      }
    },
    {
      "cell_type": "code",
      "source": [
        "# Evaluate the model on the test dataset\n",
        "test_metrics = trainer.evaluate(eval_dataset=tokenized_test_dataset)\n",
        "\n",
        "# Print the accuracy\n",
        "print(test_metrics)"
      ],
      "metadata": {
        "id": "usNHlvBK-q3H",
        "colab": {
          "base_uri": "https://localhost:8080/",
          "height": 54
        },
        "outputId": "a7f8ec5d-e404-4a8b-ef36-bf9db54dff79"
      },
      "execution_count": null,
      "outputs": [
        {
          "output_type": "display_data",
          "data": {
            "text/plain": [
              "<IPython.core.display.HTML object>"
            ],
            "text/html": [
              "\n",
              "    <div>\n",
              "      \n",
              "      <progress value='149' max='149' style='width:300px; height:20px; vertical-align: middle;'></progress>\n",
              "      [149/149 00:26]\n",
              "    </div>\n",
              "    "
            ]
          },
          "metadata": {}
        },
        {
          "output_type": "stream",
          "name": "stdout",
          "text": [
            "{'eval_loss': 0.0768219381570816, 'eval_accuracy': 0.9736259099061082, 'eval_runtime': 27.1909, 'eval_samples_per_second': 348.61, 'eval_steps_per_second': 5.48, 'epoch': 2.0}\n"
          ]
        }
      ]
    },
    {
      "cell_type": "markdown",
      "source": [
        "## Predict the class of several test"
      ],
      "metadata": {
        "id": "bdorTKAl-yU3"
      }
    },
    {
      "cell_type": "code",
      "source": [
        "# List of sentences to evaluate\n",
        "test_texts = [\"You won an award! It is a free cruise trip! Call us immediately to claim it.\", \"Free apple phones on us for our customers, call immediately!\", \"I read a great book yesterday.\", \"March Madness has been really fun to watch this year.\"]\n",
        "\n",
        "# Tokenize the sentences, pad them to the same length for batch processing\n",
        "inputs = tokenizer(test_texts, return_tensors=\"pt\", padding=True, truncation=True).to(device=0)\n",
        "inputs"
      ],
      "metadata": {
        "id": "Rwz0orgx_4QR",
        "colab": {
          "base_uri": "https://localhost:8080/"
        },
        "outputId": "6e72f8a5-5313-4d38-9e4b-c564f319561b"
      },
      "execution_count": null,
      "outputs": [
        {
          "output_type": "stream",
          "name": "stderr",
          "text": [
            "Asking to truncate to max_length but no maximum length is provided and the model has no predefined maximum length. Default to no truncation.\n"
          ]
        },
        {
          "output_type": "execute_result",
          "data": {
            "text/plain": [
              "{'input_ids': tensor([[  101,  2017,  2180,  2019,  2400,   999,  2009,  2003,  1037,  2489,\n",
              "          8592,  4440,   999,  2655,  2149,  3202,  2000,  4366,  2009,  1012,\n",
              "           102],\n",
              "        [  101,  2489,  6207, 11640,  2006,  2149,  2005,  2256,  6304,  1010,\n",
              "          2655,  3202,   999,   102,     0,     0,     0,     0,     0,     0,\n",
              "             0],\n",
              "        [  101,  1045,  3191,  1037,  2307,  2338,  7483,  1012,   102,     0,\n",
              "             0,     0,     0,     0,     0,     0,     0,     0,     0,     0,\n",
              "             0],\n",
              "        [  101,  2233, 12013,  2038,  2042,  2428,  4569,  2000,  3422,  2023,\n",
              "          2095,  1012,   102,     0,     0,     0,     0,     0,     0,     0,\n",
              "             0]], device='cuda:0'), 'token_type_ids': tensor([[0, 0, 0, 0, 0, 0, 0, 0, 0, 0, 0, 0, 0, 0, 0, 0, 0, 0, 0, 0, 0],\n",
              "        [0, 0, 0, 0, 0, 0, 0, 0, 0, 0, 0, 0, 0, 0, 0, 0, 0, 0, 0, 0, 0],\n",
              "        [0, 0, 0, 0, 0, 0, 0, 0, 0, 0, 0, 0, 0, 0, 0, 0, 0, 0, 0, 0, 0],\n",
              "        [0, 0, 0, 0, 0, 0, 0, 0, 0, 0, 0, 0, 0, 0, 0, 0, 0, 0, 0, 0, 0]],\n",
              "       device='cuda:0'), 'attention_mask': tensor([[1, 1, 1, 1, 1, 1, 1, 1, 1, 1, 1, 1, 1, 1, 1, 1, 1, 1, 1, 1, 1],\n",
              "        [1, 1, 1, 1, 1, 1, 1, 1, 1, 1, 1, 1, 1, 1, 0, 0, 0, 0, 0, 0, 0],\n",
              "        [1, 1, 1, 1, 1, 1, 1, 1, 1, 0, 0, 0, 0, 0, 0, 0, 0, 0, 0, 0, 0],\n",
              "        [1, 1, 1, 1, 1, 1, 1, 1, 1, 1, 1, 1, 1, 0, 0, 0, 0, 0, 0, 0, 0]],\n",
              "       device='cuda:0')}"
            ]
          },
          "metadata": {},
          "execution_count": 20
        }
      ]
    },
    {
      "cell_type": "code",
      "source": [
        "# Forward pass through the model\n",
        "outputs = model(**inputs)\n",
        "\n",
        "# Get predicted labels for each sentence\n",
        "predicted_labels = outputs.logits.argmax(axis=-1).cpu().tolist()\n",
        "print(\"Predicted Labels:\", predicted_labels)"
      ],
      "metadata": {
        "id": "njaxUkw-AITn",
        "colab": {
          "base_uri": "https://localhost:8080/"
        },
        "outputId": "1faef0bc-e31f-417e-f216-3c6da408364b"
      },
      "execution_count": null,
      "outputs": [
        {
          "output_type": "stream",
          "name": "stdout",
          "text": [
            "Predicted Labels: [1, 1, 0, 0]\n"
          ]
        }
      ]
    },
    {
      "cell_type": "code",
      "source": [
        "# Print results\n",
        "for text, label in zip(test_texts, predicted_labels):\n",
        "    print(f\"Text: '{text}'; Predicted Label: {class_names[label]}\")"
      ],
      "metadata": {
        "id": "pcVCLde5ARwZ",
        "colab": {
          "base_uri": "https://localhost:8080/"
        },
        "outputId": "54fc463e-cd5b-494a-fe25-ed646e9b36e9"
      },
      "execution_count": null,
      "outputs": [
        {
          "output_type": "stream",
          "name": "stdout",
          "text": [
            "Text: 'You won an award! It is a free cruise trip! Call us immediately to claim it.'; Predicted Label: spam\n",
            "Text: 'Free apple phones on us for our customers, call immediately!'; Predicted Label: spam\n",
            "Text: 'I read a great book yesterday.'; Predicted Label: ham\n",
            "Text: 'March Madness has been really fun to watch this year.'; Predicted Label: ham\n"
          ]
        }
      ]
    },
    {
      "cell_type": "markdown",
      "source": [
        "## Model Report"
      ],
      "metadata": {
        "id": "UL5tawmNAzdk"
      }
    },
    {
      "cell_type": "markdown",
      "source": [
        "Test Accuracy: 97.36%\n",
        "\n",
        "Predicted Class test results: Spam, Spam, Ham, Ham\n",
        "\n"
      ],
      "metadata": {
        "id": "cDQNDkK-AVTr"
      }
    },
    {
      "cell_type": "markdown",
      "source": [
        "## Generate adversarial examples"
      ],
      "metadata": {
        "id": "zJnKXUUBBNP0"
      }
    },
    {
      "cell_type": "code",
      "source": [
        "# Install the TextAttack library\n",
        "!pip install -qq textattack"
      ],
      "metadata": {
        "id": "jL6hl1kCBMpM",
        "colab": {
          "base_uri": "https://localhost:8080/"
        },
        "outputId": "0b9365d1-232f-4410-8a48-ff90b42c6ee0"
      },
      "execution_count": null,
      "outputs": [
        {
          "output_type": "stream",
          "name": "stdout",
          "text": [
            "\u001b[?25l     \u001b[90m━━━━━━━━━━━━━━━━━━━━━━━━━━━━━━━━━━━━━━━━\u001b[0m \u001b[32m0.0/54.5 kB\u001b[0m \u001b[31m?\u001b[0m eta \u001b[36m-:--:--\u001b[0m\r\u001b[2K     \u001b[90m━━━━━━━━━━━━━━━━━━━━━━━━━━━━━━━━━━━━━━━━\u001b[0m \u001b[32m54.5/54.5 kB\u001b[0m \u001b[31m5.2 MB/s\u001b[0m eta \u001b[36m0:00:00\u001b[0m\n",
            "\u001b[?25h  Preparing metadata (setup.py) ... \u001b[?25l\u001b[?25hdone\n",
            "\u001b[2K     \u001b[90m━━━━━━━━━━━━━━━━━━━━━━━━━━━━━━━━━━━━━━━━\u001b[0m \u001b[32m3.6/3.6 MB\u001b[0m \u001b[31m26.9 MB/s\u001b[0m eta \u001b[36m0:00:00\u001b[0m\n",
            "\u001b[?25h  Preparing metadata (setup.py) ... \u001b[?25l\u001b[?25hdone\n",
            "\u001b[2K     \u001b[90m━━━━━━━━━━━━━━━━━━━━━━━━━━━━━━━━━━━━━━━━\u001b[0m \u001b[32m981.5/981.5 kB\u001b[0m \u001b[31m60.1 MB/s\u001b[0m eta \u001b[36m0:00:00\u001b[0m\n",
            "\u001b[?25h  Preparing metadata (setup.py) ... \u001b[?25l\u001b[?25hdone\n",
            "  Preparing metadata (setup.py) ... \u001b[?25l\u001b[?25hdone\n",
            "  Preparing metadata (setup.py) ... \u001b[?25l\u001b[?25hdone\n",
            "  Preparing metadata (setup.py) ... \u001b[?25l\u001b[?25hdone\n",
            "  Preparing metadata (setup.py) ... \u001b[?25l\u001b[?25hdone\n",
            "  Preparing metadata (setup.py) ... \u001b[?25l\u001b[?25hdone\n",
            "\u001b[2K     \u001b[90m━━━━━━━━━━━━━━━━━━━━━━━━━━━━━━━━━━━━━━━━\u001b[0m \u001b[32m61.0/61.0 kB\u001b[0m \u001b[31m4.7 MB/s\u001b[0m eta \u001b[36m0:00:00\u001b[0m\n",
            "\u001b[2K   \u001b[90m━━━━━━━━━━━━━━━━━━━━━━━━━━━━━━━━━━━━━━━━\u001b[0m \u001b[32m445.7/445.7 kB\u001b[0m \u001b[31m34.9 MB/s\u001b[0m eta \u001b[36m0:00:00\u001b[0m\n",
            "\u001b[2K   \u001b[90m━━━━━━━━━━━━━━━━━━━━━━━━━━━━━━━━━━━━━━━━\u001b[0m \u001b[32m61.1/61.1 kB\u001b[0m \u001b[31m5.4 MB/s\u001b[0m eta \u001b[36m0:00:00\u001b[0m\n",
            "\u001b[2K   \u001b[90m━━━━━━━━━━━━━━━━━━━━━━━━━━━━━━━━━━━━━━━━\u001b[0m \u001b[32m363.4/363.4 MB\u001b[0m \u001b[31m3.0 MB/s\u001b[0m eta \u001b[36m0:00:00\u001b[0m\n",
            "\u001b[2K   \u001b[90m━━━━━━━━━━━━━━━━━━━━━━━━━━━━━━━━━━━━━━━━\u001b[0m \u001b[32m13.8/13.8 MB\u001b[0m \u001b[31m97.9 MB/s\u001b[0m eta \u001b[36m0:00:00\u001b[0m\n",
            "\u001b[2K   \u001b[90m━━━━━━━━━━━━━━━━━━━━━━━━━━━━━━━━━━━━━━━━\u001b[0m \u001b[32m24.6/24.6 MB\u001b[0m \u001b[31m90.4 MB/s\u001b[0m eta \u001b[36m0:00:00\u001b[0m\n",
            "\u001b[2K   \u001b[90m━━━━━━━━━━━━━━━━━━━━━━━━━━━━━━━━━━━━━━━━\u001b[0m \u001b[32m883.7/883.7 kB\u001b[0m \u001b[31m55.4 MB/s\u001b[0m eta \u001b[36m0:00:00\u001b[0m\n",
            "\u001b[2K   \u001b[90m━━━━━━━━━━━━━━━━━━━━━━━━━━━━━━━━━━━━━━━━\u001b[0m \u001b[32m664.8/664.8 MB\u001b[0m \u001b[31m2.1 MB/s\u001b[0m eta \u001b[36m0:00:00\u001b[0m\n",
            "\u001b[2K   \u001b[90m━━━━━━━━━━━━━━━━━━━━━━━━━━━━━━━━━━━━━━━━\u001b[0m \u001b[32m211.5/211.5 MB\u001b[0m \u001b[31m4.8 MB/s\u001b[0m eta \u001b[36m0:00:00\u001b[0m\n",
            "\u001b[2K   \u001b[90m━━━━━━━━━━━━━━━━━━━━━━━━━━━━━━━━━━━━━━━━\u001b[0m \u001b[32m56.3/56.3 MB\u001b[0m \u001b[31m42.1 MB/s\u001b[0m eta \u001b[36m0:00:00\u001b[0m\n",
            "\u001b[2K   \u001b[90m━━━━━━━━━━━━━━━━━━━━━━━━━━━━━━━━━━━━━━━━\u001b[0m \u001b[32m127.9/127.9 MB\u001b[0m \u001b[31m19.3 MB/s\u001b[0m eta \u001b[36m0:00:00\u001b[0m\n",
            "\u001b[2K   \u001b[90m━━━━━━━━━━━━━━━━━━━━━━━━━━━━━━━━━━━━━━━━\u001b[0m \u001b[32m207.5/207.5 MB\u001b[0m \u001b[31m4.2 MB/s\u001b[0m eta \u001b[36m0:00:00\u001b[0m\n",
            "\u001b[2K   \u001b[90m━━━━━━━━━━━━━━━━━━━━━━━━━━━━━━━━━━━━━━━━\u001b[0m \u001b[32m21.1/21.1 MB\u001b[0m \u001b[31m97.7 MB/s\u001b[0m eta \u001b[36m0:00:00\u001b[0m\n",
            "\u001b[2K   \u001b[90m━━━━━━━━━━━━━━━━━━━━━━━━━━━━━━━━━━━━━━━━\u001b[0m \u001b[32m1.2/1.2 MB\u001b[0m \u001b[31m62.5 MB/s\u001b[0m eta \u001b[36m0:00:00\u001b[0m\n",
            "\u001b[2K   \u001b[90m━━━━━━━━━━━━━━━━━━━━━━━━━━━━━━━━━━━━━━━━\u001b[0m \u001b[32m49.2/49.2 kB\u001b[0m \u001b[31m4.5 MB/s\u001b[0m eta \u001b[36m0:00:00\u001b[0m\n",
            "\u001b[2K   \u001b[90m━━━━━━━━━━━━━━━━━━━━━━━━━━━━━━━━━━━━━━━━\u001b[0m \u001b[32m769.7/769.7 kB\u001b[0m \u001b[31m45.6 MB/s\u001b[0m eta \u001b[36m0:00:00\u001b[0m\n",
            "\u001b[2K   \u001b[90m━━━━━━━━━━━━━━━━━━━━━━━━━━━━━━━━━━━━━━━━\u001b[0m \u001b[32m163.5/163.5 kB\u001b[0m \u001b[31m16.2 MB/s\u001b[0m eta \u001b[36m0:00:00\u001b[0m\n",
            "\u001b[2K   \u001b[90m━━━━━━━━━━━━━━━━━━━━━━━━━━━━━━━━━━━━━━━━\u001b[0m \u001b[32m139.6/139.6 kB\u001b[0m \u001b[31m13.3 MB/s\u001b[0m eta \u001b[36m0:00:00\u001b[0m\n",
            "\u001b[2K   \u001b[90m━━━━━━━━━━━━━━━━━━━━━━━━━━━━━━━━━━━━━━━━\u001b[0m \u001b[32m44.8/44.8 kB\u001b[0m \u001b[31m4.0 MB/s\u001b[0m eta \u001b[36m0:00:00\u001b[0m\n",
            "\u001b[2K   \u001b[90m━━━━━━━━━━━━━━━━━━━━━━━━━━━━━━━━━━━━━━━━\u001b[0m \u001b[32m202.6/202.6 kB\u001b[0m \u001b[31m19.8 MB/s\u001b[0m eta \u001b[36m0:00:00\u001b[0m\n",
            "\u001b[2K   \u001b[90m━━━━━━━━━━━━━━━━━━━━━━━━━━━━━━━━━━━━━━━━\u001b[0m \u001b[32m18.3/18.3 MB\u001b[0m \u001b[31m106.6 MB/s\u001b[0m eta \u001b[36m0:00:00\u001b[0m\n",
            "\u001b[2K   \u001b[90m━━━━━━━━━━━━━━━━━━━━━━━━━━━━━━━━━━━━━━━━\u001b[0m \u001b[32m44.9/44.9 kB\u001b[0m \u001b[31m4.3 MB/s\u001b[0m eta \u001b[36m0:00:00\u001b[0m\n",
            "\u001b[2K   \u001b[90m━━━━━━━━━━━━━━━━━━━━━━━━━━━━━━━━━━━━━━━━\u001b[0m \u001b[32m13.4/13.4 MB\u001b[0m \u001b[31m121.0 MB/s\u001b[0m eta \u001b[36m0:00:00\u001b[0m\n",
            "\u001b[2K   \u001b[90m━━━━━━━━━━━━━━━━━━━━━━━━━━━━━━━━━━━━━━━━\u001b[0m \u001b[32m84.4/84.4 kB\u001b[0m \u001b[31m9.2 MB/s\u001b[0m eta \u001b[36m0:00:00\u001b[0m\n",
            "\u001b[?25h  Building wheel for pinyin (setup.py) ... \u001b[?25l\u001b[?25hdone\n",
            "  Building wheel for word2number (setup.py) ... \u001b[?25l\u001b[?25hdone\n",
            "  Building wheel for docopt (setup.py) ... \u001b[?25l\u001b[?25hdone\n",
            "  Building wheel for langdetect (setup.py) ... \u001b[?25l\u001b[?25hdone\n",
            "  Building wheel for pptree (setup.py) ... \u001b[?25l\u001b[?25hdone\n",
            "  Building wheel for sqlitedict (setup.py) ... \u001b[?25l\u001b[?25hdone\n",
            "  Building wheel for wikipedia-api (setup.py) ... \u001b[?25l\u001b[?25hdone\n",
            "  Building wheel for intervaltree (setup.py) ... \u001b[?25l\u001b[?25hdone\n"
          ]
        }
      ]
    },
    {
      "cell_type": "code",
      "source": [
        "# Download the required resource for the NLTK (Natural Language Toolkit) library\n",
        "import nltk\n",
        "nltk.download('averaged_perceptron_tagger_eng')"
      ],
      "metadata": {
        "id": "TmjOEVqXBUBE",
        "colab": {
          "base_uri": "https://localhost:8080/"
        },
        "outputId": "b75a3487-ef73-49c0-9672-bbb1a5863a4f"
      },
      "execution_count": null,
      "outputs": [
        {
          "output_type": "stream",
          "name": "stderr",
          "text": [
            "[nltk_data] Downloading package averaged_perceptron_tagger_eng to\n",
            "[nltk_data]     /root/nltk_data...\n",
            "[nltk_data]   Unzipping taggers/averaged_perceptron_tagger_eng.zip.\n"
          ]
        },
        {
          "output_type": "execute_result",
          "data": {
            "text/plain": [
              "True"
            ]
          },
          "metadata": {},
          "execution_count": 24
        }
      ]
    },
    {
      "cell_type": "code",
      "source": [
        "# Wrap the trained model and tokenizer for Distilbert into a textattack model\n",
        "from textattack.models.wrappers import HuggingFaceModelWrapper\n",
        "\n",
        "wrapped_model = HuggingFaceModelWrapper(model, tokenizer)"
      ],
      "metadata": {
        "id": "C0e46fvwBVvK",
        "colab": {
          "base_uri": "https://localhost:8080/"
        },
        "outputId": "f4072d89-0e62-4c3b-f18c-1ffe7dfb064e"
      },
      "execution_count": null,
      "outputs": [
        {
          "output_type": "stream",
          "name": "stderr",
          "text": [
            "textattack: Updating TextAttack package dependencies.\n",
            "textattack: Downloading NLTK required packages.\n",
            "[nltk_data] Downloading package averaged_perceptron_tagger to\n",
            "[nltk_data]     /root/nltk_data...\n",
            "[nltk_data]   Unzipping taggers/averaged_perceptron_tagger.zip.\n",
            "[nltk_data] Downloading package stopwords to /root/nltk_data...\n",
            "[nltk_data]   Unzipping corpora/stopwords.zip.\n",
            "[nltk_data] Downloading package omw to /root/nltk_data...\n",
            "[nltk_data] Downloading package universal_tagset to /root/nltk_data...\n",
            "[nltk_data]   Unzipping taggers/universal_tagset.zip.\n",
            "[nltk_data] Downloading package wordnet to /root/nltk_data...\n",
            "[nltk_data] Downloading package punkt to /root/nltk_data...\n",
            "[nltk_data]   Unzipping tokenizers/punkt.zip.\n"
          ]
        }
      ]
    },
    {
      "cell_type": "markdown",
      "source": [
        "## Apply TextFooler attack"
      ],
      "metadata": {
        "id": "sWq2jiMFBYIE"
      }
    },
    {
      "cell_type": "code",
      "source": [
        "# TextFooler attack: replaces words with synonyms to fool the model\n",
        "from textattack.attack_recipes import TextFoolerJin2019\n",
        "\n",
        "attack_1 = TextFoolerJin2019.build(wrapped_model)"
      ],
      "metadata": {
        "id": "NcpWhNlABcHc",
        "colab": {
          "base_uri": "https://localhost:8080/"
        },
        "outputId": "9241a516-da7b-41e2-be2e-f51cbad81501"
      },
      "execution_count": null,
      "outputs": [
        {
          "output_type": "stream",
          "name": "stderr",
          "text": [
            "textattack: Downloading https://textattack.s3.amazonaws.com/word_embeddings/paragramcf.\n",
            "100%|██████████| 481M/481M [01:05<00:00, 7.30MB/s]\n",
            "textattack: Unzipping file /root/.cache/textattack/tmp9yqiam29.zip to /root/.cache/textattack/word_embeddings/paragramcf.\n",
            "textattack: Successfully saved word_embeddings/paragramcf to cache.\n",
            "textattack: Unknown if model of class <class 'transformers.models.mobilebert.modeling_mobilebert.MobileBertForSequenceClassification'> compatible with goal function <class 'textattack.goal_functions.classification.untargeted_classification.UntargetedClassification'>.\n"
          ]
        }
      ]
    },
    {
      "cell_type": "code",
      "source": [
        "from textattack.datasets import Dataset\n",
        "from textattack import Attacker\n",
        "\n",
        "# Example text sentence\n",
        "example_text = \" Free apple phones on us for our customers, call us immediately!\"\n",
        "# Correct label for the text sentence: class label 1 is 'spam'\n",
        "example_label = 1\n",
        "\n",
        "# Create a new dataset with the example text sentence and label\n",
        "# The dataset is simply a list of text and label pairs\n",
        "example_dataset = Dataset([[example_text, example_label]])"
      ],
      "metadata": {
        "id": "jq6eYh6yBdrg"
      },
      "execution_count": null,
      "outputs": []
    },
    {
      "cell_type": "code",
      "source": [
        "# Apply the attack\n",
        "attacker = Attacker(attack_1, example_dataset)\n",
        "attacker.attack_dataset()"
      ],
      "metadata": {
        "id": "79A5Vi8RBsTK",
        "colab": {
          "base_uri": "https://localhost:8080/"
        },
        "outputId": "79fad502-a73b-4a26-d367-2a0a19fef3db"
      },
      "execution_count": null,
      "outputs": [
        {
          "output_type": "stream",
          "name": "stderr",
          "text": [
            "textattack: Attempting to attack 10 samples when only 1 are available.\n"
          ]
        },
        {
          "output_type": "stream",
          "name": "stdout",
          "text": [
            "Attack(\n",
            "  (search_method): GreedyWordSwapWIR(\n",
            "    (wir_method):  delete\n",
            "  )\n",
            "  (goal_function):  UntargetedClassification\n",
            "  (transformation):  WordSwapEmbedding(\n",
            "    (max_candidates):  50\n",
            "    (embedding):  WordEmbedding\n",
            "  )\n",
            "  (constraints): \n",
            "    (0): WordEmbeddingDistance(\n",
            "        (embedding):  WordEmbedding\n",
            "        (min_cos_sim):  0.5\n",
            "        (cased):  False\n",
            "        (include_unknown_words):  True\n",
            "        (compare_against_original):  True\n",
            "      )\n",
            "    (1): PartOfSpeech(\n",
            "        (tagger_type):  nltk\n",
            "        (tagset):  universal\n",
            "        (allow_verb_noun_swap):  True\n",
            "        (compare_against_original):  True\n",
            "      )\n",
            "    (2): UniversalSentenceEncoder(\n",
            "        (metric):  angular\n",
            "        (threshold):  0.840845057\n",
            "        (window_size):  15\n",
            "        (skip_text_shorter_than_window):  True\n",
            "        (compare_against_original):  False\n",
            "      )\n",
            "    (3): RepeatModification\n",
            "    (4): StopwordModification\n",
            "    (5): InputColumnModification(\n",
            "        (matching_column_labels):  ['premise', 'hypothesis']\n",
            "        (columns_to_ignore):  {'premise'}\n",
            "      )\n",
            "  (is_black_box):  True\n",
            ") \n",
            "\n"
          ]
        },
        {
          "output_type": "stream",
          "name": "stderr",
          "text": [
            " 10%|█         | 1/10 [00:56<08:25, 56.14s/it]"
          ]
        },
        {
          "output_type": "stream",
          "name": "stdout",
          "text": [
            "--------------------------------------------- Result 1 ---------------------------------------------\n"
          ]
        },
        {
          "output_type": "stream",
          "name": "stderr",
          "text": [
            "[Succeeded / Failed / Skipped / Total] 1 / 0 / 0 / 1:  10%|█         | 1/10 [00:56<08:31, 56.79s/it]"
          ]
        },
        {
          "output_type": "stream",
          "name": "stdout",
          "text": [
            "[[1 (99%)]] --> [[0 (65%)]]\n",
            "\n",
            " Free [[apple]] phones on us for our [[customers]], call [[us]] [[immediately]]!\n",
            "\n",
            " Free [[cobbler]] phones on us for our [[consuming]], call [[we]] [[shortly]]!\n",
            "\n",
            "\n",
            "\n",
            "+-------------------------------+--------+\n",
            "| Attack Results                |        |\n",
            "+-------------------------------+--------+\n",
            "| Number of successful attacks: | 1      |\n",
            "| Number of failed attacks:     | 0      |\n",
            "| Number of skipped attacks:    | 0      |\n",
            "| Original accuracy:            | 100.0% |\n",
            "| Accuracy under attack:        | 0.0%   |\n",
            "| Attack success rate:          | 100.0% |\n",
            "| Average perturbed word %:     | 36.36% |\n",
            "| Average num. words per input: | 11.0   |\n",
            "| Avg num queries:              | 80.0   |\n",
            "+-------------------------------+--------+\n"
          ]
        },
        {
          "output_type": "stream",
          "name": "stderr",
          "text": [
            "\n"
          ]
        },
        {
          "output_type": "execute_result",
          "data": {
            "text/plain": [
              "[<textattack.attack_results.successful_attack_result.SuccessfulAttackResult at 0x79b94cf812d0>]"
            ]
          },
          "metadata": {},
          "execution_count": 28
        }
      ]
    },
    {
      "cell_type": "code",
      "source": [
        "# Select the first 10 samples from the test dataset to create adverasarial exampples\n",
        "text_samples = test_dataset[\"text\"][:10]\n",
        "label_samples = test_dataset[\"label\"][:10]"
      ],
      "metadata": {
        "id": "KheErnlMB3gu"
      },
      "execution_count": null,
      "outputs": []
    },
    {
      "cell_type": "code",
      "source": [
        "# check the data\n",
        "text_samples"
      ],
      "metadata": {
        "id": "ha8oWN8fB4gO",
        "colab": {
          "base_uri": "https://localhost:8080/"
        },
        "outputId": "1a28e3f5-4488-4df6-e925-9616d358dd8c"
      },
      "execution_count": null,
      "outputs": [
        {
          "output_type": "execute_result",
          "data": {
            "text/plain": [
              "['im working technical support voice process',\n",
              " 'dirty pictureblyk on aircel thanks you for being a valued member heres an exclusive animated trailer for the dirty picture the insider scoop saysvidya balans sexy avatar itsy bitsy clothes cleavageshowing blouses and raunchy dance numbers in the dirty picture are receiving jawdropping reactions fans and trade pundits say the masala movie is expected to beat the musical treat rockstar the funfilled desi boyz and the action thriller don 2 dont miss it!',\n",
              " 'has your mortgage search got you down are you frustrated and confused with all the different terms and quotes don t know who is telling you the truth we can solve all your problems visit our site today and in two minutes you can have us searching thousands of programs and lenders for you get the truth get the facts get your options all in one shot it s absolutely free and you can be done in only two minutes so hyperlink click right now and put your worries behind you ryte 1635465 po1635465 kj 1635465j1635465bjk',\n",
              " \"hi my name is bailey and i ' m 19 years old . i have voluptuous body , dark brown hair and hazel eyes and a nice dd breast i love affection and looking for someone to have some fun with ( without obligations ) . you can contact me now at : http : / / vicinal . myabsinth . com / 575 r . html ( registration is free of charge ) see you soon you ' re a catch . you know it and we know it . now it ' s time to let them know it . 1 , 451 , 004 swingers already registered so , what are you waiting for ? just click below and dive right into creating your ad : http : / / muscular . myabsinth . com / 575 r . html if you got this message by mistake , or you do not wish to get messages from dating please click : http : / / quash . myabsinth . com / nothanks . php ion marketing limited d 2 , 23 , borrett road , mid - levels west hong kong \",\n",
              " 'windowflower . com is one of the biggest arts providers based in china . we supply you with high - quality , artistic , and customized chinese paper - cut products ! add elegance and cultural touch to your life and business ! windowflower . com you are receiving this email because you opted - in to receive special offers through a partner website . if you feel that you received this email in error or do not wish to receive additional special offers , please enter your email address here and click the button of ',\n",
              " \"please join us for breakfast this friday , october 27 , ( by steve weller ' s desk ) around 8 : 30 a . m . to celebrate the following birthdays : october julie armstrong 15 th theresa branney 16 th don powell 20 th morgan gottsponer 22 nd t . k . lohman 29 th dana jones 31 st\",\n",
              " 'join clyde drexler on espeak at ethink . enron . com , wednesday , june 14 at 10 a . m . houston time . clyde , an nba legend , will conduct an \" open mike \" session to answer whatever questions you have for him . are you at a remote location or can \\' t make the event ? go into espeak now and pre - submit your question ( s ) for clyde to answer during the scheduled event . we want to answer everyone \\' s questions , but due to the high volume of questions we anticipate on this session , it would be helpful if you can keep your questions short and simple . this will increase the opportunity for your question to be answered . ethink : invest your mind',\n",
              " 'n 45days reduce fat8 inchusesauna slim belt650 vibration belt999 ncr50rs extrafree yoko call now:9268250573/931130487',\n",
              " \"googlecash gives you all the tools you need to turn the search engine google . com into an autopilot cash generating machine ! what ' s your dream lifestyle ? challenge schnabel behind jolla cozy buttrick isabel solder excerpt breakfast tame firewall hatchet ooze boggle decompression london recriminate coat inbreed churchyard dar yoke snappy extrema grind cookie longitudinal suntan buttress herpes quadrillion improvisate idiot antarctica maybe embarrass bermuda lawman octillion musket betoken alacrity request seizure fateful mile conjunct courier administrable there stepmother boycott importune chronicle cavern catch aeronautic prestigious thermofax interruption irredeemable hesitater pursue abbas aruba berra dean lockwood jimenez sioux ac collocation dempsey bowstring maintenance orono extant vast debunk galvanometer punster swatch cryptology contain convoy intelligentsia cathode celandine tutu geranium revolve exact serbia aspartic tally adultery christoffel erskine ethel absorption coil christen simple cartilaginous driven practitioner retire booklet barge aquila inflammatory digging criminal ditzel cherry trench continued notch evolutionary gus announce tic shanghai quartz atlantis pulaski importunate mcallister utterance immigrant rhetoric molybdenite resolution bronchitis dog spacecraft eccentric enunciable incident \",\n",
              " 'hi does anyone have a collection of real world spam that i could use to test my setup this url email is sponsored by osdn tired of that same old cell phone get a new here for free url spamassassin talk mailing list spamassassin talk url url']"
            ]
          },
          "metadata": {},
          "execution_count": 30
        }
      ]
    },
    {
      "cell_type": "code",
      "source": [
        "# check the true labels\n",
        "label_samples"
      ],
      "metadata": {
        "id": "RTlpGbKCB5Vk",
        "colab": {
          "base_uri": "https://localhost:8080/"
        },
        "outputId": "5a7cbd89-ce69-4b3a-e130-764af78c16f3"
      },
      "execution_count": null,
      "outputs": [
        {
          "output_type": "execute_result",
          "data": {
            "text/plain": [
              "[0, 1, 1, 1, 1, 0, 0, 1, 1, 0]"
            ]
          },
          "metadata": {},
          "execution_count": 31
        }
      ]
    },
    {
      "cell_type": "code",
      "source": [
        "# Recall the class names\n",
        "class_names"
      ],
      "metadata": {
        "id": "9y8WLCXSB6YM",
        "colab": {
          "base_uri": "https://localhost:8080/"
        },
        "outputId": "0603424d-a609-46e1-8b48-a361bec3016c"
      },
      "execution_count": null,
      "outputs": [
        {
          "output_type": "execute_result",
          "data": {
            "text/plain": [
              "['ham', 'spam']"
            ]
          },
          "metadata": {},
          "execution_count": 32
        }
      ]
    },
    {
      "cell_type": "code",
      "source": [
        "# Convert the data to the required format for TextAttack\n",
        "testdataset10samples_dataset = Dataset(list(zip(text_samples, label_samples)))\n",
        "\n",
        "# Run the attack\n",
        "attacker = Attacker(attack_1, testdataset10samples_dataset)\n",
        "attacker.attack_dataset()"
      ],
      "metadata": {
        "id": "BLPnli0WB8Im",
        "colab": {
          "base_uri": "https://localhost:8080/"
        },
        "outputId": "8e5ab402-7bdb-4ca0-fe56-d88e25bbf975"
      },
      "execution_count": null,
      "outputs": [
        {
          "output_type": "stream",
          "name": "stdout",
          "text": [
            "Attack(\n",
            "  (search_method): GreedyWordSwapWIR(\n",
            "    (wir_method):  delete\n",
            "  )\n",
            "  (goal_function):  UntargetedClassification\n",
            "  (transformation):  WordSwapEmbedding(\n",
            "    (max_candidates):  50\n",
            "    (embedding):  WordEmbedding\n",
            "  )\n",
            "  (constraints): \n",
            "    (0): WordEmbeddingDistance(\n",
            "        (embedding):  WordEmbedding\n",
            "        (min_cos_sim):  0.5\n",
            "        (cased):  False\n",
            "        (include_unknown_words):  True\n",
            "        (compare_against_original):  True\n",
            "      )\n",
            "    (1): PartOfSpeech(\n",
            "        (tagger_type):  nltk\n",
            "        (tagset):  universal\n",
            "        (allow_verb_noun_swap):  True\n",
            "        (compare_against_original):  True\n",
            "      )\n",
            "    (2): UniversalSentenceEncoder(\n",
            "        (metric):  angular\n",
            "        (threshold):  0.840845057\n",
            "        (window_size):  15\n",
            "        (skip_text_shorter_than_window):  True\n",
            "        (compare_against_original):  False\n",
            "      )\n",
            "    (3): RepeatModification\n",
            "    (4): StopwordModification\n",
            "    (5): InputColumnModification(\n",
            "        (matching_column_labels):  ['premise', 'hypothesis']\n",
            "        (columns_to_ignore):  {'premise'}\n",
            "      )\n",
            "  (is_black_box):  True\n",
            ") \n",
            "\n"
          ]
        },
        {
          "output_type": "stream",
          "name": "stderr",
          "text": [
            "[Succeeded / Failed / Skipped / Total] 1 / 0 / 0 / 1:  10%|█         | 1/10 [00:00<00:08,  1.08it/s]"
          ]
        },
        {
          "output_type": "stream",
          "name": "stdout",
          "text": [
            "--------------------------------------------- Result 1 ---------------------------------------------\n",
            "[[0 (98%)]] --> [[1 (69%)]]\n",
            "\n",
            "im [[working]] [[technical]] support voice process\n",
            "\n",
            "im [[cooperated]] [[artsy]] support voice process\n",
            "\n",
            "\n"
          ]
        },
        {
          "output_type": "stream",
          "name": "stderr",
          "text": [
            "[Succeeded / Failed / Skipped / Total] 2 / 0 / 0 / 2:  20%|██        | 2/10 [00:04<00:18,  2.37s/it]"
          ]
        },
        {
          "output_type": "stream",
          "name": "stdout",
          "text": [
            "--------------------------------------------- Result 2 ---------------------------------------------\n",
            "[[1 (99%)]] --> [[0 (51%)]]\n",
            "\n",
            "dirty pictureblyk on aircel thanks you for being a [[valued]] [[member]] [[heres]] an exclusive animated trailer for the dirty picture the [[insider]] scoop saysvidya balans [[sexy]] avatar itsy bitsy clothes cleavageshowing blouses and raunchy dance numbers in the dirty picture are receiving jawdropping reactions [[fans]] and [[trade]] pundits say the [[masala]] movie is expected to beat the musical treat rockstar the funfilled desi boyz and the action thriller don 2 dont miss it!\n",
            "\n",
            "dirty pictureblyk on aircel thanks you for being a [[assessing]] [[deputies]] [[hehe]] an exclusive animated trailer for the dirty picture the [[townsend]] scoop saysvidya balans [[warmer]] avatar itsy bitsy clothes cleavageshowing blouses and raunchy dance numbers in the dirty picture are receiving jawdropping reactions [[partisans]] and [[handel]] pundits say the [[garam]] movie is expected to beat the musical treat rockstar the funfilled desi boyz and the action thriller don 2 dont miss it!\n",
            "\n",
            "\n"
          ]
        },
        {
          "output_type": "stream",
          "name": "stderr",
          "text": [
            "[Succeeded / Failed / Skipped / Total] 3 / 0 / 0 / 3:  30%|███       | 3/10 [00:07<00:16,  2.35s/it]"
          ]
        },
        {
          "output_type": "stream",
          "name": "stdout",
          "text": [
            "--------------------------------------------- Result 3 ---------------------------------------------\n",
            "[[1 (100%)]] --> [[0 (53%)]]\n",
            "\n",
            "has your [[mortgage]] search got you down are you frustrated and confused with all the [[different]] terms and quotes don t know who is telling you the truth we can solve all your [[problems]] visit our site today and in two minutes you can have us searching [[thousands]] of programs and lenders for you get the truth get the facts get your options all in one [[shot]] it s absolutely [[free]] and you can be done in only two minutes so hyperlink click right now and put your worries behind you ryte 1635465 po1635465 kj 1635465j1635465bjk\n",
            "\n",
            "has your [[refinance]] search got you down are you frustrated and confused with all the [[variable]] terms and quotes don t know who is telling you the truth we can solve all your [[matter]] visit our site today and in two minutes you can have us searching [[mil]] of programs and lenders for you get the truth get the facts get your options all in one [[whack]] it s absolutely [[gratuitous]] and you can be done in only two minutes so hyperlink click right now and put your worries behind you ryte 1635465 po1635465 kj 1635465j1635465bjk\n",
            "\n",
            "\n"
          ]
        },
        {
          "output_type": "stream",
          "name": "stderr",
          "text": [
            "[Succeeded / Failed / Skipped / Total] 4 / 0 / 0 / 4:  40%|████      | 4/10 [00:35<00:53,  8.97s/it]"
          ]
        },
        {
          "output_type": "stream",
          "name": "stdout",
          "text": [
            "--------------------------------------------- Result 4 ---------------------------------------------\n",
            "[[1 (100%)]] --> [[0 (51%)]]\n",
            "\n",
            "[[hi]] my name is bailey and i ' [[m]] 19 years [[old]] . i [[have]] [[voluptuous]] [[body]] , [[dark]] brown [[hair]] and [[hazel]] [[eyes]] and a [[nice]] [[dd]] [[breast]] i love [[affection]] and [[looking]] for [[someone]] to [[have]] some [[fun]] with ( without [[obligations]] ) . you can [[contact]] me now at : http : / / vicinal . myabsinth . com / 575 [[r]] . html ( registration is free of [[charge]] ) [[see]] you soon you ' [[re]] a [[catch]] . you know it and we know it . now it ' s [[time]] to [[let]] them [[know]] it . 1 , 451 , 004 swingers already [[registered]] [[so]] , what are you [[waiting]] for ? just [[click]] below and [[dive]] right into [[creating]] your [[ad]] : http : / / muscular . myabsinth . com / 575 [[r]] . html if you [[got]] this [[message]] by mistake , or you do not [[wish]] to [[get]] [[messages]] from [[dating]] please [[click]] : http : / / [[quash]] . myabsinth . com / nothanks . php ion [[marketing]] [[limited]] d 2 , 23 , borrett road , [[mid]] - [[levels]] [[west]] hong [[kong]] \n",
            "\n",
            "[[sayonara]] my name is bailey and i ' [[meter]] 19 years [[older]] . i [[had]] [[sensuous]] [[org]] , [[foggy]] brown [[helmet]] and [[chestnut]] [[ojo]] and a [[charming]] [[jj]] [[suck]] i love [[tenderness]] and [[excavations]] for [[allen]] to [[ter]] some [[comedy]] with ( without [[commitments]] ) . you can [[coordinate]] me now at : http : / / vicinal . myabsinth . com / 575 [[s]] . html ( registration is free of [[workload]] ) [[suppose]] you soon you ' [[er]] a [[capturing]] . you know it and we know it . now it ' s [[timeframe]] to [[departing]] them [[do]] it . 1 , 451 , 004 swingers already [[recording]] [[afterward]] , what are you [[anticipated]] for ? just [[pick]] below and [[delve]] right into [[formation]] your [[declarations]] : http : / / muscular . myabsinth . com / 575 [[s]] . html if you [[have]] this [[messengers]] by mistake , or you do not [[longing]] to [[have]] [[announcements]] from [[date]] please [[opted]] : http : / / [[annul]] . myabsinth . com / nothanks . php ion [[mercado]] [[braked]] d 2 , 23 , borrett road , [[midway]] - [[hierarchy]] [[sahara]] hong [[hongkong]] \n",
            "\n",
            "\n"
          ]
        },
        {
          "output_type": "stream",
          "name": "stderr",
          "text": [
            "[Succeeded / Failed / Skipped / Total] 5 / 0 / 0 / 5:  50%|█████     | 5/10 [00:54<00:54, 10.94s/it]"
          ]
        },
        {
          "output_type": "stream",
          "name": "stdout",
          "text": [
            "--------------------------------------------- Result 5 ---------------------------------------------\n",
            "[[1 (100%)]] --> [[0 (63%)]]\n",
            "\n",
            "windowflower . com is one of the [[biggest]] [[arts]] [[providers]] [[based]] in [[china]] . we [[supply]] you with high - quality , [[artistic]] , and customized [[chinese]] [[paper]] - [[cut]] [[products]] ! [[add]] [[elegance]] and cultural [[touch]] to your [[life]] and [[business]] ! windowflower . [[com]] you are [[receiving]] this email [[because]] you [[opted]] - in to [[receive]] [[special]] [[offers]] through a [[partner]] [[website]] . if you [[feel]] that you [[received]] this email in [[error]] or do not [[wish]] to [[receive]] additional [[special]] [[offers]] , please [[enter]] your [[email]] [[address]] here and [[click]] the [[button]] of \n",
            "\n",
            "windowflower . com is one of the [[longer]] [[artwork]] [[contributors]] [[bedrock]] in [[hua]] . we [[provides]] you with high - quality , [[eclectic]] , and customized [[shanghainese]] [[journal]] - [[dicing]] [[productions]] ! [[incorporating]] [[styles]] and cultural [[touches]] to your [[forever]] and [[undertakings]] ! windowflower . [[coms]] you are [[hosting]] this email [[as]] you [[decides]] - in to [[recieve]] [[odd]] [[presenting]] through a [[partners]] [[venue]] . if you [[sentiment]] that you [[host]] this email in [[mistakes]] or do not [[attempt]] to [[enjoy]] additional [[alfred]] [[poses]] , please [[include]] your [[inbox]] [[solve]] here and [[selection]] the [[knob]] of \n",
            "\n",
            "\n"
          ]
        },
        {
          "output_type": "stream",
          "name": "stderr",
          "text": [
            "[Succeeded / Failed / Skipped / Total] 6 / 0 / 0 / 6:  60%|██████    | 6/10 [00:58<00:38,  9.73s/it]"
          ]
        },
        {
          "output_type": "stream",
          "name": "stdout",
          "text": [
            "--------------------------------------------- Result 6 ---------------------------------------------\n",
            "[[0 (100%)]] --> [[1 (51%)]]\n",
            "\n",
            "please [[join]] [[us]] for breakfast this [[friday]] , [[october]] 27 , ( by [[steve]] weller ' s [[desk]] ) around 8 : 30 a . m . to celebrate the [[following]] [[birthdays]] : [[october]] [[julie]] [[armstrong]] 15 th theresa branney 16 [[th]] don powell 20 [[th]] morgan gottsponer 22 nd t . k . lohman 29 [[th]] dana jones 31 [[st]]\n",
            "\n",
            "please [[unites]] [[our]] for breakfast this [[sunday]] , [[avril]] 27 , ( by [[stephan]] weller ' s [[chambre]] ) around 8 : 30 a . m . to celebrate the [[next]] [[feasts]] : [[avril]] [[jolie]] [[apollo]] 15 th theresa branney 16 [[gerardo]] don powell 20 [[gonzalez]] morgan gottsponer 22 nd t . k . lohman 29 [[gerardo]] dana jones 31 [[thoroughfare]]\n",
            "\n",
            "\n"
          ]
        },
        {
          "output_type": "stream",
          "name": "stderr",
          "text": [
            "[Succeeded / Failed / Skipped / Total] 7 / 0 / 0 / 7:  70%|███████   | 7/10 [01:01<00:26,  8.76s/it]"
          ]
        },
        {
          "output_type": "stream",
          "name": "stdout",
          "text": [
            "--------------------------------------------- Result 7 ---------------------------------------------\n",
            "[[0 (100%)]] --> [[1 (55%)]]\n",
            "\n",
            "[[join]] clyde drexler on espeak at ethink . [[enron]] . com , wednesday , june 14 at 10 a . [[m]] . [[houston]] time . clyde , an nba legend , will conduct an \" open mike \" session to answer whatever questions you have for him . are you at a remote location or can ' t make the event ? go into espeak now and pre - submit your question ( s ) for clyde to answer during the [[scheduled]] [[event]] . we want to answer everyone ' s questions , but due to the high volume of questions we anticipate on this session , it would be helpful if you can keep your questions short and simple . this will increase the opportunity for your question to be answered . ethink : invest your mind\n",
            "\n",
            "[[endorses]] clyde drexler on espeak at ethink . [[ponzi]] . com , wednesday , june 14 at 10 a . [[trillions]] . [[chandler]] time . clyde , an nba legend , will conduct an \" open mike \" session to answer whatever questions you have for him . are you at a remote location or can ' t make the event ? go into espeak now and pre - submit your question ( s ) for clyde to answer during the [[prophesy]] [[cas]] . we want to answer everyone ' s questions , but due to the high volume of questions we anticipate on this session , it would be helpful if you can keep your questions short and simple . this will increase the opportunity for your question to be answered . ethink : invest your mind\n",
            "\n",
            "\n"
          ]
        },
        {
          "output_type": "stream",
          "name": "stderr",
          "text": [
            "[Succeeded / Failed / Skipped / Total] 8 / 0 / 0 / 8:  80%|████████  | 8/10 [01:02<00:15,  7.86s/it]"
          ]
        },
        {
          "output_type": "stream",
          "name": "stdout",
          "text": [
            "--------------------------------------------- Result 8 ---------------------------------------------\n",
            "[[1 (92%)]] --> [[0 (56%)]]\n",
            "\n",
            "[[n]] 45days [[reduce]] fat8 inchusesauna [[slim]] belt650 vibration belt999 ncr50rs extrafree [[yoko]] call now:9268250573/931130487\n",
            "\n",
            "[[nitrogen]] 45days [[shrinkage]] fat8 inchusesauna [[fina]] belt650 vibration belt999 ncr50rs extrafree [[matsumoto]] call now:9268250573/931130487\n",
            "\n",
            "\n"
          ]
        },
        {
          "output_type": "stream",
          "name": "stderr",
          "text": [
            "[Succeeded / Failed / Skipped / Total] 9 / 0 / 0 / 9:  90%|█████████ | 9/10 [01:40<00:11, 11.17s/it]"
          ]
        },
        {
          "output_type": "stream",
          "name": "stdout",
          "text": [
            "--------------------------------------------- Result 9 ---------------------------------------------\n",
            "[[1 (100%)]] --> [[0 (51%)]]\n",
            "\n",
            "googlecash gives you all the tools you [[need]] to turn the search [[engine]] [[google]] . [[com]] into an autopilot [[cash]] generating machine ! what ' s your dream [[lifestyle]] ? challenge schnabel behind jolla cozy buttrick isabel [[solder]] excerpt [[breakfast]] [[tame]] firewall [[hatchet]] [[ooze]] boggle decompression [[london]] recriminate [[coat]] inbreed [[churchyard]] dar [[yoke]] [[snappy]] extrema [[grind]] [[cookie]] longitudinal [[suntan]] buttress [[herpes]] quadrillion improvisate [[idiot]] antarctica maybe [[embarrass]] bermuda lawman octillion [[musket]] betoken [[alacrity]] [[request]] [[seizure]] [[fateful]] [[mile]] conjunct [[courier]] administrable there [[stepmother]] boycott importune [[chronicle]] cavern [[catch]] aeronautic [[prestigious]] thermofax [[interruption]] irredeemable hesitater [[pursue]] abbas [[aruba]] [[berra]] dean [[lockwood]] [[jimenez]] [[sioux]] [[ac]] collocation [[dempsey]] bowstring [[maintenance]] orono extant [[vast]] debunk galvanometer punster [[swatch]] cryptology [[contain]] [[convoy]] [[intelligentsia]] [[cathode]] celandine [[tutu]] [[geranium]] [[revolve]] [[exact]] [[serbia]] aspartic tally [[adultery]] christoffel erskine [[ethel]] [[absorption]] [[coil]] [[christen]] simple cartilaginous [[driven]] [[practitioner]] [[retire]] booklet [[barge]] aquila [[inflammatory]] [[digging]] [[criminal]] ditzel [[cherry]] [[trench]] [[continued]] [[notch]] evolutionary [[gus]] announce tic [[shanghai]] [[quartz]] atlantis pulaski importunate [[mcallister]] utterance [[immigrant]] [[rhetoric]] molybdenite [[resolution]] bronchitis [[dog]] spacecraft eccentric enunciable incident \n",
            "\n",
            "googlecash gives you all the tools you [[should]] to turn the search [[engines]] [[youtube]] . [[omg]] into an autopilot [[funding]] generating machine ! what ' s your dream [[liv]] ? challenge schnabel behind jolla cozy buttrick isabel [[weld]] excerpt [[feedings]] [[cropped]] firewall [[fez]] [[oozes]] boggle decompression [[kingdom]] recriminate [[layer]] inbreed [[burial]] dar [[fork]] [[goofy]] extrema [[smoothing]] [[witnesses]] longitudinal [[tanning]] buttress [[colds]] quadrillion improvisate [[jerk]] antarctica maybe [[ignominy]] bermuda lawman octillion [[canyons]] betoken [[preparedness]] [[calls]] [[capture]] [[letal]] [[demille]] conjunct [[messengers]] administrable there [[daugther]] boycott importune [[facts]] cavern [[traps]] aeronautic [[noteworthy]] thermofax [[pausing]] irredeemable hesitater [[continuation]] abbas [[bermuda]] [[dimaggio]] dean [[chadwick]] [[ramirez]] [[duluth]] [[hq]] collocation [[landon]] bowstring [[remained]] orono extant [[major]] debunk galvanometer punster [[sampler]] cryptology [[consisted]] [[flotilla]] [[thinkers]] [[diode]] celandine [[toto]] [[clover]] [[rotations]] [[rigorous]] [[bih]] aspartic tally [[betray]] christoffel erskine [[beulah]] [[absorbing]] [[coils]] [[kristen]] simple cartilaginous [[reasoned]] [[physicist]] [[retreats]] booklet [[twisting]] aquila [[holocaust]] [[searches]] [[mugger]] ditzel [[ice]] [[hole]] [[continuation]] [[gash]] evolutionary [[guys]] announce tic [[nanjing]] [[turquoise]] atlantis pulaski importunate [[davis]] utterance [[newcomer]] [[statements]] molybdenite [[decisions]] bronchitis [[stacy]] spacecraft eccentric enunciable incident \n",
            "\n",
            "\n"
          ]
        },
        {
          "output_type": "stream",
          "name": "stderr",
          "text": [
            "[Succeeded / Failed / Skipped / Total] 10 / 0 / 0 / 10: 100%|██████████| 10/10 [01:42<00:00, 10.23s/it]"
          ]
        },
        {
          "output_type": "stream",
          "name": "stdout",
          "text": [
            "--------------------------------------------- Result 10 ---------------------------------------------\n",
            "[[0 (100%)]] --> [[1 (58%)]]\n",
            "\n",
            "hi does anyone [[have]] a collection of real world spam that i could use to test my [[setup]] this url email is sponsored by osdn tired of that same old cell phone get a new here for free url spamassassin talk mailing [[list]] spamassassin talk url url\n",
            "\n",
            "hi does anyone [[enjoys]] a collection of real world spam that i could use to test my [[fixture]] this url email is sponsored by osdn tired of that same old cell phone get a new here for free url spamassassin talk mailing [[registered]] spamassassin talk url url\n",
            "\n",
            "\n",
            "\n",
            "+-------------------------------+--------+\n",
            "| Attack Results                |        |\n",
            "+-------------------------------+--------+\n",
            "| Number of successful attacks: | 10     |\n",
            "| Number of failed attacks:     | 0      |\n",
            "| Number of skipped attacks:    | 0      |\n",
            "| Original accuracy:            | 100.0% |\n",
            "| Accuracy under attack:        | 0.0%   |\n",
            "| Attack success rate:          | 100.0% |\n",
            "| Average perturbed word %:     | 24.2%  |\n",
            "| Average num. words per input: | 80.0   |\n",
            "| Avg num queries:              | 598.9  |\n",
            "+-------------------------------+--------+\n"
          ]
        },
        {
          "output_type": "stream",
          "name": "stderr",
          "text": [
            "\n"
          ]
        },
        {
          "output_type": "execute_result",
          "data": {
            "text/plain": [
              "[<textattack.attack_results.successful_attack_result.SuccessfulAttackResult at 0x79b960b93250>,\n",
              " <textattack.attack_results.successful_attack_result.SuccessfulAttackResult at 0x79b94c25ae10>,\n",
              " <textattack.attack_results.successful_attack_result.SuccessfulAttackResult at 0x79b94c102210>,\n",
              " <textattack.attack_results.successful_attack_result.SuccessfulAttackResult at 0x79b9617d1310>,\n",
              " <textattack.attack_results.successful_attack_result.SuccessfulAttackResult at 0x79b972125bd0>,\n",
              " <textattack.attack_results.successful_attack_result.SuccessfulAttackResult at 0x79b922280190>,\n",
              " <textattack.attack_results.successful_attack_result.SuccessfulAttackResult at 0x79b925b0ff10>,\n",
              " <textattack.attack_results.successful_attack_result.SuccessfulAttackResult at 0x79b9256c1190>,\n",
              " <textattack.attack_results.successful_attack_result.SuccessfulAttackResult at 0x79b961bdc510>,\n",
              " <textattack.attack_results.successful_attack_result.SuccessfulAttackResult at 0x79b91e747f10>]"
            ]
          },
          "metadata": {},
          "execution_count": 33
        }
      ]
    },
    {
      "cell_type": "markdown",
      "source": [
        "## Apply WordBug attack"
      ],
      "metadata": {
        "id": "33ZAtR1GB_F2"
      }
    },
    {
      "cell_type": "code",
      "source": [
        "# WordBug attack introduces character-level perturbations\n",
        "\n",
        "from textattack.attack_recipes import DeepWordBugGao2018\n",
        "attack_2 = DeepWordBugGao2018.build(wrapped_model)"
      ],
      "metadata": {
        "id": "QqcczALuCCi3",
        "colab": {
          "base_uri": "https://localhost:8080/"
        },
        "outputId": "093f5014-d7c8-4667-c19c-37181735397f"
      },
      "execution_count": null,
      "outputs": [
        {
          "output_type": "stream",
          "name": "stderr",
          "text": [
            "textattack: Unknown if model of class <class 'transformers.models.mobilebert.modeling_mobilebert.MobileBertForSequenceClassification'> compatible with goal function <class 'textattack.goal_functions.classification.untargeted_classification.UntargetedClassification'>.\n"
          ]
        }
      ]
    },
    {
      "cell_type": "code",
      "source": [
        "# Run the attack to the 10 sentences from the test dataset\n",
        "attacker = Attacker(attack_2, testdataset10samples_dataset)\n",
        "attacker.attack_dataset()"
      ],
      "metadata": {
        "id": "E-Ce1Iv7CD_G",
        "colab": {
          "base_uri": "https://localhost:8080/"
        },
        "outputId": "84ff6f05-58fd-413f-c4b8-967a2e992e72"
      },
      "execution_count": null,
      "outputs": [
        {
          "output_type": "stream",
          "name": "stdout",
          "text": [
            "Attack(\n",
            "  (search_method): GreedyWordSwapWIR(\n",
            "    (wir_method):  unk\n",
            "  )\n",
            "  (goal_function):  UntargetedClassification\n",
            "  (transformation):  CompositeTransformation(\n",
            "    (0): WordSwapNeighboringCharacterSwap(\n",
            "        (random_one):  True\n",
            "      )\n",
            "    (1): WordSwapRandomCharacterSubstitution(\n",
            "        (random_one):  True\n",
            "      )\n",
            "    (2): WordSwapRandomCharacterDeletion(\n",
            "        (random_one):  True\n",
            "      )\n",
            "    (3): WordSwapRandomCharacterInsertion(\n",
            "        (random_one):  True\n",
            "      )\n",
            "    )\n",
            "  (constraints): \n",
            "    (0): LevenshteinEditDistance(\n",
            "        (max_edit_distance):  30\n",
            "        (compare_against_original):  True\n",
            "      )\n",
            "    (1): RepeatModification\n",
            "    (2): StopwordModification\n",
            "  (is_black_box):  True\n",
            ") \n",
            "\n"
          ]
        },
        {
          "output_type": "stream",
          "name": "stderr",
          "text": [
            "[Succeeded / Failed / Skipped / Total] 1 / 0 / 0 / 1:  10%|█         | 1/10 [00:00<00:03,  2.92it/s]"
          ]
        },
        {
          "output_type": "stream",
          "name": "stdout",
          "text": [
            "--------------------------------------------- Result 1 ---------------------------------------------\n",
            "[[0 (98%)]] --> [[1 (66%)]]\n",
            "\n",
            "im [[working]] [[technical]] [[support]] voice [[process]]\n",
            "\n",
            "im [[lworking]] [[techcical]] [[gsupport]] voice [[procpss]]\n",
            "\n",
            "\n"
          ]
        },
        {
          "output_type": "stream",
          "name": "stderr",
          "text": [
            "[Succeeded / Failed / Skipped / Total] 2 / 0 / 0 / 2:  20%|██        | 2/10 [00:02<00:10,  1.37s/it]"
          ]
        },
        {
          "output_type": "stream",
          "name": "stdout",
          "text": [
            "--------------------------------------------- Result 2 ---------------------------------------------\n",
            "[[1 (99%)]] --> [[0 (52%)]]\n",
            "\n",
            "dirty [[pictureblyk]] on [[aircel]] thanks you for being a [[valued]] [[member]] [[heres]] an [[exclusive]] animated trailer for the dirty picture the [[insider]] scoop saysvidya balans [[sexy]] [[avatar]] itsy bitsy clothes cleavageshowing blouses and raunchy dance numbers in the dirty picture are receiving [[jawdropping]] reactions [[fans]] and [[trade]] pundits say the [[masala]] movie is expected to beat the musical [[treat]] [[rockstar]] the funfilled desi [[boyz]] and the action thriller don 2 dont [[miss]] it!\n",
            "\n",
            "dirty [[picturelbyk]] on [[Tircel]] thanks you for being a [[vdalued]] [[ember]] [[hers]] an [[xclusive]] animated trailer for the dirty picture the [[inlider]] scoop saysvidya balans [[sey]] [[avatTar]] itsy bitsy clothes cleavageshowing blouses and raunchy dance numbers in the dirty picture are receiving [[jaswdropping]] reactions [[fan]] and [[tarde]] pundits say the [[masaal]] movie is expected to beat the musical [[treta]] [[rockstra]] the funfilled desi [[boy]] and the action thriller don 2 dont [[mis]] it!\n",
            "\n",
            "\n"
          ]
        },
        {
          "output_type": "stream",
          "name": "stderr",
          "text": [
            "[Succeeded / Failed / Skipped / Total] 3 / 0 / 0 / 3:  30%|███       | 3/10 [00:03<00:08,  1.24s/it]"
          ]
        },
        {
          "output_type": "stream",
          "name": "stdout",
          "text": [
            "--------------------------------------------- Result 3 ---------------------------------------------\n",
            "[[1 (100%)]] --> [[0 (51%)]]\n",
            "\n",
            "has your [[mortgage]] search got you down are you frustrated and confused with all the different terms and quotes don t know who is telling you the truth we can solve all your problems visit our site today and in two minutes you can have us searching [[thousands]] of programs and [[lenders]] for you get the truth get the facts get your options all in one shot it s absolutely free and you can be done in only two minutes so hyperlink click right now and put your worries [[behind]] you ryte 1635465 po1635465 kj 1635465j1635465bjk\n",
            "\n",
            "has your [[mortgae]] search got you down are you frustrated and confused with all the different terms and quotes don t know who is telling you the truth we can solve all your problems visit our site today and in two minutes you can have us searching [[thousnads]] of programs and [[lnders]] for you get the truth get the facts get your options all in one shot it s absolutely free and you can be done in only two minutes so hyperlink click right now and put your worries [[ehind]] you ryte 1635465 po1635465 kj 1635465j1635465bjk\n",
            "\n",
            "\n"
          ]
        },
        {
          "output_type": "stream",
          "name": "stderr",
          "text": [
            "[Succeeded / Failed / Skipped / Total] 3 / 1 / 0 / 4:  40%|████      | 4/10 [00:08<00:12,  2.05s/it]"
          ]
        },
        {
          "output_type": "stream",
          "name": "stdout",
          "text": [
            "--------------------------------------------- Result 4 ---------------------------------------------\n",
            "[[1 (100%)]] --> [[[FAILED]]]\n",
            "\n",
            "hi my name is bailey and i ' m 19 years old . i have voluptuous body , dark brown hair and hazel eyes and a nice dd breast i love affection and looking for someone to have some fun with ( without obligations ) . you can contact me now at : http : / / vicinal . myabsinth . com / 575 r . html ( registration is free of charge ) see you soon you ' re a catch . you know it and we know it . now it ' s time to let them know it . 1 , 451 , 004 swingers already registered so , what are you waiting for ? just click below and dive right into creating your ad : http : / / muscular . myabsinth . com / 575 r . html if you got this message by mistake , or you do not wish to get messages from dating please click : http : / / quash . myabsinth . com / nothanks . php ion marketing limited d 2 , 23 , borrett road , mid - levels west hong kong \n",
            "\n",
            "\n"
          ]
        },
        {
          "output_type": "stream",
          "name": "stderr",
          "text": [
            "[Succeeded / Failed / Skipped / Total] 3 / 2 / 0 / 5:  50%|█████     | 5/10 [00:11<00:11,  2.38s/it]"
          ]
        },
        {
          "output_type": "stream",
          "name": "stdout",
          "text": [
            "--------------------------------------------- Result 5 ---------------------------------------------\n",
            "[[1 (100%)]] --> [[[FAILED]]]\n",
            "\n",
            "windowflower . com is one of the biggest arts providers based in china . we supply you with high - quality , artistic , and customized chinese paper - cut products ! add elegance and cultural touch to your life and business ! windowflower . com you are receiving this email because you opted - in to receive special offers through a partner website . if you feel that you received this email in error or do not wish to receive additional special offers , please enter your email address here and click the button of \n",
            "\n",
            "\n"
          ]
        },
        {
          "output_type": "stream",
          "name": "stderr",
          "text": [
            "[Succeeded / Failed / Skipped / Total] 4 / 2 / 0 / 6:  60%|██████    | 6/10 [00:13<00:08,  2.24s/it]"
          ]
        },
        {
          "output_type": "stream",
          "name": "stdout",
          "text": [
            "--------------------------------------------- Result 6 ---------------------------------------------\n",
            "[[0 (100%)]] --> [[1 (53%)]]\n",
            "\n",
            "[[please]] [[join]] us for breakfast this friday , [[october]] [[27]] , ( by [[steve]] [[weller]] ' s [[desk]] ) [[around]] 8 : 30 a . m . to celebrate the following [[birthdays]] : [[october]] [[julie]] [[armstrong]] 15 th theresa [[branney]] [[16]] th don powell 20 th morgan gottsponer 22 nd t . k . lohman 29 th dana jones 31 st\n",
            "\n",
            "[[pglease]] [[jqin]] us for breakfast this friday , [[cotober]] [[72]] , ( by [[steva]] [[eller]] ' s [[deZsk]] ) [[raound]] 8 : 30 a . m . to celebrate the following [[vbirthdays]] : [[soctober]] [[ulie]] [[arfmstrong]] 15 th theresa [[braney]] [[61]] th don powell 20 th morgan gottsponer 22 nd t . k . lohman 29 th dana jones 31 st\n",
            "\n",
            "\n"
          ]
        },
        {
          "output_type": "stream",
          "name": "stderr",
          "text": [
            "[Succeeded / Failed / Skipped / Total] 5 / 2 / 0 / 7:  70%|███████   | 7/10 [00:15<00:06,  2.18s/it]"
          ]
        },
        {
          "output_type": "stream",
          "name": "stdout",
          "text": [
            "--------------------------------------------- Result 7 ---------------------------------------------\n",
            "[[0 (100%)]] --> [[1 (53%)]]\n",
            "\n",
            "[[join]] [[clyde]] drexler on espeak at [[ethink]] . [[enron]] . com , wednesday , [[june]] 14 at [[10]] a . m . [[houston]] time . [[clyde]] , an nba [[legend]] , will conduct an \" open mike \" session to answer whatever questions you have for him . are you at a remote [[location]] or can ' t make the event ? go into espeak now and pre - submit your question ( s ) for clyde to answer during the scheduled [[event]] . we want to answer everyone ' s questions , but due to the high volume of questions we anticipate on this [[session]] , it would be helpful if you can keep your questions short and simple . this will increase the opportunity for your question to be answered . [[ethink]] : invest your mind\n",
            "\n",
            "[[Koin]] [[clytde]] drexler on espeak at [[ethnik]] . [[nron]] . com , wednesday , [[jnue]] 14 at [[1G0]] a . m . [[housotn]] time . [[cldye]] , an nba [[Llegend]] , will conduct an \" open mike \" session to answer whatever questions you have for him . are you at a remote [[locatino]] or can ' t make the event ? go into espeak now and pre - submit your question ( s ) for clyde to answer during the scheduled [[cevent]] . we want to answer everyone ' s questions , but due to the high volume of questions we anticipate on this [[sessino]] , it would be helpful if you can keep your questions short and simple . this will increase the opportunity for your question to be answered . [[etjink]] : invest your mind\n",
            "\n",
            "\n"
          ]
        },
        {
          "output_type": "stream",
          "name": "stderr",
          "text": [
            "[Succeeded / Failed / Skipped / Total] 6 / 2 / 0 / 8:  80%|████████  | 8/10 [00:16<00:04,  2.03s/it]"
          ]
        },
        {
          "output_type": "stream",
          "name": "stdout",
          "text": [
            "--------------------------------------------- Result 8 ---------------------------------------------\n",
            "[[1 (92%)]] --> [[0 (64%)]]\n",
            "\n",
            "n [[45days]] [[reduce]] fat8 [[inchusesauna]] [[slim]] belt650 vibration [[belt999]] [[ncr50rs]] [[extrafree]] yoko [[call]] now:[[9268250573]]/[[931130487]]\n",
            "\n",
            "n [[4p5days]] [[rEeduce]] fat8 [[incuhsesauna]] [[sim]] belt650 vibration [[belt9M99]] [[ncr05rs]] [[extraree]] yoko [[acll]] now:[[926825057]]/[[31130487]]\n",
            "\n",
            "\n"
          ]
        },
        {
          "output_type": "stream",
          "name": "stderr",
          "text": [
            "[Succeeded / Failed / Skipped / Total] 6 / 3 / 0 / 9:  90%|█████████ | 9/10 [00:23<00:02,  2.57s/it]"
          ]
        },
        {
          "output_type": "stream",
          "name": "stdout",
          "text": [
            "--------------------------------------------- Result 9 ---------------------------------------------\n",
            "[[1 (100%)]] --> [[[FAILED]]]\n",
            "\n",
            "googlecash gives you all the tools you need to turn the search engine google . com into an autopilot cash generating machine ! what ' s your dream lifestyle ? challenge schnabel behind jolla cozy buttrick isabel solder excerpt breakfast tame firewall hatchet ooze boggle decompression london recriminate coat inbreed churchyard dar yoke snappy extrema grind cookie longitudinal suntan buttress herpes quadrillion improvisate idiot antarctica maybe embarrass bermuda lawman octillion musket betoken alacrity request seizure fateful mile conjunct courier administrable there stepmother boycott importune chronicle cavern catch aeronautic prestigious thermofax interruption irredeemable hesitater pursue abbas aruba berra dean lockwood jimenez sioux ac collocation dempsey bowstring maintenance orono extant vast debunk galvanometer punster swatch cryptology contain convoy intelligentsia cathode celandine tutu geranium revolve exact serbia aspartic tally adultery christoffel erskine ethel absorption coil christen simple cartilaginous driven practitioner retire booklet barge aquila inflammatory digging criminal ditzel cherry trench continued notch evolutionary gus announce tic shanghai quartz atlantis pulaski importunate mcallister utterance immigrant rhetoric molybdenite resolution bronchitis dog spacecraft eccentric enunciable incident \n",
            "\n",
            "\n"
          ]
        },
        {
          "output_type": "stream",
          "name": "stderr",
          "text": [
            "[Succeeded / Failed / Skipped / Total] 7 / 3 / 0 / 10: 100%|██████████| 10/10 [00:23<00:00,  2.39s/it]"
          ]
        },
        {
          "output_type": "stream",
          "name": "stdout",
          "text": [
            "--------------------------------------------- Result 10 ---------------------------------------------\n",
            "[[0 (100%)]] --> [[1 (63%)]]\n",
            "\n",
            "hi does anyone have a collection of real world spam that i could use to test my [[setup]] this [[url]] email is sponsored by osdn tired of that same old cell phone get a new here for free url [[spamassassin]] talk mailing list [[spamassassin]] talk url [[url]]\n",
            "\n",
            "hi does anyone have a collection of real world spam that i could use to test my [[seutp]] this [[ujrl]] email is sponsored by osdn tired of that same old cell phone get a new here for free url [[spamasFsassin]] talk mailing list [[spamasstssin]] talk url [[ur]]\n",
            "\n",
            "\n",
            "\n",
            "+-------------------------------+--------+\n",
            "| Attack Results                |        |\n",
            "+-------------------------------+--------+\n",
            "| Number of successful attacks: | 7      |\n",
            "| Number of failed attacks:     | 3      |\n",
            "| Number of skipped attacks:    | 0      |\n",
            "| Original accuracy:            | 100.0% |\n",
            "| Accuracy under attack:        | 30.0%  |\n",
            "| Attack success rate:          | 70.0%  |\n",
            "| Average perturbed word %:     | 29.52% |\n",
            "| Average num. words per input: | 80.0   |\n",
            "| Avg num queries:              | 135.1  |\n",
            "+-------------------------------+--------+\n"
          ]
        },
        {
          "output_type": "stream",
          "name": "stderr",
          "text": [
            "\n"
          ]
        },
        {
          "output_type": "execute_result",
          "data": {
            "text/plain": [
              "[<textattack.attack_results.successful_attack_result.SuccessfulAttackResult at 0x79b91e747190>,\n",
              " <textattack.attack_results.successful_attack_result.SuccessfulAttackResult at 0x79b91defadd0>,\n",
              " <textattack.attack_results.successful_attack_result.SuccessfulAttackResult at 0x79b91e72bfd0>,\n",
              " <textattack.attack_results.failed_attack_result.FailedAttackResult at 0x79b91fc28d10>,\n",
              " <textattack.attack_results.failed_attack_result.FailedAttackResult at 0x79b91e41f850>,\n",
              " <textattack.attack_results.successful_attack_result.SuccessfulAttackResult at 0x79b91ea22e50>,\n",
              " <textattack.attack_results.successful_attack_result.SuccessfulAttackResult at 0x79b91f6ed450>,\n",
              " <textattack.attack_results.successful_attack_result.SuccessfulAttackResult at 0x79b91f6ed390>,\n",
              " <textattack.attack_results.failed_attack_result.FailedAttackResult at 0x79b91fec6110>,\n",
              " <textattack.attack_results.successful_attack_result.SuccessfulAttackResult at 0x79b920097510>]"
            ]
          },
          "metadata": {},
          "execution_count": 35
        }
      ]
    },
    {
      "cell_type": "markdown",
      "source": [
        "## Apply PWWS (Probability Weighted Word Saliency) attack"
      ],
      "metadata": {
        "id": "pCaHFLt2CIyn"
      }
    },
    {
      "cell_type": "code",
      "source": [
        "# PWWS attack uses word importance scores to modify text (i.e., modify the most important words in a sentence)\n",
        "from textattack.attack_recipes import PWWSRen2019\n",
        "attack_3 = PWWSRen2019.build(wrapped_model)"
      ],
      "metadata": {
        "id": "HCTV_s7TCLkf",
        "colab": {
          "base_uri": "https://localhost:8080/"
        },
        "outputId": "10991996-1fb1-4b98-fa9a-403bc4acf1e8"
      },
      "execution_count": null,
      "outputs": [
        {
          "output_type": "stream",
          "name": "stderr",
          "text": [
            "[nltk_data] Downloading package omw-1.4 to /root/nltk_data...\n",
            "textattack: Unknown if model of class <class 'transformers.models.mobilebert.modeling_mobilebert.MobileBertForSequenceClassification'> compatible with goal function <class 'textattack.goal_functions.classification.untargeted_classification.UntargetedClassification'>.\n"
          ]
        }
      ]
    },
    {
      "cell_type": "code",
      "source": [
        "# Run the attack to the 10 sentences from the test dataset\n",
        "attacker = Attacker(attack_3, testdataset10samples_dataset)\n",
        "attacker.attack_dataset()"
      ],
      "metadata": {
        "id": "wPb585_ECO7d",
        "colab": {
          "base_uri": "https://localhost:8080/"
        },
        "outputId": "26da4d1c-d139-431a-8a29-cda6cc38c1da"
      },
      "execution_count": null,
      "outputs": [
        {
          "output_type": "stream",
          "name": "stdout",
          "text": [
            "Attack(\n",
            "  (search_method): GreedyWordSwapWIR(\n",
            "    (wir_method):  weighted-saliency\n",
            "  )\n",
            "  (goal_function):  UntargetedClassification\n",
            "  (transformation):  WordSwapWordNet\n",
            "  (constraints): \n",
            "    (0): RepeatModification\n",
            "    (1): StopwordModification\n",
            "  (is_black_box):  True\n",
            ") \n",
            "\n"
          ]
        },
        {
          "output_type": "stream",
          "name": "stderr",
          "text": [
            "[Succeeded / Failed / Skipped / Total] 1 / 0 / 0 / 1:  10%|█         | 1/10 [00:01<00:14,  1.59s/it]"
          ]
        },
        {
          "output_type": "stream",
          "name": "stdout",
          "text": [
            "--------------------------------------------- Result 1 ---------------------------------------------\n",
            "[[0 (98%)]] --> [[1 (98%)]]\n",
            "\n",
            "im working technical [[support]] voice process\n",
            "\n",
            "im working technical [[patronize]] voice process\n",
            "\n",
            "\n"
          ]
        },
        {
          "output_type": "stream",
          "name": "stderr",
          "text": [
            "[Succeeded / Failed / Skipped / Total] 1 / 1 / 0 / 2:  20%|██        | 2/10 [00:13<00:52,  6.59s/it]"
          ]
        },
        {
          "output_type": "stream",
          "name": "stdout",
          "text": [
            "--------------------------------------------- Result 2 ---------------------------------------------\n",
            "[[1 (99%)]] --> [[[FAILED]]]\n",
            "\n",
            "dirty pictureblyk on aircel thanks you for being a valued member heres an exclusive animated trailer for the dirty picture the insider scoop saysvidya balans sexy avatar itsy bitsy clothes cleavageshowing blouses and raunchy dance numbers in the dirty picture are receiving jawdropping reactions fans and trade pundits say the masala movie is expected to beat the musical treat rockstar the funfilled desi boyz and the action thriller don 2 dont miss it!\n",
            "\n",
            "\n"
          ]
        },
        {
          "output_type": "stream",
          "name": "stderr",
          "text": [
            "[Succeeded / Failed / Skipped / Total] 2 / 1 / 0 / 3:  30%|███       | 3/10 [00:27<01:03,  9.12s/it]"
          ]
        },
        {
          "output_type": "stream",
          "name": "stdout",
          "text": [
            "--------------------------------------------- Result 3 ---------------------------------------------\n",
            "[[1 (100%)]] --> [[0 (55%)]]\n",
            "\n",
            "has your mortgage search [[got]] you down are you frustrated and confused with all the different terms and quotes don t know who is telling you the truth we can solve all your problems [[visit]] our site today and in two minutes you can have us searching [[thousands]] of [[programs]] and lenders for you [[get]] the truth get the facts [[get]] your options all in one [[shot]] it s absolutely [[free]] and you can be done in only two minutes so hyperlink click right now and [[put]] your worries [[behind]] you ryte 1635465 po1635465 kj 1635465j1635465bjk\n",
            "\n",
            "has your mortgage search [[scram]] you down are you frustrated and confused with all the different terms and quotes don t know who is telling you the truth we can solve all your problems [[chatter]] our site today and in two minutes you can have us searching [[K]] of [[plan]] and lenders for you [[start]] the truth get the facts [[let]] your options all in one [[snapshot]] it s absolutely [[unloose]] and you can be done in only two minutes so hyperlink click right now and [[assign]] your worries [[can]] you ryte 1635465 po1635465 kj 1635465j1635465bjk\n",
            "\n",
            "\n"
          ]
        },
        {
          "output_type": "stream",
          "name": "stderr",
          "text": [
            "[Succeeded / Failed / Skipped / Total] 2 / 2 / 0 / 4:  40%|████      | 4/10 [00:51<01:16, 12.76s/it]"
          ]
        },
        {
          "output_type": "stream",
          "name": "stdout",
          "text": [
            "--------------------------------------------- Result 4 ---------------------------------------------\n",
            "[[1 (100%)]] --> [[[FAILED]]]\n",
            "\n",
            "hi my name is bailey and i ' m 19 years old . i have voluptuous body , dark brown hair and hazel eyes and a nice dd breast i love affection and looking for someone to have some fun with ( without obligations ) . you can contact me now at : http : / / vicinal . myabsinth . com / 575 r . html ( registration is free of charge ) see you soon you ' re a catch . you know it and we know it . now it ' s time to let them know it . 1 , 451 , 004 swingers already registered so , what are you waiting for ? just click below and dive right into creating your ad : http : / / muscular . myabsinth . com / 575 r . html if you got this message by mistake , or you do not wish to get messages from dating please click : http : / / quash . myabsinth . com / nothanks . php ion marketing limited d 2 , 23 , borrett road , mid - levels west hong kong \n",
            "\n",
            "\n"
          ]
        },
        {
          "output_type": "stream",
          "name": "stderr",
          "text": [
            "[Succeeded / Failed / Skipped / Total] 2 / 3 / 0 / 5:  50%|█████     | 5/10 [01:03<01:03, 12.69s/it]"
          ]
        },
        {
          "output_type": "stream",
          "name": "stdout",
          "text": [
            "--------------------------------------------- Result 5 ---------------------------------------------\n",
            "[[1 (100%)]] --> [[[FAILED]]]\n",
            "\n",
            "windowflower . com is one of the biggest arts providers based in china . we supply you with high - quality , artistic , and customized chinese paper - cut products ! add elegance and cultural touch to your life and business ! windowflower . com you are receiving this email because you opted - in to receive special offers through a partner website . if you feel that you received this email in error or do not wish to receive additional special offers , please enter your email address here and click the button of \n",
            "\n",
            "\n"
          ]
        },
        {
          "output_type": "stream",
          "name": "stderr",
          "text": [
            "[Succeeded / Failed / Skipped / Total] 3 / 3 / 0 / 6:  60%|██████    | 6/10 [01:07<00:45, 11.27s/it]"
          ]
        },
        {
          "output_type": "stream",
          "name": "stdout",
          "text": [
            "--------------------------------------------- Result 6 ---------------------------------------------\n",
            "[[0 (100%)]] --> [[1 (54%)]]\n",
            "\n",
            "[[please]] [[join]] [[us]] for breakfast this friday , october [[27]] , ( by steve [[weller]] ' s desk ) [[around]] [[8]] : 30 a . m . to [[celebrate]] the [[following]] birthdays : [[october]] julie armstrong [[15]] th theresa branney [[16]] th don powell [[20]] [[th]] morgan gottsponer [[22]] [[nd]] t . k . lohman 29 th dana jones [[31]] st\n",
            "\n",
            "[[delight]] [[articulation]] [[uracil]] for breakfast this friday , october [[twenty-seven]] , ( by steve [[good]] ' s desk ) [[roughly]] [[octonary]] : 30 a . m . to [[fete]] the [[chase]] birthdays : [[Oct]] julie armstrong [[XV]] th theresa branney [[sixteen]] th don powell [[twenty]] [[thorium]] morgan gottsponer [[XXII]] [[neodymium]] t . k . lohman 29 th dana jones [[thirty-one]] st\n",
            "\n",
            "\n"
          ]
        },
        {
          "output_type": "stream",
          "name": "stderr",
          "text": [
            "[Succeeded / Failed / Skipped / Total] 3 / 4 / 0 / 7:  70%|███████   | 7/10 [01:23<00:35, 11.86s/it]"
          ]
        },
        {
          "output_type": "stream",
          "name": "stdout",
          "text": [
            "--------------------------------------------- Result 7 ---------------------------------------------\n",
            "[[0 (100%)]] --> [[[FAILED]]]\n",
            "\n",
            "join clyde drexler on espeak at ethink . enron . com , wednesday , june 14 at 10 a . m . houston time . clyde , an nba legend , will conduct an \" open mike \" session to answer whatever questions you have for him . are you at a remote location or can ' t make the event ? go into espeak now and pre - submit your question ( s ) for clyde to answer during the scheduled event . we want to answer everyone ' s questions , but due to the high volume of questions we anticipate on this session , it would be helpful if you can keep your questions short and simple . this will increase the opportunity for your question to be answered . ethink : invest your mind\n",
            "\n",
            "\n"
          ]
        },
        {
          "output_type": "stream",
          "name": "stderr",
          "text": [
            "[Succeeded / Failed / Skipped / Total] 4 / 4 / 0 / 8:  80%|████████  | 8/10 [01:24<00:21, 10.59s/it]"
          ]
        },
        {
          "output_type": "stream",
          "name": "stdout",
          "text": [
            "--------------------------------------------- Result 8 ---------------------------------------------\n",
            "[[1 (92%)]] --> [[0 (52%)]]\n",
            "\n",
            "[[n]] 45days reduce fat8 inchusesauna slim belt650 [[vibration]] belt999 ncr50rs extrafree yoko [[call]] now:9268250573/931130487\n",
            "\n",
            "[[nitrogen]] 45days reduce fat8 inchusesauna slim belt650 [[oscillation]] belt999 ncr50rs extrafree yoko [[squall]] now:9268250573/931130487\n",
            "\n",
            "\n"
          ]
        },
        {
          "output_type": "stream",
          "name": "stderr",
          "text": [
            "[Succeeded / Failed / Skipped / Total] 4 / 5 / 0 / 9:  90%|█████████ | 9/10 [01:48<00:12, 12.08s/it]"
          ]
        },
        {
          "output_type": "stream",
          "name": "stdout",
          "text": [
            "--------------------------------------------- Result 9 ---------------------------------------------\n",
            "[[1 (100%)]] --> [[[FAILED]]]\n",
            "\n",
            "googlecash gives you all the tools you need to turn the search engine google . com into an autopilot cash generating machine ! what ' s your dream lifestyle ? challenge schnabel behind jolla cozy buttrick isabel solder excerpt breakfast tame firewall hatchet ooze boggle decompression london recriminate coat inbreed churchyard dar yoke snappy extrema grind cookie longitudinal suntan buttress herpes quadrillion improvisate idiot antarctica maybe embarrass bermuda lawman octillion musket betoken alacrity request seizure fateful mile conjunct courier administrable there stepmother boycott importune chronicle cavern catch aeronautic prestigious thermofax interruption irredeemable hesitater pursue abbas aruba berra dean lockwood jimenez sioux ac collocation dempsey bowstring maintenance orono extant vast debunk galvanometer punster swatch cryptology contain convoy intelligentsia cathode celandine tutu geranium revolve exact serbia aspartic tally adultery christoffel erskine ethel absorption coil christen simple cartilaginous driven practitioner retire booklet barge aquila inflammatory digging criminal ditzel cherry trench continued notch evolutionary gus announce tic shanghai quartz atlantis pulaski importunate mcallister utterance immigrant rhetoric molybdenite resolution bronchitis dog spacecraft eccentric enunciable incident \n",
            "\n",
            "\n"
          ]
        },
        {
          "output_type": "stream",
          "name": "stderr",
          "text": [
            "[Succeeded / Failed / Skipped / Total] 5 / 5 / 0 / 10: 100%|██████████| 10/10 [01:53<00:00, 11.37s/it]"
          ]
        },
        {
          "output_type": "stream",
          "name": "stdout",
          "text": [
            "--------------------------------------------- Result 10 ---------------------------------------------\n",
            "[[0 (100%)]] --> [[1 (78%)]]\n",
            "\n",
            "hi does anyone have a collection of real world spam that i could [[use]] to test my setup this url email is [[sponsored]] by osdn tired of that same [[old]] cell phone get a new here for free url spamassassin talk mailing [[list]] spamassassin talk url url\n",
            "\n",
            "hi does anyone have a collection of real world spam that i could [[habituate]] to test my setup this url email is [[patronise]] by osdn tired of that same [[honest-to-goodness]] cell phone get a new here for free url spamassassin talk mailing [[heel]] spamassassin talk url url\n",
            "\n",
            "\n",
            "\n",
            "+-------------------------------+--------+\n",
            "| Attack Results                |        |\n",
            "+-------------------------------+--------+\n",
            "| Number of successful attacks: | 5      |\n",
            "| Number of failed attacks:     | 5      |\n",
            "| Number of skipped attacks:    | 0      |\n",
            "| Original accuracy:            | 100.0% |\n",
            "| Accuracy under attack:        | 50.0%  |\n",
            "| Attack success rate:          | 50.0%  |\n",
            "| Average perturbed word %:     | 17.67% |\n",
            "| Average num. words per input: | 80.0   |\n",
            "| Avg num queries:              | 754.6  |\n",
            "+-------------------------------+--------+\n"
          ]
        },
        {
          "output_type": "stream",
          "name": "stderr",
          "text": [
            "\n"
          ]
        },
        {
          "output_type": "execute_result",
          "data": {
            "text/plain": [
              "[<textattack.attack_results.successful_attack_result.SuccessfulAttackResult at 0x79b91bbccd90>,\n",
              " <textattack.attack_results.failed_attack_result.FailedAttackResult at 0x79b91c8e8fd0>,\n",
              " <textattack.attack_results.successful_attack_result.SuccessfulAttackResult at 0x79b91d59a710>,\n",
              " <textattack.attack_results.failed_attack_result.FailedAttackResult at 0x79b926024a50>,\n",
              " <textattack.attack_results.failed_attack_result.FailedAttackResult at 0x79b924f0abd0>,\n",
              " <textattack.attack_results.successful_attack_result.SuccessfulAttackResult at 0x79b922487350>,\n",
              " <textattack.attack_results.failed_attack_result.FailedAttackResult at 0x79b91c8eb5d0>,\n",
              " <textattack.attack_results.successful_attack_result.SuccessfulAttackResult at 0x79b91cf98f50>,\n",
              " <textattack.attack_results.failed_attack_result.FailedAttackResult at 0x79b93b3d8e90>,\n",
              " <textattack.attack_results.successful_attack_result.SuccessfulAttackResult at 0x79b93aad5a10>]"
            ]
          },
          "metadata": {},
          "execution_count": 37
        }
      ]
    },
    {
      "cell_type": "markdown",
      "source": [
        "## Adversarial Attack Report"
      ],
      "metadata": {
        "id": "xEYQwRCmCS7a"
      }
    },
    {
      "cell_type": "markdown",
      "source": [
        "**TextFooler:** This adversarial attack identifies critical words in a text using importance score and replaces them with synonyms from embedding spaces. It prioritizes substitutions that preserve sentence fluency and meaning while causing misclassifications. The goal is deceive the model with minimal, human imperceptible perturbations.\n",
        "\n",
        "**WordBug:** This method generates adversarial attacks by applying character-level perturbations to words most impactful on model confidence. It ranks words by their influence on prediction certainty then introduces subtle edits to mislead the model. The attack balances stealth and effectiveness by limiting visible distortions.\n",
        "\n",
        "**PWWS:** This attack combines the impact on predictions and and class probabilities to select substitution targets, prioritzing high impact words. It replaces these with WordNet synonyms, weighted by their likelihood to alter model output while ensuring semantic coherence. The approach systematically maximizes misslcassification by optimizing both word importance and substitution efficacy.\n",
        "\n",
        "\n",
        "**Attack Analysis**\n",
        "\n",
        "The TextFooler attack had a 100% success rate, however it was easy to tell that something was off with the texts. Changing \"im [[working]] [[technical]] support voice process\" to \"im [[cooperated]] [[artsy]] support voice process\" will change how the model reads them but also changes a message that is \"ham\" to something that reads as \"spam\". If someone was anaylising the messages and saw that this was flagged as incorrect they would quickly check to see if the data being plugged in is usable and see the attack.\n",
        "\n",
        "The WordBug attack had a 70% success rate. Although each individual change would be noticeable if isolated, people have a tendency to overlook typos when reading sentences. Therefore the likelyhood of someone noticing the change from \"working\" to \"lworking\" is very unlikely in my opinion.\n",
        "\n",
        "The PWWS attack had a 50% success rate, however it altered substantially less words and much less noticeably than the other attacks. Sticking to synonyms that maintain semantic coherence guarantees that the result is hard to distiguish from an actual message."
      ],
      "metadata": {
        "id": "E73HUmuICZDy"
      }
    }
  ],
  "metadata": {
    "accelerator": "GPU",
    "colab": {
      "gpuType": "T4",
      "machine_shape": "hm",
      "provenance": []
    },
    "kernelspec": {
      "display_name": "Python 3",
      "name": "python3"
    },
    "language_info": {
      "name": "python"
    },
    "widgets": {
      "application/vnd.jupyter.widget-state+json": {
        "fd102389a31844848a0e8035d97ee6f3": {
          "model_module": "@jupyter-widgets/controls",
          "model_name": "HBoxModel",
          "model_module_version": "1.5.0",
          "state": {
            "_dom_classes": [],
            "_model_module": "@jupyter-widgets/controls",
            "_model_module_version": "1.5.0",
            "_model_name": "HBoxModel",
            "_view_count": null,
            "_view_module": "@jupyter-widgets/controls",
            "_view_module_version": "1.5.0",
            "_view_name": "HBoxView",
            "box_style": "",
            "children": [
              "IPY_MODEL_cfd552f6b3174da4bba75bb67c5f7b93",
              "IPY_MODEL_a001d428a9294d31a3520ac8d824f683",
              "IPY_MODEL_0ebf668901e94d1b93450f8a76896523"
            ],
            "layout": "IPY_MODEL_73b3461910bb4feca6c91f6538079fe5"
          }
        },
        "cfd552f6b3174da4bba75bb67c5f7b93": {
          "model_module": "@jupyter-widgets/controls",
          "model_name": "HTMLModel",
          "model_module_version": "1.5.0",
          "state": {
            "_dom_classes": [],
            "_model_module": "@jupyter-widgets/controls",
            "_model_module_version": "1.5.0",
            "_model_name": "HTMLModel",
            "_view_count": null,
            "_view_module": "@jupyter-widgets/controls",
            "_view_module_version": "1.5.0",
            "_view_name": "HTMLView",
            "description": "",
            "description_tooltip": null,
            "layout": "IPY_MODEL_8a611c4725af4cef8a39ea7454a79ac9",
            "placeholder": "​",
            "style": "IPY_MODEL_26f51af8603244afbaaa42334e047cc7",
            "value": "config.json: 100%"
          }
        },
        "a001d428a9294d31a3520ac8d824f683": {
          "model_module": "@jupyter-widgets/controls",
          "model_name": "FloatProgressModel",
          "model_module_version": "1.5.0",
          "state": {
            "_dom_classes": [],
            "_model_module": "@jupyter-widgets/controls",
            "_model_module_version": "1.5.0",
            "_model_name": "FloatProgressModel",
            "_view_count": null,
            "_view_module": "@jupyter-widgets/controls",
            "_view_module_version": "1.5.0",
            "_view_name": "ProgressView",
            "bar_style": "success",
            "description": "",
            "description_tooltip": null,
            "layout": "IPY_MODEL_857bad8a7f7b4e48ab15f65bedbebc34",
            "max": 847,
            "min": 0,
            "orientation": "horizontal",
            "style": "IPY_MODEL_f813b976dc714b12b17d10eb025a731a",
            "value": 847
          }
        },
        "0ebf668901e94d1b93450f8a76896523": {
          "model_module": "@jupyter-widgets/controls",
          "model_name": "HTMLModel",
          "model_module_version": "1.5.0",
          "state": {
            "_dom_classes": [],
            "_model_module": "@jupyter-widgets/controls",
            "_model_module_version": "1.5.0",
            "_model_name": "HTMLModel",
            "_view_count": null,
            "_view_module": "@jupyter-widgets/controls",
            "_view_module_version": "1.5.0",
            "_view_name": "HTMLView",
            "description": "",
            "description_tooltip": null,
            "layout": "IPY_MODEL_11265f452d6d49a5ad2005c99bf189b0",
            "placeholder": "​",
            "style": "IPY_MODEL_2f55e8aa60f745e2a31c51761d725790",
            "value": " 847/847 [00:00&lt;00:00, 92.1kB/s]"
          }
        },
        "73b3461910bb4feca6c91f6538079fe5": {
          "model_module": "@jupyter-widgets/base",
          "model_name": "LayoutModel",
          "model_module_version": "1.2.0",
          "state": {
            "_model_module": "@jupyter-widgets/base",
            "_model_module_version": "1.2.0",
            "_model_name": "LayoutModel",
            "_view_count": null,
            "_view_module": "@jupyter-widgets/base",
            "_view_module_version": "1.2.0",
            "_view_name": "LayoutView",
            "align_content": null,
            "align_items": null,
            "align_self": null,
            "border": null,
            "bottom": null,
            "display": null,
            "flex": null,
            "flex_flow": null,
            "grid_area": null,
            "grid_auto_columns": null,
            "grid_auto_flow": null,
            "grid_auto_rows": null,
            "grid_column": null,
            "grid_gap": null,
            "grid_row": null,
            "grid_template_areas": null,
            "grid_template_columns": null,
            "grid_template_rows": null,
            "height": null,
            "justify_content": null,
            "justify_items": null,
            "left": null,
            "margin": null,
            "max_height": null,
            "max_width": null,
            "min_height": null,
            "min_width": null,
            "object_fit": null,
            "object_position": null,
            "order": null,
            "overflow": null,
            "overflow_x": null,
            "overflow_y": null,
            "padding": null,
            "right": null,
            "top": null,
            "visibility": null,
            "width": null
          }
        },
        "8a611c4725af4cef8a39ea7454a79ac9": {
          "model_module": "@jupyter-widgets/base",
          "model_name": "LayoutModel",
          "model_module_version": "1.2.0",
          "state": {
            "_model_module": "@jupyter-widgets/base",
            "_model_module_version": "1.2.0",
            "_model_name": "LayoutModel",
            "_view_count": null,
            "_view_module": "@jupyter-widgets/base",
            "_view_module_version": "1.2.0",
            "_view_name": "LayoutView",
            "align_content": null,
            "align_items": null,
            "align_self": null,
            "border": null,
            "bottom": null,
            "display": null,
            "flex": null,
            "flex_flow": null,
            "grid_area": null,
            "grid_auto_columns": null,
            "grid_auto_flow": null,
            "grid_auto_rows": null,
            "grid_column": null,
            "grid_gap": null,
            "grid_row": null,
            "grid_template_areas": null,
            "grid_template_columns": null,
            "grid_template_rows": null,
            "height": null,
            "justify_content": null,
            "justify_items": null,
            "left": null,
            "margin": null,
            "max_height": null,
            "max_width": null,
            "min_height": null,
            "min_width": null,
            "object_fit": null,
            "object_position": null,
            "order": null,
            "overflow": null,
            "overflow_x": null,
            "overflow_y": null,
            "padding": null,
            "right": null,
            "top": null,
            "visibility": null,
            "width": null
          }
        },
        "26f51af8603244afbaaa42334e047cc7": {
          "model_module": "@jupyter-widgets/controls",
          "model_name": "DescriptionStyleModel",
          "model_module_version": "1.5.0",
          "state": {
            "_model_module": "@jupyter-widgets/controls",
            "_model_module_version": "1.5.0",
            "_model_name": "DescriptionStyleModel",
            "_view_count": null,
            "_view_module": "@jupyter-widgets/base",
            "_view_module_version": "1.2.0",
            "_view_name": "StyleView",
            "description_width": ""
          }
        },
        "857bad8a7f7b4e48ab15f65bedbebc34": {
          "model_module": "@jupyter-widgets/base",
          "model_name": "LayoutModel",
          "model_module_version": "1.2.0",
          "state": {
            "_model_module": "@jupyter-widgets/base",
            "_model_module_version": "1.2.0",
            "_model_name": "LayoutModel",
            "_view_count": null,
            "_view_module": "@jupyter-widgets/base",
            "_view_module_version": "1.2.0",
            "_view_name": "LayoutView",
            "align_content": null,
            "align_items": null,
            "align_self": null,
            "border": null,
            "bottom": null,
            "display": null,
            "flex": null,
            "flex_flow": null,
            "grid_area": null,
            "grid_auto_columns": null,
            "grid_auto_flow": null,
            "grid_auto_rows": null,
            "grid_column": null,
            "grid_gap": null,
            "grid_row": null,
            "grid_template_areas": null,
            "grid_template_columns": null,
            "grid_template_rows": null,
            "height": null,
            "justify_content": null,
            "justify_items": null,
            "left": null,
            "margin": null,
            "max_height": null,
            "max_width": null,
            "min_height": null,
            "min_width": null,
            "object_fit": null,
            "object_position": null,
            "order": null,
            "overflow": null,
            "overflow_x": null,
            "overflow_y": null,
            "padding": null,
            "right": null,
            "top": null,
            "visibility": null,
            "width": null
          }
        },
        "f813b976dc714b12b17d10eb025a731a": {
          "model_module": "@jupyter-widgets/controls",
          "model_name": "ProgressStyleModel",
          "model_module_version": "1.5.0",
          "state": {
            "_model_module": "@jupyter-widgets/controls",
            "_model_module_version": "1.5.0",
            "_model_name": "ProgressStyleModel",
            "_view_count": null,
            "_view_module": "@jupyter-widgets/base",
            "_view_module_version": "1.2.0",
            "_view_name": "StyleView",
            "bar_color": null,
            "description_width": ""
          }
        },
        "11265f452d6d49a5ad2005c99bf189b0": {
          "model_module": "@jupyter-widgets/base",
          "model_name": "LayoutModel",
          "model_module_version": "1.2.0",
          "state": {
            "_model_module": "@jupyter-widgets/base",
            "_model_module_version": "1.2.0",
            "_model_name": "LayoutModel",
            "_view_count": null,
            "_view_module": "@jupyter-widgets/base",
            "_view_module_version": "1.2.0",
            "_view_name": "LayoutView",
            "align_content": null,
            "align_items": null,
            "align_self": null,
            "border": null,
            "bottom": null,
            "display": null,
            "flex": null,
            "flex_flow": null,
            "grid_area": null,
            "grid_auto_columns": null,
            "grid_auto_flow": null,
            "grid_auto_rows": null,
            "grid_column": null,
            "grid_gap": null,
            "grid_row": null,
            "grid_template_areas": null,
            "grid_template_columns": null,
            "grid_template_rows": null,
            "height": null,
            "justify_content": null,
            "justify_items": null,
            "left": null,
            "margin": null,
            "max_height": null,
            "max_width": null,
            "min_height": null,
            "min_width": null,
            "object_fit": null,
            "object_position": null,
            "order": null,
            "overflow": null,
            "overflow_x": null,
            "overflow_y": null,
            "padding": null,
            "right": null,
            "top": null,
            "visibility": null,
            "width": null
          }
        },
        "2f55e8aa60f745e2a31c51761d725790": {
          "model_module": "@jupyter-widgets/controls",
          "model_name": "DescriptionStyleModel",
          "model_module_version": "1.5.0",
          "state": {
            "_model_module": "@jupyter-widgets/controls",
            "_model_module_version": "1.5.0",
            "_model_name": "DescriptionStyleModel",
            "_view_count": null,
            "_view_module": "@jupyter-widgets/base",
            "_view_module_version": "1.2.0",
            "_view_name": "StyleView",
            "description_width": ""
          }
        },
        "eaca84486dfd4f8da4531698e5aa52ba": {
          "model_module": "@jupyter-widgets/controls",
          "model_name": "HBoxModel",
          "model_module_version": "1.5.0",
          "state": {
            "_dom_classes": [],
            "_model_module": "@jupyter-widgets/controls",
            "_model_module_version": "1.5.0",
            "_model_name": "HBoxModel",
            "_view_count": null,
            "_view_module": "@jupyter-widgets/controls",
            "_view_module_version": "1.5.0",
            "_view_name": "HBoxView",
            "box_style": "",
            "children": [
              "IPY_MODEL_b36bbe04916f4ac9a6ad61a95a5fcbe4",
              "IPY_MODEL_7d27b7d0fe764373b61b2d2fbe9c322d",
              "IPY_MODEL_4971a15376764417955c7710ed1894ce"
            ],
            "layout": "IPY_MODEL_eb10c4ae7d2b42888bc2983d5361abbe"
          }
        },
        "b36bbe04916f4ac9a6ad61a95a5fcbe4": {
          "model_module": "@jupyter-widgets/controls",
          "model_name": "HTMLModel",
          "model_module_version": "1.5.0",
          "state": {
            "_dom_classes": [],
            "_model_module": "@jupyter-widgets/controls",
            "_model_module_version": "1.5.0",
            "_model_name": "HTMLModel",
            "_view_count": null,
            "_view_module": "@jupyter-widgets/controls",
            "_view_module_version": "1.5.0",
            "_view_name": "HTMLView",
            "description": "",
            "description_tooltip": null,
            "layout": "IPY_MODEL_a9f6064b6fa74427b04871806f0fe05a",
            "placeholder": "​",
            "style": "IPY_MODEL_a8bdd95669124735bcaa4255cfeb7a29",
            "value": "vocab.txt: 100%"
          }
        },
        "7d27b7d0fe764373b61b2d2fbe9c322d": {
          "model_module": "@jupyter-widgets/controls",
          "model_name": "FloatProgressModel",
          "model_module_version": "1.5.0",
          "state": {
            "_dom_classes": [],
            "_model_module": "@jupyter-widgets/controls",
            "_model_module_version": "1.5.0",
            "_model_name": "FloatProgressModel",
            "_view_count": null,
            "_view_module": "@jupyter-widgets/controls",
            "_view_module_version": "1.5.0",
            "_view_name": "ProgressView",
            "bar_style": "success",
            "description": "",
            "description_tooltip": null,
            "layout": "IPY_MODEL_ebd2ad9ede9442fea5c0e2058f96a76c",
            "max": 231508,
            "min": 0,
            "orientation": "horizontal",
            "style": "IPY_MODEL_0eaab52256994d06ac7aaf04adb2589b",
            "value": 231508
          }
        },
        "4971a15376764417955c7710ed1894ce": {
          "model_module": "@jupyter-widgets/controls",
          "model_name": "HTMLModel",
          "model_module_version": "1.5.0",
          "state": {
            "_dom_classes": [],
            "_model_module": "@jupyter-widgets/controls",
            "_model_module_version": "1.5.0",
            "_model_name": "HTMLModel",
            "_view_count": null,
            "_view_module": "@jupyter-widgets/controls",
            "_view_module_version": "1.5.0",
            "_view_name": "HTMLView",
            "description": "",
            "description_tooltip": null,
            "layout": "IPY_MODEL_0d29542c6e57458aa82112c53acf68aa",
            "placeholder": "​",
            "style": "IPY_MODEL_0c9cf37a1fcb48e1935c01bc34f0cf6e",
            "value": " 232k/232k [00:00&lt;00:00, 540kB/s]"
          }
        },
        "eb10c4ae7d2b42888bc2983d5361abbe": {
          "model_module": "@jupyter-widgets/base",
          "model_name": "LayoutModel",
          "model_module_version": "1.2.0",
          "state": {
            "_model_module": "@jupyter-widgets/base",
            "_model_module_version": "1.2.0",
            "_model_name": "LayoutModel",
            "_view_count": null,
            "_view_module": "@jupyter-widgets/base",
            "_view_module_version": "1.2.0",
            "_view_name": "LayoutView",
            "align_content": null,
            "align_items": null,
            "align_self": null,
            "border": null,
            "bottom": null,
            "display": null,
            "flex": null,
            "flex_flow": null,
            "grid_area": null,
            "grid_auto_columns": null,
            "grid_auto_flow": null,
            "grid_auto_rows": null,
            "grid_column": null,
            "grid_gap": null,
            "grid_row": null,
            "grid_template_areas": null,
            "grid_template_columns": null,
            "grid_template_rows": null,
            "height": null,
            "justify_content": null,
            "justify_items": null,
            "left": null,
            "margin": null,
            "max_height": null,
            "max_width": null,
            "min_height": null,
            "min_width": null,
            "object_fit": null,
            "object_position": null,
            "order": null,
            "overflow": null,
            "overflow_x": null,
            "overflow_y": null,
            "padding": null,
            "right": null,
            "top": null,
            "visibility": null,
            "width": null
          }
        },
        "a9f6064b6fa74427b04871806f0fe05a": {
          "model_module": "@jupyter-widgets/base",
          "model_name": "LayoutModel",
          "model_module_version": "1.2.0",
          "state": {
            "_model_module": "@jupyter-widgets/base",
            "_model_module_version": "1.2.0",
            "_model_name": "LayoutModel",
            "_view_count": null,
            "_view_module": "@jupyter-widgets/base",
            "_view_module_version": "1.2.0",
            "_view_name": "LayoutView",
            "align_content": null,
            "align_items": null,
            "align_self": null,
            "border": null,
            "bottom": null,
            "display": null,
            "flex": null,
            "flex_flow": null,
            "grid_area": null,
            "grid_auto_columns": null,
            "grid_auto_flow": null,
            "grid_auto_rows": null,
            "grid_column": null,
            "grid_gap": null,
            "grid_row": null,
            "grid_template_areas": null,
            "grid_template_columns": null,
            "grid_template_rows": null,
            "height": null,
            "justify_content": null,
            "justify_items": null,
            "left": null,
            "margin": null,
            "max_height": null,
            "max_width": null,
            "min_height": null,
            "min_width": null,
            "object_fit": null,
            "object_position": null,
            "order": null,
            "overflow": null,
            "overflow_x": null,
            "overflow_y": null,
            "padding": null,
            "right": null,
            "top": null,
            "visibility": null,
            "width": null
          }
        },
        "a8bdd95669124735bcaa4255cfeb7a29": {
          "model_module": "@jupyter-widgets/controls",
          "model_name": "DescriptionStyleModel",
          "model_module_version": "1.5.0",
          "state": {
            "_model_module": "@jupyter-widgets/controls",
            "_model_module_version": "1.5.0",
            "_model_name": "DescriptionStyleModel",
            "_view_count": null,
            "_view_module": "@jupyter-widgets/base",
            "_view_module_version": "1.2.0",
            "_view_name": "StyleView",
            "description_width": ""
          }
        },
        "ebd2ad9ede9442fea5c0e2058f96a76c": {
          "model_module": "@jupyter-widgets/base",
          "model_name": "LayoutModel",
          "model_module_version": "1.2.0",
          "state": {
            "_model_module": "@jupyter-widgets/base",
            "_model_module_version": "1.2.0",
            "_model_name": "LayoutModel",
            "_view_count": null,
            "_view_module": "@jupyter-widgets/base",
            "_view_module_version": "1.2.0",
            "_view_name": "LayoutView",
            "align_content": null,
            "align_items": null,
            "align_self": null,
            "border": null,
            "bottom": null,
            "display": null,
            "flex": null,
            "flex_flow": null,
            "grid_area": null,
            "grid_auto_columns": null,
            "grid_auto_flow": null,
            "grid_auto_rows": null,
            "grid_column": null,
            "grid_gap": null,
            "grid_row": null,
            "grid_template_areas": null,
            "grid_template_columns": null,
            "grid_template_rows": null,
            "height": null,
            "justify_content": null,
            "justify_items": null,
            "left": null,
            "margin": null,
            "max_height": null,
            "max_width": null,
            "min_height": null,
            "min_width": null,
            "object_fit": null,
            "object_position": null,
            "order": null,
            "overflow": null,
            "overflow_x": null,
            "overflow_y": null,
            "padding": null,
            "right": null,
            "top": null,
            "visibility": null,
            "width": null
          }
        },
        "0eaab52256994d06ac7aaf04adb2589b": {
          "model_module": "@jupyter-widgets/controls",
          "model_name": "ProgressStyleModel",
          "model_module_version": "1.5.0",
          "state": {
            "_model_module": "@jupyter-widgets/controls",
            "_model_module_version": "1.5.0",
            "_model_name": "ProgressStyleModel",
            "_view_count": null,
            "_view_module": "@jupyter-widgets/base",
            "_view_module_version": "1.2.0",
            "_view_name": "StyleView",
            "bar_color": null,
            "description_width": ""
          }
        },
        "0d29542c6e57458aa82112c53acf68aa": {
          "model_module": "@jupyter-widgets/base",
          "model_name": "LayoutModel",
          "model_module_version": "1.2.0",
          "state": {
            "_model_module": "@jupyter-widgets/base",
            "_model_module_version": "1.2.0",
            "_model_name": "LayoutModel",
            "_view_count": null,
            "_view_module": "@jupyter-widgets/base",
            "_view_module_version": "1.2.0",
            "_view_name": "LayoutView",
            "align_content": null,
            "align_items": null,
            "align_self": null,
            "border": null,
            "bottom": null,
            "display": null,
            "flex": null,
            "flex_flow": null,
            "grid_area": null,
            "grid_auto_columns": null,
            "grid_auto_flow": null,
            "grid_auto_rows": null,
            "grid_column": null,
            "grid_gap": null,
            "grid_row": null,
            "grid_template_areas": null,
            "grid_template_columns": null,
            "grid_template_rows": null,
            "height": null,
            "justify_content": null,
            "justify_items": null,
            "left": null,
            "margin": null,
            "max_height": null,
            "max_width": null,
            "min_height": null,
            "min_width": null,
            "object_fit": null,
            "object_position": null,
            "order": null,
            "overflow": null,
            "overflow_x": null,
            "overflow_y": null,
            "padding": null,
            "right": null,
            "top": null,
            "visibility": null,
            "width": null
          }
        },
        "0c9cf37a1fcb48e1935c01bc34f0cf6e": {
          "model_module": "@jupyter-widgets/controls",
          "model_name": "DescriptionStyleModel",
          "model_module_version": "1.5.0",
          "state": {
            "_model_module": "@jupyter-widgets/controls",
            "_model_module_version": "1.5.0",
            "_model_name": "DescriptionStyleModel",
            "_view_count": null,
            "_view_module": "@jupyter-widgets/base",
            "_view_module_version": "1.2.0",
            "_view_name": "StyleView",
            "description_width": ""
          }
        },
        "19eccfeed7414dccad37abad0e721778": {
          "model_module": "@jupyter-widgets/controls",
          "model_name": "HBoxModel",
          "model_module_version": "1.5.0",
          "state": {
            "_dom_classes": [],
            "_model_module": "@jupyter-widgets/controls",
            "_model_module_version": "1.5.0",
            "_model_name": "HBoxModel",
            "_view_count": null,
            "_view_module": "@jupyter-widgets/controls",
            "_view_module_version": "1.5.0",
            "_view_name": "HBoxView",
            "box_style": "",
            "children": [
              "IPY_MODEL_5913075a3192481982bba9fdea97844e",
              "IPY_MODEL_cb73e086fbc54337955c55d96b587db0",
              "IPY_MODEL_c2cd73175ba54473bc0d51d68fb1ffa2"
            ],
            "layout": "IPY_MODEL_e62f66b175a94947bd5d230d7098ce42"
          }
        },
        "5913075a3192481982bba9fdea97844e": {
          "model_module": "@jupyter-widgets/controls",
          "model_name": "HTMLModel",
          "model_module_version": "1.5.0",
          "state": {
            "_dom_classes": [],
            "_model_module": "@jupyter-widgets/controls",
            "_model_module_version": "1.5.0",
            "_model_name": "HTMLModel",
            "_view_count": null,
            "_view_module": "@jupyter-widgets/controls",
            "_view_module_version": "1.5.0",
            "_view_name": "HTMLView",
            "description": "",
            "description_tooltip": null,
            "layout": "IPY_MODEL_bf2b842b50a54bf29fa8320c736122d0",
            "placeholder": "​",
            "style": "IPY_MODEL_77e7283305394659b07c368afd7da9c9",
            "value": "tokenizer.json: 100%"
          }
        },
        "cb73e086fbc54337955c55d96b587db0": {
          "model_module": "@jupyter-widgets/controls",
          "model_name": "FloatProgressModel",
          "model_module_version": "1.5.0",
          "state": {
            "_dom_classes": [],
            "_model_module": "@jupyter-widgets/controls",
            "_model_module_version": "1.5.0",
            "_model_name": "FloatProgressModel",
            "_view_count": null,
            "_view_module": "@jupyter-widgets/controls",
            "_view_module_version": "1.5.0",
            "_view_name": "ProgressView",
            "bar_style": "success",
            "description": "",
            "description_tooltip": null,
            "layout": "IPY_MODEL_2b96e87f44dc464fbda1fd37dbf2a3d6",
            "max": 466062,
            "min": 0,
            "orientation": "horizontal",
            "style": "IPY_MODEL_a7c28381343d48cab221cac03710dcae",
            "value": 466062
          }
        },
        "c2cd73175ba54473bc0d51d68fb1ffa2": {
          "model_module": "@jupyter-widgets/controls",
          "model_name": "HTMLModel",
          "model_module_version": "1.5.0",
          "state": {
            "_dom_classes": [],
            "_model_module": "@jupyter-widgets/controls",
            "_model_module_version": "1.5.0",
            "_model_name": "HTMLModel",
            "_view_count": null,
            "_view_module": "@jupyter-widgets/controls",
            "_view_module_version": "1.5.0",
            "_view_name": "HTMLView",
            "description": "",
            "description_tooltip": null,
            "layout": "IPY_MODEL_c2a82fc65f41492da5543875fb5501ee",
            "placeholder": "​",
            "style": "IPY_MODEL_eddc964164f343c1bd5c0bb61d6b365f",
            "value": " 466k/466k [00:00&lt;00:00, 1.06MB/s]"
          }
        },
        "e62f66b175a94947bd5d230d7098ce42": {
          "model_module": "@jupyter-widgets/base",
          "model_name": "LayoutModel",
          "model_module_version": "1.2.0",
          "state": {
            "_model_module": "@jupyter-widgets/base",
            "_model_module_version": "1.2.0",
            "_model_name": "LayoutModel",
            "_view_count": null,
            "_view_module": "@jupyter-widgets/base",
            "_view_module_version": "1.2.0",
            "_view_name": "LayoutView",
            "align_content": null,
            "align_items": null,
            "align_self": null,
            "border": null,
            "bottom": null,
            "display": null,
            "flex": null,
            "flex_flow": null,
            "grid_area": null,
            "grid_auto_columns": null,
            "grid_auto_flow": null,
            "grid_auto_rows": null,
            "grid_column": null,
            "grid_gap": null,
            "grid_row": null,
            "grid_template_areas": null,
            "grid_template_columns": null,
            "grid_template_rows": null,
            "height": null,
            "justify_content": null,
            "justify_items": null,
            "left": null,
            "margin": null,
            "max_height": null,
            "max_width": null,
            "min_height": null,
            "min_width": null,
            "object_fit": null,
            "object_position": null,
            "order": null,
            "overflow": null,
            "overflow_x": null,
            "overflow_y": null,
            "padding": null,
            "right": null,
            "top": null,
            "visibility": null,
            "width": null
          }
        },
        "bf2b842b50a54bf29fa8320c736122d0": {
          "model_module": "@jupyter-widgets/base",
          "model_name": "LayoutModel",
          "model_module_version": "1.2.0",
          "state": {
            "_model_module": "@jupyter-widgets/base",
            "_model_module_version": "1.2.0",
            "_model_name": "LayoutModel",
            "_view_count": null,
            "_view_module": "@jupyter-widgets/base",
            "_view_module_version": "1.2.0",
            "_view_name": "LayoutView",
            "align_content": null,
            "align_items": null,
            "align_self": null,
            "border": null,
            "bottom": null,
            "display": null,
            "flex": null,
            "flex_flow": null,
            "grid_area": null,
            "grid_auto_columns": null,
            "grid_auto_flow": null,
            "grid_auto_rows": null,
            "grid_column": null,
            "grid_gap": null,
            "grid_row": null,
            "grid_template_areas": null,
            "grid_template_columns": null,
            "grid_template_rows": null,
            "height": null,
            "justify_content": null,
            "justify_items": null,
            "left": null,
            "margin": null,
            "max_height": null,
            "max_width": null,
            "min_height": null,
            "min_width": null,
            "object_fit": null,
            "object_position": null,
            "order": null,
            "overflow": null,
            "overflow_x": null,
            "overflow_y": null,
            "padding": null,
            "right": null,
            "top": null,
            "visibility": null,
            "width": null
          }
        },
        "77e7283305394659b07c368afd7da9c9": {
          "model_module": "@jupyter-widgets/controls",
          "model_name": "DescriptionStyleModel",
          "model_module_version": "1.5.0",
          "state": {
            "_model_module": "@jupyter-widgets/controls",
            "_model_module_version": "1.5.0",
            "_model_name": "DescriptionStyleModel",
            "_view_count": null,
            "_view_module": "@jupyter-widgets/base",
            "_view_module_version": "1.2.0",
            "_view_name": "StyleView",
            "description_width": ""
          }
        },
        "2b96e87f44dc464fbda1fd37dbf2a3d6": {
          "model_module": "@jupyter-widgets/base",
          "model_name": "LayoutModel",
          "model_module_version": "1.2.0",
          "state": {
            "_model_module": "@jupyter-widgets/base",
            "_model_module_version": "1.2.0",
            "_model_name": "LayoutModel",
            "_view_count": null,
            "_view_module": "@jupyter-widgets/base",
            "_view_module_version": "1.2.0",
            "_view_name": "LayoutView",
            "align_content": null,
            "align_items": null,
            "align_self": null,
            "border": null,
            "bottom": null,
            "display": null,
            "flex": null,
            "flex_flow": null,
            "grid_area": null,
            "grid_auto_columns": null,
            "grid_auto_flow": null,
            "grid_auto_rows": null,
            "grid_column": null,
            "grid_gap": null,
            "grid_row": null,
            "grid_template_areas": null,
            "grid_template_columns": null,
            "grid_template_rows": null,
            "height": null,
            "justify_content": null,
            "justify_items": null,
            "left": null,
            "margin": null,
            "max_height": null,
            "max_width": null,
            "min_height": null,
            "min_width": null,
            "object_fit": null,
            "object_position": null,
            "order": null,
            "overflow": null,
            "overflow_x": null,
            "overflow_y": null,
            "padding": null,
            "right": null,
            "top": null,
            "visibility": null,
            "width": null
          }
        },
        "a7c28381343d48cab221cac03710dcae": {
          "model_module": "@jupyter-widgets/controls",
          "model_name": "ProgressStyleModel",
          "model_module_version": "1.5.0",
          "state": {
            "_model_module": "@jupyter-widgets/controls",
            "_model_module_version": "1.5.0",
            "_model_name": "ProgressStyleModel",
            "_view_count": null,
            "_view_module": "@jupyter-widgets/base",
            "_view_module_version": "1.2.0",
            "_view_name": "StyleView",
            "bar_color": null,
            "description_width": ""
          }
        },
        "c2a82fc65f41492da5543875fb5501ee": {
          "model_module": "@jupyter-widgets/base",
          "model_name": "LayoutModel",
          "model_module_version": "1.2.0",
          "state": {
            "_model_module": "@jupyter-widgets/base",
            "_model_module_version": "1.2.0",
            "_model_name": "LayoutModel",
            "_view_count": null,
            "_view_module": "@jupyter-widgets/base",
            "_view_module_version": "1.2.0",
            "_view_name": "LayoutView",
            "align_content": null,
            "align_items": null,
            "align_self": null,
            "border": null,
            "bottom": null,
            "display": null,
            "flex": null,
            "flex_flow": null,
            "grid_area": null,
            "grid_auto_columns": null,
            "grid_auto_flow": null,
            "grid_auto_rows": null,
            "grid_column": null,
            "grid_gap": null,
            "grid_row": null,
            "grid_template_areas": null,
            "grid_template_columns": null,
            "grid_template_rows": null,
            "height": null,
            "justify_content": null,
            "justify_items": null,
            "left": null,
            "margin": null,
            "max_height": null,
            "max_width": null,
            "min_height": null,
            "min_width": null,
            "object_fit": null,
            "object_position": null,
            "order": null,
            "overflow": null,
            "overflow_x": null,
            "overflow_y": null,
            "padding": null,
            "right": null,
            "top": null,
            "visibility": null,
            "width": null
          }
        },
        "eddc964164f343c1bd5c0bb61d6b365f": {
          "model_module": "@jupyter-widgets/controls",
          "model_name": "DescriptionStyleModel",
          "model_module_version": "1.5.0",
          "state": {
            "_model_module": "@jupyter-widgets/controls",
            "_model_module_version": "1.5.0",
            "_model_name": "DescriptionStyleModel",
            "_view_count": null,
            "_view_module": "@jupyter-widgets/base",
            "_view_module_version": "1.2.0",
            "_view_name": "StyleView",
            "description_width": ""
          }
        },
        "3d2c1cd8b4c2450d9cef5858be652d1b": {
          "model_module": "@jupyter-widgets/controls",
          "model_name": "HBoxModel",
          "model_module_version": "1.5.0",
          "state": {
            "_dom_classes": [],
            "_model_module": "@jupyter-widgets/controls",
            "_model_module_version": "1.5.0",
            "_model_name": "HBoxModel",
            "_view_count": null,
            "_view_module": "@jupyter-widgets/controls",
            "_view_module_version": "1.5.0",
            "_view_name": "HBoxView",
            "box_style": "",
            "children": [
              "IPY_MODEL_6dfce5d5d32e461eb381666c07476117",
              "IPY_MODEL_3e7dbe4d194d42cdb8c9769edad7df3a",
              "IPY_MODEL_6311a081d9c840e5a6deac78c7a3e307"
            ],
            "layout": "IPY_MODEL_5e15c4d1cd1c4737bf534831905b7502"
          }
        },
        "6dfce5d5d32e461eb381666c07476117": {
          "model_module": "@jupyter-widgets/controls",
          "model_name": "HTMLModel",
          "model_module_version": "1.5.0",
          "state": {
            "_dom_classes": [],
            "_model_module": "@jupyter-widgets/controls",
            "_model_module_version": "1.5.0",
            "_model_name": "HTMLModel",
            "_view_count": null,
            "_view_module": "@jupyter-widgets/controls",
            "_view_module_version": "1.5.0",
            "_view_name": "HTMLView",
            "description": "",
            "description_tooltip": null,
            "layout": "IPY_MODEL_a8fcee3e19af4f469f2070e517750d82",
            "placeholder": "​",
            "style": "IPY_MODEL_3c0eae1d9b4f4788bbe8eec561ec6ac9",
            "value": "Map: 100%"
          }
        },
        "3e7dbe4d194d42cdb8c9769edad7df3a": {
          "model_module": "@jupyter-widgets/controls",
          "model_name": "FloatProgressModel",
          "model_module_version": "1.5.0",
          "state": {
            "_dom_classes": [],
            "_model_module": "@jupyter-widgets/controls",
            "_model_module_version": "1.5.0",
            "_model_name": "FloatProgressModel",
            "_view_count": null,
            "_view_module": "@jupyter-widgets/controls",
            "_view_module_version": "1.5.0",
            "_view_name": "ProgressView",
            "bar_style": "success",
            "description": "",
            "description_tooltip": null,
            "layout": "IPY_MODEL_96ecc3a8f8604f58ace19e22b3677cf7",
            "max": 34121,
            "min": 0,
            "orientation": "horizontal",
            "style": "IPY_MODEL_570dc2a5c4e44473844d32ed282e9ce1",
            "value": 34121
          }
        },
        "6311a081d9c840e5a6deac78c7a3e307": {
          "model_module": "@jupyter-widgets/controls",
          "model_name": "HTMLModel",
          "model_module_version": "1.5.0",
          "state": {
            "_dom_classes": [],
            "_model_module": "@jupyter-widgets/controls",
            "_model_module_version": "1.5.0",
            "_model_name": "HTMLModel",
            "_view_count": null,
            "_view_module": "@jupyter-widgets/controls",
            "_view_module_version": "1.5.0",
            "_view_name": "HTMLView",
            "description": "",
            "description_tooltip": null,
            "layout": "IPY_MODEL_89b788aa4d4d4762b8c6ed1417007ec4",
            "placeholder": "​",
            "style": "IPY_MODEL_ac03e264d39e42839abd20d5a3e59caf",
            "value": " 34121/34121 [00:08&lt;00:00, 4341.24 examples/s]"
          }
        },
        "5e15c4d1cd1c4737bf534831905b7502": {
          "model_module": "@jupyter-widgets/base",
          "model_name": "LayoutModel",
          "model_module_version": "1.2.0",
          "state": {
            "_model_module": "@jupyter-widgets/base",
            "_model_module_version": "1.2.0",
            "_model_name": "LayoutModel",
            "_view_count": null,
            "_view_module": "@jupyter-widgets/base",
            "_view_module_version": "1.2.0",
            "_view_name": "LayoutView",
            "align_content": null,
            "align_items": null,
            "align_self": null,
            "border": null,
            "bottom": null,
            "display": null,
            "flex": null,
            "flex_flow": null,
            "grid_area": null,
            "grid_auto_columns": null,
            "grid_auto_flow": null,
            "grid_auto_rows": null,
            "grid_column": null,
            "grid_gap": null,
            "grid_row": null,
            "grid_template_areas": null,
            "grid_template_columns": null,
            "grid_template_rows": null,
            "height": null,
            "justify_content": null,
            "justify_items": null,
            "left": null,
            "margin": null,
            "max_height": null,
            "max_width": null,
            "min_height": null,
            "min_width": null,
            "object_fit": null,
            "object_position": null,
            "order": null,
            "overflow": null,
            "overflow_x": null,
            "overflow_y": null,
            "padding": null,
            "right": null,
            "top": null,
            "visibility": null,
            "width": null
          }
        },
        "a8fcee3e19af4f469f2070e517750d82": {
          "model_module": "@jupyter-widgets/base",
          "model_name": "LayoutModel",
          "model_module_version": "1.2.0",
          "state": {
            "_model_module": "@jupyter-widgets/base",
            "_model_module_version": "1.2.0",
            "_model_name": "LayoutModel",
            "_view_count": null,
            "_view_module": "@jupyter-widgets/base",
            "_view_module_version": "1.2.0",
            "_view_name": "LayoutView",
            "align_content": null,
            "align_items": null,
            "align_self": null,
            "border": null,
            "bottom": null,
            "display": null,
            "flex": null,
            "flex_flow": null,
            "grid_area": null,
            "grid_auto_columns": null,
            "grid_auto_flow": null,
            "grid_auto_rows": null,
            "grid_column": null,
            "grid_gap": null,
            "grid_row": null,
            "grid_template_areas": null,
            "grid_template_columns": null,
            "grid_template_rows": null,
            "height": null,
            "justify_content": null,
            "justify_items": null,
            "left": null,
            "margin": null,
            "max_height": null,
            "max_width": null,
            "min_height": null,
            "min_width": null,
            "object_fit": null,
            "object_position": null,
            "order": null,
            "overflow": null,
            "overflow_x": null,
            "overflow_y": null,
            "padding": null,
            "right": null,
            "top": null,
            "visibility": null,
            "width": null
          }
        },
        "3c0eae1d9b4f4788bbe8eec561ec6ac9": {
          "model_module": "@jupyter-widgets/controls",
          "model_name": "DescriptionStyleModel",
          "model_module_version": "1.5.0",
          "state": {
            "_model_module": "@jupyter-widgets/controls",
            "_model_module_version": "1.5.0",
            "_model_name": "DescriptionStyleModel",
            "_view_count": null,
            "_view_module": "@jupyter-widgets/base",
            "_view_module_version": "1.2.0",
            "_view_name": "StyleView",
            "description_width": ""
          }
        },
        "96ecc3a8f8604f58ace19e22b3677cf7": {
          "model_module": "@jupyter-widgets/base",
          "model_name": "LayoutModel",
          "model_module_version": "1.2.0",
          "state": {
            "_model_module": "@jupyter-widgets/base",
            "_model_module_version": "1.2.0",
            "_model_name": "LayoutModel",
            "_view_count": null,
            "_view_module": "@jupyter-widgets/base",
            "_view_module_version": "1.2.0",
            "_view_name": "LayoutView",
            "align_content": null,
            "align_items": null,
            "align_self": null,
            "border": null,
            "bottom": null,
            "display": null,
            "flex": null,
            "flex_flow": null,
            "grid_area": null,
            "grid_auto_columns": null,
            "grid_auto_flow": null,
            "grid_auto_rows": null,
            "grid_column": null,
            "grid_gap": null,
            "grid_row": null,
            "grid_template_areas": null,
            "grid_template_columns": null,
            "grid_template_rows": null,
            "height": null,
            "justify_content": null,
            "justify_items": null,
            "left": null,
            "margin": null,
            "max_height": null,
            "max_width": null,
            "min_height": null,
            "min_width": null,
            "object_fit": null,
            "object_position": null,
            "order": null,
            "overflow": null,
            "overflow_x": null,
            "overflow_y": null,
            "padding": null,
            "right": null,
            "top": null,
            "visibility": null,
            "width": null
          }
        },
        "570dc2a5c4e44473844d32ed282e9ce1": {
          "model_module": "@jupyter-widgets/controls",
          "model_name": "ProgressStyleModel",
          "model_module_version": "1.5.0",
          "state": {
            "_model_module": "@jupyter-widgets/controls",
            "_model_module_version": "1.5.0",
            "_model_name": "ProgressStyleModel",
            "_view_count": null,
            "_view_module": "@jupyter-widgets/base",
            "_view_module_version": "1.2.0",
            "_view_name": "StyleView",
            "bar_color": null,
            "description_width": ""
          }
        },
        "89b788aa4d4d4762b8c6ed1417007ec4": {
          "model_module": "@jupyter-widgets/base",
          "model_name": "LayoutModel",
          "model_module_version": "1.2.0",
          "state": {
            "_model_module": "@jupyter-widgets/base",
            "_model_module_version": "1.2.0",
            "_model_name": "LayoutModel",
            "_view_count": null,
            "_view_module": "@jupyter-widgets/base",
            "_view_module_version": "1.2.0",
            "_view_name": "LayoutView",
            "align_content": null,
            "align_items": null,
            "align_self": null,
            "border": null,
            "bottom": null,
            "display": null,
            "flex": null,
            "flex_flow": null,
            "grid_area": null,
            "grid_auto_columns": null,
            "grid_auto_flow": null,
            "grid_auto_rows": null,
            "grid_column": null,
            "grid_gap": null,
            "grid_row": null,
            "grid_template_areas": null,
            "grid_template_columns": null,
            "grid_template_rows": null,
            "height": null,
            "justify_content": null,
            "justify_items": null,
            "left": null,
            "margin": null,
            "max_height": null,
            "max_width": null,
            "min_height": null,
            "min_width": null,
            "object_fit": null,
            "object_position": null,
            "order": null,
            "overflow": null,
            "overflow_x": null,
            "overflow_y": null,
            "padding": null,
            "right": null,
            "top": null,
            "visibility": null,
            "width": null
          }
        },
        "ac03e264d39e42839abd20d5a3e59caf": {
          "model_module": "@jupyter-widgets/controls",
          "model_name": "DescriptionStyleModel",
          "model_module_version": "1.5.0",
          "state": {
            "_model_module": "@jupyter-widgets/controls",
            "_model_module_version": "1.5.0",
            "_model_name": "DescriptionStyleModel",
            "_view_count": null,
            "_view_module": "@jupyter-widgets/base",
            "_view_module_version": "1.2.0",
            "_view_name": "StyleView",
            "description_width": ""
          }
        },
        "c3b8a2979841438193cc278a2587b450": {
          "model_module": "@jupyter-widgets/controls",
          "model_name": "HBoxModel",
          "model_module_version": "1.5.0",
          "state": {
            "_dom_classes": [],
            "_model_module": "@jupyter-widgets/controls",
            "_model_module_version": "1.5.0",
            "_model_name": "HBoxModel",
            "_view_count": null,
            "_view_module": "@jupyter-widgets/controls",
            "_view_module_version": "1.5.0",
            "_view_name": "HBoxView",
            "box_style": "",
            "children": [
              "IPY_MODEL_cc31785aa21349c6895f24b79dd701a6",
              "IPY_MODEL_859fae10f7b74b22863753930ef564b1",
              "IPY_MODEL_9cd08a771a5c4a8e9a5682a3164ce6c0"
            ],
            "layout": "IPY_MODEL_b50b90aadb0944edbe4b0d1f38467cac"
          }
        },
        "cc31785aa21349c6895f24b79dd701a6": {
          "model_module": "@jupyter-widgets/controls",
          "model_name": "HTMLModel",
          "model_module_version": "1.5.0",
          "state": {
            "_dom_classes": [],
            "_model_module": "@jupyter-widgets/controls",
            "_model_module_version": "1.5.0",
            "_model_name": "HTMLModel",
            "_view_count": null,
            "_view_module": "@jupyter-widgets/controls",
            "_view_module_version": "1.5.0",
            "_view_name": "HTMLView",
            "description": "",
            "description_tooltip": null,
            "layout": "IPY_MODEL_f3fd90b7c3eb48858e415b48f781234f",
            "placeholder": "​",
            "style": "IPY_MODEL_de360e44c5fa45f9a1fd899303aa15ea",
            "value": "Map: 100%"
          }
        },
        "859fae10f7b74b22863753930ef564b1": {
          "model_module": "@jupyter-widgets/controls",
          "model_name": "FloatProgressModel",
          "model_module_version": "1.5.0",
          "state": {
            "_dom_classes": [],
            "_model_module": "@jupyter-widgets/controls",
            "_model_module_version": "1.5.0",
            "_model_name": "FloatProgressModel",
            "_view_count": null,
            "_view_module": "@jupyter-widgets/controls",
            "_view_module_version": "1.5.0",
            "_view_name": "ProgressView",
            "bar_style": "success",
            "description": "",
            "description_tooltip": null,
            "layout": "IPY_MODEL_395d45a7047b4441aebb27465019e0f3",
            "max": 3792,
            "min": 0,
            "orientation": "horizontal",
            "style": "IPY_MODEL_98782f579f1445c79d7228e7f3c3ccc5",
            "value": 3792
          }
        },
        "9cd08a771a5c4a8e9a5682a3164ce6c0": {
          "model_module": "@jupyter-widgets/controls",
          "model_name": "HTMLModel",
          "model_module_version": "1.5.0",
          "state": {
            "_dom_classes": [],
            "_model_module": "@jupyter-widgets/controls",
            "_model_module_version": "1.5.0",
            "_model_name": "HTMLModel",
            "_view_count": null,
            "_view_module": "@jupyter-widgets/controls",
            "_view_module_version": "1.5.0",
            "_view_name": "HTMLView",
            "description": "",
            "description_tooltip": null,
            "layout": "IPY_MODEL_19b2b61d623e415dad5b7650c75af04a",
            "placeholder": "​",
            "style": "IPY_MODEL_5a29ba63e6c94d38a57027ca387efe04",
            "value": " 3792/3792 [00:00&lt;00:00, 3928.23 examples/s]"
          }
        },
        "b50b90aadb0944edbe4b0d1f38467cac": {
          "model_module": "@jupyter-widgets/base",
          "model_name": "LayoutModel",
          "model_module_version": "1.2.0",
          "state": {
            "_model_module": "@jupyter-widgets/base",
            "_model_module_version": "1.2.0",
            "_model_name": "LayoutModel",
            "_view_count": null,
            "_view_module": "@jupyter-widgets/base",
            "_view_module_version": "1.2.0",
            "_view_name": "LayoutView",
            "align_content": null,
            "align_items": null,
            "align_self": null,
            "border": null,
            "bottom": null,
            "display": null,
            "flex": null,
            "flex_flow": null,
            "grid_area": null,
            "grid_auto_columns": null,
            "grid_auto_flow": null,
            "grid_auto_rows": null,
            "grid_column": null,
            "grid_gap": null,
            "grid_row": null,
            "grid_template_areas": null,
            "grid_template_columns": null,
            "grid_template_rows": null,
            "height": null,
            "justify_content": null,
            "justify_items": null,
            "left": null,
            "margin": null,
            "max_height": null,
            "max_width": null,
            "min_height": null,
            "min_width": null,
            "object_fit": null,
            "object_position": null,
            "order": null,
            "overflow": null,
            "overflow_x": null,
            "overflow_y": null,
            "padding": null,
            "right": null,
            "top": null,
            "visibility": null,
            "width": null
          }
        },
        "f3fd90b7c3eb48858e415b48f781234f": {
          "model_module": "@jupyter-widgets/base",
          "model_name": "LayoutModel",
          "model_module_version": "1.2.0",
          "state": {
            "_model_module": "@jupyter-widgets/base",
            "_model_module_version": "1.2.0",
            "_model_name": "LayoutModel",
            "_view_count": null,
            "_view_module": "@jupyter-widgets/base",
            "_view_module_version": "1.2.0",
            "_view_name": "LayoutView",
            "align_content": null,
            "align_items": null,
            "align_self": null,
            "border": null,
            "bottom": null,
            "display": null,
            "flex": null,
            "flex_flow": null,
            "grid_area": null,
            "grid_auto_columns": null,
            "grid_auto_flow": null,
            "grid_auto_rows": null,
            "grid_column": null,
            "grid_gap": null,
            "grid_row": null,
            "grid_template_areas": null,
            "grid_template_columns": null,
            "grid_template_rows": null,
            "height": null,
            "justify_content": null,
            "justify_items": null,
            "left": null,
            "margin": null,
            "max_height": null,
            "max_width": null,
            "min_height": null,
            "min_width": null,
            "object_fit": null,
            "object_position": null,
            "order": null,
            "overflow": null,
            "overflow_x": null,
            "overflow_y": null,
            "padding": null,
            "right": null,
            "top": null,
            "visibility": null,
            "width": null
          }
        },
        "de360e44c5fa45f9a1fd899303aa15ea": {
          "model_module": "@jupyter-widgets/controls",
          "model_name": "DescriptionStyleModel",
          "model_module_version": "1.5.0",
          "state": {
            "_model_module": "@jupyter-widgets/controls",
            "_model_module_version": "1.5.0",
            "_model_name": "DescriptionStyleModel",
            "_view_count": null,
            "_view_module": "@jupyter-widgets/base",
            "_view_module_version": "1.2.0",
            "_view_name": "StyleView",
            "description_width": ""
          }
        },
        "395d45a7047b4441aebb27465019e0f3": {
          "model_module": "@jupyter-widgets/base",
          "model_name": "LayoutModel",
          "model_module_version": "1.2.0",
          "state": {
            "_model_module": "@jupyter-widgets/base",
            "_model_module_version": "1.2.0",
            "_model_name": "LayoutModel",
            "_view_count": null,
            "_view_module": "@jupyter-widgets/base",
            "_view_module_version": "1.2.0",
            "_view_name": "LayoutView",
            "align_content": null,
            "align_items": null,
            "align_self": null,
            "border": null,
            "bottom": null,
            "display": null,
            "flex": null,
            "flex_flow": null,
            "grid_area": null,
            "grid_auto_columns": null,
            "grid_auto_flow": null,
            "grid_auto_rows": null,
            "grid_column": null,
            "grid_gap": null,
            "grid_row": null,
            "grid_template_areas": null,
            "grid_template_columns": null,
            "grid_template_rows": null,
            "height": null,
            "justify_content": null,
            "justify_items": null,
            "left": null,
            "margin": null,
            "max_height": null,
            "max_width": null,
            "min_height": null,
            "min_width": null,
            "object_fit": null,
            "object_position": null,
            "order": null,
            "overflow": null,
            "overflow_x": null,
            "overflow_y": null,
            "padding": null,
            "right": null,
            "top": null,
            "visibility": null,
            "width": null
          }
        },
        "98782f579f1445c79d7228e7f3c3ccc5": {
          "model_module": "@jupyter-widgets/controls",
          "model_name": "ProgressStyleModel",
          "model_module_version": "1.5.0",
          "state": {
            "_model_module": "@jupyter-widgets/controls",
            "_model_module_version": "1.5.0",
            "_model_name": "ProgressStyleModel",
            "_view_count": null,
            "_view_module": "@jupyter-widgets/base",
            "_view_module_version": "1.2.0",
            "_view_name": "StyleView",
            "bar_color": null,
            "description_width": ""
          }
        },
        "19b2b61d623e415dad5b7650c75af04a": {
          "model_module": "@jupyter-widgets/base",
          "model_name": "LayoutModel",
          "model_module_version": "1.2.0",
          "state": {
            "_model_module": "@jupyter-widgets/base",
            "_model_module_version": "1.2.0",
            "_model_name": "LayoutModel",
            "_view_count": null,
            "_view_module": "@jupyter-widgets/base",
            "_view_module_version": "1.2.0",
            "_view_name": "LayoutView",
            "align_content": null,
            "align_items": null,
            "align_self": null,
            "border": null,
            "bottom": null,
            "display": null,
            "flex": null,
            "flex_flow": null,
            "grid_area": null,
            "grid_auto_columns": null,
            "grid_auto_flow": null,
            "grid_auto_rows": null,
            "grid_column": null,
            "grid_gap": null,
            "grid_row": null,
            "grid_template_areas": null,
            "grid_template_columns": null,
            "grid_template_rows": null,
            "height": null,
            "justify_content": null,
            "justify_items": null,
            "left": null,
            "margin": null,
            "max_height": null,
            "max_width": null,
            "min_height": null,
            "min_width": null,
            "object_fit": null,
            "object_position": null,
            "order": null,
            "overflow": null,
            "overflow_x": null,
            "overflow_y": null,
            "padding": null,
            "right": null,
            "top": null,
            "visibility": null,
            "width": null
          }
        },
        "5a29ba63e6c94d38a57027ca387efe04": {
          "model_module": "@jupyter-widgets/controls",
          "model_name": "DescriptionStyleModel",
          "model_module_version": "1.5.0",
          "state": {
            "_model_module": "@jupyter-widgets/controls",
            "_model_module_version": "1.5.0",
            "_model_name": "DescriptionStyleModel",
            "_view_count": null,
            "_view_module": "@jupyter-widgets/base",
            "_view_module_version": "1.2.0",
            "_view_name": "StyleView",
            "description_width": ""
          }
        },
        "1cabe2ee0e0c45b4aa2cefb9c77f0dc5": {
          "model_module": "@jupyter-widgets/controls",
          "model_name": "HBoxModel",
          "model_module_version": "1.5.0",
          "state": {
            "_dom_classes": [],
            "_model_module": "@jupyter-widgets/controls",
            "_model_module_version": "1.5.0",
            "_model_name": "HBoxModel",
            "_view_count": null,
            "_view_module": "@jupyter-widgets/controls",
            "_view_module_version": "1.5.0",
            "_view_name": "HBoxView",
            "box_style": "",
            "children": [
              "IPY_MODEL_c9987193b9244a748b43e4016e30ed9a",
              "IPY_MODEL_c82a72638a824fef9425ace1b7b8f039",
              "IPY_MODEL_10bd840d08574da5a95643821767de0f"
            ],
            "layout": "IPY_MODEL_f5306b128cf6484a95e024624961156a"
          }
        },
        "c9987193b9244a748b43e4016e30ed9a": {
          "model_module": "@jupyter-widgets/controls",
          "model_name": "HTMLModel",
          "model_module_version": "1.5.0",
          "state": {
            "_dom_classes": [],
            "_model_module": "@jupyter-widgets/controls",
            "_model_module_version": "1.5.0",
            "_model_name": "HTMLModel",
            "_view_count": null,
            "_view_module": "@jupyter-widgets/controls",
            "_view_module_version": "1.5.0",
            "_view_name": "HTMLView",
            "description": "",
            "description_tooltip": null,
            "layout": "IPY_MODEL_1a9323adb26c460cb2d91bc9613b223c",
            "placeholder": "​",
            "style": "IPY_MODEL_0e458fecb01d4ea79230a8b3110de429",
            "value": "Map: 100%"
          }
        },
        "c82a72638a824fef9425ace1b7b8f039": {
          "model_module": "@jupyter-widgets/controls",
          "model_name": "FloatProgressModel",
          "model_module_version": "1.5.0",
          "state": {
            "_dom_classes": [],
            "_model_module": "@jupyter-widgets/controls",
            "_model_module_version": "1.5.0",
            "_model_name": "FloatProgressModel",
            "_view_count": null,
            "_view_module": "@jupyter-widgets/controls",
            "_view_module_version": "1.5.0",
            "_view_name": "ProgressView",
            "bar_style": "success",
            "description": "",
            "description_tooltip": null,
            "layout": "IPY_MODEL_22817fc39a234deab4d3c4a6de22c9f3",
            "max": 9479,
            "min": 0,
            "orientation": "horizontal",
            "style": "IPY_MODEL_5d930ea8be094d80a0720f324821cfb3",
            "value": 9479
          }
        },
        "10bd840d08574da5a95643821767de0f": {
          "model_module": "@jupyter-widgets/controls",
          "model_name": "HTMLModel",
          "model_module_version": "1.5.0",
          "state": {
            "_dom_classes": [],
            "_model_module": "@jupyter-widgets/controls",
            "_model_module_version": "1.5.0",
            "_model_name": "HTMLModel",
            "_view_count": null,
            "_view_module": "@jupyter-widgets/controls",
            "_view_module_version": "1.5.0",
            "_view_name": "HTMLView",
            "description": "",
            "description_tooltip": null,
            "layout": "IPY_MODEL_e4910a19b7f74bb8bf4bdea5aaf55590",
            "placeholder": "​",
            "style": "IPY_MODEL_90ae0f3c0dc54cdbba5b7a349d2d6f0e",
            "value": " 9479/9479 [00:02&lt;00:00, 4455.34 examples/s]"
          }
        },
        "f5306b128cf6484a95e024624961156a": {
          "model_module": "@jupyter-widgets/base",
          "model_name": "LayoutModel",
          "model_module_version": "1.2.0",
          "state": {
            "_model_module": "@jupyter-widgets/base",
            "_model_module_version": "1.2.0",
            "_model_name": "LayoutModel",
            "_view_count": null,
            "_view_module": "@jupyter-widgets/base",
            "_view_module_version": "1.2.0",
            "_view_name": "LayoutView",
            "align_content": null,
            "align_items": null,
            "align_self": null,
            "border": null,
            "bottom": null,
            "display": null,
            "flex": null,
            "flex_flow": null,
            "grid_area": null,
            "grid_auto_columns": null,
            "grid_auto_flow": null,
            "grid_auto_rows": null,
            "grid_column": null,
            "grid_gap": null,
            "grid_row": null,
            "grid_template_areas": null,
            "grid_template_columns": null,
            "grid_template_rows": null,
            "height": null,
            "justify_content": null,
            "justify_items": null,
            "left": null,
            "margin": null,
            "max_height": null,
            "max_width": null,
            "min_height": null,
            "min_width": null,
            "object_fit": null,
            "object_position": null,
            "order": null,
            "overflow": null,
            "overflow_x": null,
            "overflow_y": null,
            "padding": null,
            "right": null,
            "top": null,
            "visibility": null,
            "width": null
          }
        },
        "1a9323adb26c460cb2d91bc9613b223c": {
          "model_module": "@jupyter-widgets/base",
          "model_name": "LayoutModel",
          "model_module_version": "1.2.0",
          "state": {
            "_model_module": "@jupyter-widgets/base",
            "_model_module_version": "1.2.0",
            "_model_name": "LayoutModel",
            "_view_count": null,
            "_view_module": "@jupyter-widgets/base",
            "_view_module_version": "1.2.0",
            "_view_name": "LayoutView",
            "align_content": null,
            "align_items": null,
            "align_self": null,
            "border": null,
            "bottom": null,
            "display": null,
            "flex": null,
            "flex_flow": null,
            "grid_area": null,
            "grid_auto_columns": null,
            "grid_auto_flow": null,
            "grid_auto_rows": null,
            "grid_column": null,
            "grid_gap": null,
            "grid_row": null,
            "grid_template_areas": null,
            "grid_template_columns": null,
            "grid_template_rows": null,
            "height": null,
            "justify_content": null,
            "justify_items": null,
            "left": null,
            "margin": null,
            "max_height": null,
            "max_width": null,
            "min_height": null,
            "min_width": null,
            "object_fit": null,
            "object_position": null,
            "order": null,
            "overflow": null,
            "overflow_x": null,
            "overflow_y": null,
            "padding": null,
            "right": null,
            "top": null,
            "visibility": null,
            "width": null
          }
        },
        "0e458fecb01d4ea79230a8b3110de429": {
          "model_module": "@jupyter-widgets/controls",
          "model_name": "DescriptionStyleModel",
          "model_module_version": "1.5.0",
          "state": {
            "_model_module": "@jupyter-widgets/controls",
            "_model_module_version": "1.5.0",
            "_model_name": "DescriptionStyleModel",
            "_view_count": null,
            "_view_module": "@jupyter-widgets/base",
            "_view_module_version": "1.2.0",
            "_view_name": "StyleView",
            "description_width": ""
          }
        },
        "22817fc39a234deab4d3c4a6de22c9f3": {
          "model_module": "@jupyter-widgets/base",
          "model_name": "LayoutModel",
          "model_module_version": "1.2.0",
          "state": {
            "_model_module": "@jupyter-widgets/base",
            "_model_module_version": "1.2.0",
            "_model_name": "LayoutModel",
            "_view_count": null,
            "_view_module": "@jupyter-widgets/base",
            "_view_module_version": "1.2.0",
            "_view_name": "LayoutView",
            "align_content": null,
            "align_items": null,
            "align_self": null,
            "border": null,
            "bottom": null,
            "display": null,
            "flex": null,
            "flex_flow": null,
            "grid_area": null,
            "grid_auto_columns": null,
            "grid_auto_flow": null,
            "grid_auto_rows": null,
            "grid_column": null,
            "grid_gap": null,
            "grid_row": null,
            "grid_template_areas": null,
            "grid_template_columns": null,
            "grid_template_rows": null,
            "height": null,
            "justify_content": null,
            "justify_items": null,
            "left": null,
            "margin": null,
            "max_height": null,
            "max_width": null,
            "min_height": null,
            "min_width": null,
            "object_fit": null,
            "object_position": null,
            "order": null,
            "overflow": null,
            "overflow_x": null,
            "overflow_y": null,
            "padding": null,
            "right": null,
            "top": null,
            "visibility": null,
            "width": null
          }
        },
        "5d930ea8be094d80a0720f324821cfb3": {
          "model_module": "@jupyter-widgets/controls",
          "model_name": "ProgressStyleModel",
          "model_module_version": "1.5.0",
          "state": {
            "_model_module": "@jupyter-widgets/controls",
            "_model_module_version": "1.5.0",
            "_model_name": "ProgressStyleModel",
            "_view_count": null,
            "_view_module": "@jupyter-widgets/base",
            "_view_module_version": "1.2.0",
            "_view_name": "StyleView",
            "bar_color": null,
            "description_width": ""
          }
        },
        "e4910a19b7f74bb8bf4bdea5aaf55590": {
          "model_module": "@jupyter-widgets/base",
          "model_name": "LayoutModel",
          "model_module_version": "1.2.0",
          "state": {
            "_model_module": "@jupyter-widgets/base",
            "_model_module_version": "1.2.0",
            "_model_name": "LayoutModel",
            "_view_count": null,
            "_view_module": "@jupyter-widgets/base",
            "_view_module_version": "1.2.0",
            "_view_name": "LayoutView",
            "align_content": null,
            "align_items": null,
            "align_self": null,
            "border": null,
            "bottom": null,
            "display": null,
            "flex": null,
            "flex_flow": null,
            "grid_area": null,
            "grid_auto_columns": null,
            "grid_auto_flow": null,
            "grid_auto_rows": null,
            "grid_column": null,
            "grid_gap": null,
            "grid_row": null,
            "grid_template_areas": null,
            "grid_template_columns": null,
            "grid_template_rows": null,
            "height": null,
            "justify_content": null,
            "justify_items": null,
            "left": null,
            "margin": null,
            "max_height": null,
            "max_width": null,
            "min_height": null,
            "min_width": null,
            "object_fit": null,
            "object_position": null,
            "order": null,
            "overflow": null,
            "overflow_x": null,
            "overflow_y": null,
            "padding": null,
            "right": null,
            "top": null,
            "visibility": null,
            "width": null
          }
        },
        "90ae0f3c0dc54cdbba5b7a349d2d6f0e": {
          "model_module": "@jupyter-widgets/controls",
          "model_name": "DescriptionStyleModel",
          "model_module_version": "1.5.0",
          "state": {
            "_model_module": "@jupyter-widgets/controls",
            "_model_module_version": "1.5.0",
            "_model_name": "DescriptionStyleModel",
            "_view_count": null,
            "_view_module": "@jupyter-widgets/base",
            "_view_module_version": "1.2.0",
            "_view_name": "StyleView",
            "description_width": ""
          }
        },
        "f2c7fab180064a0d93f3f267ba76e3ab": {
          "model_module": "@jupyter-widgets/controls",
          "model_name": "HBoxModel",
          "model_module_version": "1.5.0",
          "state": {
            "_dom_classes": [],
            "_model_module": "@jupyter-widgets/controls",
            "_model_module_version": "1.5.0",
            "_model_name": "HBoxModel",
            "_view_count": null,
            "_view_module": "@jupyter-widgets/controls",
            "_view_module_version": "1.5.0",
            "_view_name": "HBoxView",
            "box_style": "",
            "children": [
              "IPY_MODEL_b3a641feac484931b2aeb4cd210bec87",
              "IPY_MODEL_888cec6f655a44b7b0d4c8fe825064a6",
              "IPY_MODEL_3ef3b022d717491f915d68c8916de474"
            ],
            "layout": "IPY_MODEL_3e737ad29bc24a0982f2432f8ecafc86"
          }
        },
        "b3a641feac484931b2aeb4cd210bec87": {
          "model_module": "@jupyter-widgets/controls",
          "model_name": "HTMLModel",
          "model_module_version": "1.5.0",
          "state": {
            "_dom_classes": [],
            "_model_module": "@jupyter-widgets/controls",
            "_model_module_version": "1.5.0",
            "_model_name": "HTMLModel",
            "_view_count": null,
            "_view_module": "@jupyter-widgets/controls",
            "_view_module_version": "1.5.0",
            "_view_name": "HTMLView",
            "description": "",
            "description_tooltip": null,
            "layout": "IPY_MODEL_28b3898ad74c422abb0c3c1db8e4ee9b",
            "placeholder": "​",
            "style": "IPY_MODEL_613d4bd781314a09b66d073f99171a54",
            "value": "pytorch_model.bin: 100%"
          }
        },
        "888cec6f655a44b7b0d4c8fe825064a6": {
          "model_module": "@jupyter-widgets/controls",
          "model_name": "FloatProgressModel",
          "model_module_version": "1.5.0",
          "state": {
            "_dom_classes": [],
            "_model_module": "@jupyter-widgets/controls",
            "_model_module_version": "1.5.0",
            "_model_name": "FloatProgressModel",
            "_view_count": null,
            "_view_module": "@jupyter-widgets/controls",
            "_view_module_version": "1.5.0",
            "_view_name": "ProgressView",
            "bar_style": "success",
            "description": "",
            "description_tooltip": null,
            "layout": "IPY_MODEL_de17f3e2a0994e64a394bba96cc1c3e3",
            "max": 146863759,
            "min": 0,
            "orientation": "horizontal",
            "style": "IPY_MODEL_acbd6db464a94e1a8bdd5cd20e26f15a",
            "value": 146863759
          }
        },
        "3ef3b022d717491f915d68c8916de474": {
          "model_module": "@jupyter-widgets/controls",
          "model_name": "HTMLModel",
          "model_module_version": "1.5.0",
          "state": {
            "_dom_classes": [],
            "_model_module": "@jupyter-widgets/controls",
            "_model_module_version": "1.5.0",
            "_model_name": "HTMLModel",
            "_view_count": null,
            "_view_module": "@jupyter-widgets/controls",
            "_view_module_version": "1.5.0",
            "_view_name": "HTMLView",
            "description": "",
            "description_tooltip": null,
            "layout": "IPY_MODEL_7bc493060bf74fd7b078caf65175f8fb",
            "placeholder": "​",
            "style": "IPY_MODEL_dd20304108a1403f9a5d3d4ad9982779",
            "value": " 147M/147M [00:01&lt;00:00, 101MB/s]"
          }
        },
        "3e737ad29bc24a0982f2432f8ecafc86": {
          "model_module": "@jupyter-widgets/base",
          "model_name": "LayoutModel",
          "model_module_version": "1.2.0",
          "state": {
            "_model_module": "@jupyter-widgets/base",
            "_model_module_version": "1.2.0",
            "_model_name": "LayoutModel",
            "_view_count": null,
            "_view_module": "@jupyter-widgets/base",
            "_view_module_version": "1.2.0",
            "_view_name": "LayoutView",
            "align_content": null,
            "align_items": null,
            "align_self": null,
            "border": null,
            "bottom": null,
            "display": null,
            "flex": null,
            "flex_flow": null,
            "grid_area": null,
            "grid_auto_columns": null,
            "grid_auto_flow": null,
            "grid_auto_rows": null,
            "grid_column": null,
            "grid_gap": null,
            "grid_row": null,
            "grid_template_areas": null,
            "grid_template_columns": null,
            "grid_template_rows": null,
            "height": null,
            "justify_content": null,
            "justify_items": null,
            "left": null,
            "margin": null,
            "max_height": null,
            "max_width": null,
            "min_height": null,
            "min_width": null,
            "object_fit": null,
            "object_position": null,
            "order": null,
            "overflow": null,
            "overflow_x": null,
            "overflow_y": null,
            "padding": null,
            "right": null,
            "top": null,
            "visibility": null,
            "width": null
          }
        },
        "28b3898ad74c422abb0c3c1db8e4ee9b": {
          "model_module": "@jupyter-widgets/base",
          "model_name": "LayoutModel",
          "model_module_version": "1.2.0",
          "state": {
            "_model_module": "@jupyter-widgets/base",
            "_model_module_version": "1.2.0",
            "_model_name": "LayoutModel",
            "_view_count": null,
            "_view_module": "@jupyter-widgets/base",
            "_view_module_version": "1.2.0",
            "_view_name": "LayoutView",
            "align_content": null,
            "align_items": null,
            "align_self": null,
            "border": null,
            "bottom": null,
            "display": null,
            "flex": null,
            "flex_flow": null,
            "grid_area": null,
            "grid_auto_columns": null,
            "grid_auto_flow": null,
            "grid_auto_rows": null,
            "grid_column": null,
            "grid_gap": null,
            "grid_row": null,
            "grid_template_areas": null,
            "grid_template_columns": null,
            "grid_template_rows": null,
            "height": null,
            "justify_content": null,
            "justify_items": null,
            "left": null,
            "margin": null,
            "max_height": null,
            "max_width": null,
            "min_height": null,
            "min_width": null,
            "object_fit": null,
            "object_position": null,
            "order": null,
            "overflow": null,
            "overflow_x": null,
            "overflow_y": null,
            "padding": null,
            "right": null,
            "top": null,
            "visibility": null,
            "width": null
          }
        },
        "613d4bd781314a09b66d073f99171a54": {
          "model_module": "@jupyter-widgets/controls",
          "model_name": "DescriptionStyleModel",
          "model_module_version": "1.5.0",
          "state": {
            "_model_module": "@jupyter-widgets/controls",
            "_model_module_version": "1.5.0",
            "_model_name": "DescriptionStyleModel",
            "_view_count": null,
            "_view_module": "@jupyter-widgets/base",
            "_view_module_version": "1.2.0",
            "_view_name": "StyleView",
            "description_width": ""
          }
        },
        "de17f3e2a0994e64a394bba96cc1c3e3": {
          "model_module": "@jupyter-widgets/base",
          "model_name": "LayoutModel",
          "model_module_version": "1.2.0",
          "state": {
            "_model_module": "@jupyter-widgets/base",
            "_model_module_version": "1.2.0",
            "_model_name": "LayoutModel",
            "_view_count": null,
            "_view_module": "@jupyter-widgets/base",
            "_view_module_version": "1.2.0",
            "_view_name": "LayoutView",
            "align_content": null,
            "align_items": null,
            "align_self": null,
            "border": null,
            "bottom": null,
            "display": null,
            "flex": null,
            "flex_flow": null,
            "grid_area": null,
            "grid_auto_columns": null,
            "grid_auto_flow": null,
            "grid_auto_rows": null,
            "grid_column": null,
            "grid_gap": null,
            "grid_row": null,
            "grid_template_areas": null,
            "grid_template_columns": null,
            "grid_template_rows": null,
            "height": null,
            "justify_content": null,
            "justify_items": null,
            "left": null,
            "margin": null,
            "max_height": null,
            "max_width": null,
            "min_height": null,
            "min_width": null,
            "object_fit": null,
            "object_position": null,
            "order": null,
            "overflow": null,
            "overflow_x": null,
            "overflow_y": null,
            "padding": null,
            "right": null,
            "top": null,
            "visibility": null,
            "width": null
          }
        },
        "acbd6db464a94e1a8bdd5cd20e26f15a": {
          "model_module": "@jupyter-widgets/controls",
          "model_name": "ProgressStyleModel",
          "model_module_version": "1.5.0",
          "state": {
            "_model_module": "@jupyter-widgets/controls",
            "_model_module_version": "1.5.0",
            "_model_name": "ProgressStyleModel",
            "_view_count": null,
            "_view_module": "@jupyter-widgets/base",
            "_view_module_version": "1.2.0",
            "_view_name": "StyleView",
            "bar_color": null,
            "description_width": ""
          }
        },
        "7bc493060bf74fd7b078caf65175f8fb": {
          "model_module": "@jupyter-widgets/base",
          "model_name": "LayoutModel",
          "model_module_version": "1.2.0",
          "state": {
            "_model_module": "@jupyter-widgets/base",
            "_model_module_version": "1.2.0",
            "_model_name": "LayoutModel",
            "_view_count": null,
            "_view_module": "@jupyter-widgets/base",
            "_view_module_version": "1.2.0",
            "_view_name": "LayoutView",
            "align_content": null,
            "align_items": null,
            "align_self": null,
            "border": null,
            "bottom": null,
            "display": null,
            "flex": null,
            "flex_flow": null,
            "grid_area": null,
            "grid_auto_columns": null,
            "grid_auto_flow": null,
            "grid_auto_rows": null,
            "grid_column": null,
            "grid_gap": null,
            "grid_row": null,
            "grid_template_areas": null,
            "grid_template_columns": null,
            "grid_template_rows": null,
            "height": null,
            "justify_content": null,
            "justify_items": null,
            "left": null,
            "margin": null,
            "max_height": null,
            "max_width": null,
            "min_height": null,
            "min_width": null,
            "object_fit": null,
            "object_position": null,
            "order": null,
            "overflow": null,
            "overflow_x": null,
            "overflow_y": null,
            "padding": null,
            "right": null,
            "top": null,
            "visibility": null,
            "width": null
          }
        },
        "dd20304108a1403f9a5d3d4ad9982779": {
          "model_module": "@jupyter-widgets/controls",
          "model_name": "DescriptionStyleModel",
          "model_module_version": "1.5.0",
          "state": {
            "_model_module": "@jupyter-widgets/controls",
            "_model_module_version": "1.5.0",
            "_model_name": "DescriptionStyleModel",
            "_view_count": null,
            "_view_module": "@jupyter-widgets/base",
            "_view_module_version": "1.2.0",
            "_view_name": "StyleView",
            "description_width": ""
          }
        },
        "2f0dd3eef2584a97931db848d443d885": {
          "model_module": "@jupyter-widgets/controls",
          "model_name": "HBoxModel",
          "model_module_version": "1.5.0",
          "state": {
            "_dom_classes": [],
            "_model_module": "@jupyter-widgets/controls",
            "_model_module_version": "1.5.0",
            "_model_name": "HBoxModel",
            "_view_count": null,
            "_view_module": "@jupyter-widgets/controls",
            "_view_module_version": "1.5.0",
            "_view_name": "HBoxView",
            "box_style": "",
            "children": [
              "IPY_MODEL_541eca55129a4b27bb11911e96fd7cca",
              "IPY_MODEL_f890a5b6eda848aa8acfa81f76ffa910",
              "IPY_MODEL_68397dee08c64a95892dfeb2f2d1b5f0"
            ],
            "layout": "IPY_MODEL_b777f4fb0b974766997b35ad31631b8f"
          }
        },
        "541eca55129a4b27bb11911e96fd7cca": {
          "model_module": "@jupyter-widgets/controls",
          "model_name": "HTMLModel",
          "model_module_version": "1.5.0",
          "state": {
            "_dom_classes": [],
            "_model_module": "@jupyter-widgets/controls",
            "_model_module_version": "1.5.0",
            "_model_name": "HTMLModel",
            "_view_count": null,
            "_view_module": "@jupyter-widgets/controls",
            "_view_module_version": "1.5.0",
            "_view_name": "HTMLView",
            "description": "",
            "description_tooltip": null,
            "layout": "IPY_MODEL_b8dc9f08ebe54f6facd10b4c2174180d",
            "placeholder": "​",
            "style": "IPY_MODEL_47542310852a4496a9f3540d15fa048f",
            "value": "model.safetensors: 100%"
          }
        },
        "f890a5b6eda848aa8acfa81f76ffa910": {
          "model_module": "@jupyter-widgets/controls",
          "model_name": "FloatProgressModel",
          "model_module_version": "1.5.0",
          "state": {
            "_dom_classes": [],
            "_model_module": "@jupyter-widgets/controls",
            "_model_module_version": "1.5.0",
            "_model_name": "FloatProgressModel",
            "_view_count": null,
            "_view_module": "@jupyter-widgets/controls",
            "_view_module_version": "1.5.0",
            "_view_name": "ProgressView",
            "bar_style": "success",
            "description": "",
            "description_tooltip": null,
            "layout": "IPY_MODEL_a29619ffbec34c5e865155b088858b7a",
            "max": 146534984,
            "min": 0,
            "orientation": "horizontal",
            "style": "IPY_MODEL_a8405e7a25f7410284ad59c27400718a",
            "value": 146534984
          }
        },
        "68397dee08c64a95892dfeb2f2d1b5f0": {
          "model_module": "@jupyter-widgets/controls",
          "model_name": "HTMLModel",
          "model_module_version": "1.5.0",
          "state": {
            "_dom_classes": [],
            "_model_module": "@jupyter-widgets/controls",
            "_model_module_version": "1.5.0",
            "_model_name": "HTMLModel",
            "_view_count": null,
            "_view_module": "@jupyter-widgets/controls",
            "_view_module_version": "1.5.0",
            "_view_name": "HTMLView",
            "description": "",
            "description_tooltip": null,
            "layout": "IPY_MODEL_ad090e9e7ab44579be63b0028c5efe82",
            "placeholder": "​",
            "style": "IPY_MODEL_172d4b48d71a471ebdefabd071f36523",
            "value": " 147M/147M [00:02&lt;00:00, 99.0MB/s]"
          }
        },
        "b777f4fb0b974766997b35ad31631b8f": {
          "model_module": "@jupyter-widgets/base",
          "model_name": "LayoutModel",
          "model_module_version": "1.2.0",
          "state": {
            "_model_module": "@jupyter-widgets/base",
            "_model_module_version": "1.2.0",
            "_model_name": "LayoutModel",
            "_view_count": null,
            "_view_module": "@jupyter-widgets/base",
            "_view_module_version": "1.2.0",
            "_view_name": "LayoutView",
            "align_content": null,
            "align_items": null,
            "align_self": null,
            "border": null,
            "bottom": null,
            "display": null,
            "flex": null,
            "flex_flow": null,
            "grid_area": null,
            "grid_auto_columns": null,
            "grid_auto_flow": null,
            "grid_auto_rows": null,
            "grid_column": null,
            "grid_gap": null,
            "grid_row": null,
            "grid_template_areas": null,
            "grid_template_columns": null,
            "grid_template_rows": null,
            "height": null,
            "justify_content": null,
            "justify_items": null,
            "left": null,
            "margin": null,
            "max_height": null,
            "max_width": null,
            "min_height": null,
            "min_width": null,
            "object_fit": null,
            "object_position": null,
            "order": null,
            "overflow": null,
            "overflow_x": null,
            "overflow_y": null,
            "padding": null,
            "right": null,
            "top": null,
            "visibility": null,
            "width": null
          }
        },
        "b8dc9f08ebe54f6facd10b4c2174180d": {
          "model_module": "@jupyter-widgets/base",
          "model_name": "LayoutModel",
          "model_module_version": "1.2.0",
          "state": {
            "_model_module": "@jupyter-widgets/base",
            "_model_module_version": "1.2.0",
            "_model_name": "LayoutModel",
            "_view_count": null,
            "_view_module": "@jupyter-widgets/base",
            "_view_module_version": "1.2.0",
            "_view_name": "LayoutView",
            "align_content": null,
            "align_items": null,
            "align_self": null,
            "border": null,
            "bottom": null,
            "display": null,
            "flex": null,
            "flex_flow": null,
            "grid_area": null,
            "grid_auto_columns": null,
            "grid_auto_flow": null,
            "grid_auto_rows": null,
            "grid_column": null,
            "grid_gap": null,
            "grid_row": null,
            "grid_template_areas": null,
            "grid_template_columns": null,
            "grid_template_rows": null,
            "height": null,
            "justify_content": null,
            "justify_items": null,
            "left": null,
            "margin": null,
            "max_height": null,
            "max_width": null,
            "min_height": null,
            "min_width": null,
            "object_fit": null,
            "object_position": null,
            "order": null,
            "overflow": null,
            "overflow_x": null,
            "overflow_y": null,
            "padding": null,
            "right": null,
            "top": null,
            "visibility": null,
            "width": null
          }
        },
        "47542310852a4496a9f3540d15fa048f": {
          "model_module": "@jupyter-widgets/controls",
          "model_name": "DescriptionStyleModel",
          "model_module_version": "1.5.0",
          "state": {
            "_model_module": "@jupyter-widgets/controls",
            "_model_module_version": "1.5.0",
            "_model_name": "DescriptionStyleModel",
            "_view_count": null,
            "_view_module": "@jupyter-widgets/base",
            "_view_module_version": "1.2.0",
            "_view_name": "StyleView",
            "description_width": ""
          }
        },
        "a29619ffbec34c5e865155b088858b7a": {
          "model_module": "@jupyter-widgets/base",
          "model_name": "LayoutModel",
          "model_module_version": "1.2.0",
          "state": {
            "_model_module": "@jupyter-widgets/base",
            "_model_module_version": "1.2.0",
            "_model_name": "LayoutModel",
            "_view_count": null,
            "_view_module": "@jupyter-widgets/base",
            "_view_module_version": "1.2.0",
            "_view_name": "LayoutView",
            "align_content": null,
            "align_items": null,
            "align_self": null,
            "border": null,
            "bottom": null,
            "display": null,
            "flex": null,
            "flex_flow": null,
            "grid_area": null,
            "grid_auto_columns": null,
            "grid_auto_flow": null,
            "grid_auto_rows": null,
            "grid_column": null,
            "grid_gap": null,
            "grid_row": null,
            "grid_template_areas": null,
            "grid_template_columns": null,
            "grid_template_rows": null,
            "height": null,
            "justify_content": null,
            "justify_items": null,
            "left": null,
            "margin": null,
            "max_height": null,
            "max_width": null,
            "min_height": null,
            "min_width": null,
            "object_fit": null,
            "object_position": null,
            "order": null,
            "overflow": null,
            "overflow_x": null,
            "overflow_y": null,
            "padding": null,
            "right": null,
            "top": null,
            "visibility": null,
            "width": null
          }
        },
        "a8405e7a25f7410284ad59c27400718a": {
          "model_module": "@jupyter-widgets/controls",
          "model_name": "ProgressStyleModel",
          "model_module_version": "1.5.0",
          "state": {
            "_model_module": "@jupyter-widgets/controls",
            "_model_module_version": "1.5.0",
            "_model_name": "ProgressStyleModel",
            "_view_count": null,
            "_view_module": "@jupyter-widgets/base",
            "_view_module_version": "1.2.0",
            "_view_name": "StyleView",
            "bar_color": null,
            "description_width": ""
          }
        },
        "ad090e9e7ab44579be63b0028c5efe82": {
          "model_module": "@jupyter-widgets/base",
          "model_name": "LayoutModel",
          "model_module_version": "1.2.0",
          "state": {
            "_model_module": "@jupyter-widgets/base",
            "_model_module_version": "1.2.0",
            "_model_name": "LayoutModel",
            "_view_count": null,
            "_view_module": "@jupyter-widgets/base",
            "_view_module_version": "1.2.0",
            "_view_name": "LayoutView",
            "align_content": null,
            "align_items": null,
            "align_self": null,
            "border": null,
            "bottom": null,
            "display": null,
            "flex": null,
            "flex_flow": null,
            "grid_area": null,
            "grid_auto_columns": null,
            "grid_auto_flow": null,
            "grid_auto_rows": null,
            "grid_column": null,
            "grid_gap": null,
            "grid_row": null,
            "grid_template_areas": null,
            "grid_template_columns": null,
            "grid_template_rows": null,
            "height": null,
            "justify_content": null,
            "justify_items": null,
            "left": null,
            "margin": null,
            "max_height": null,
            "max_width": null,
            "min_height": null,
            "min_width": null,
            "object_fit": null,
            "object_position": null,
            "order": null,
            "overflow": null,
            "overflow_x": null,
            "overflow_y": null,
            "padding": null,
            "right": null,
            "top": null,
            "visibility": null,
            "width": null
          }
        },
        "172d4b48d71a471ebdefabd071f36523": {
          "model_module": "@jupyter-widgets/controls",
          "model_name": "DescriptionStyleModel",
          "model_module_version": "1.5.0",
          "state": {
            "_model_module": "@jupyter-widgets/controls",
            "_model_module_version": "1.5.0",
            "_model_name": "DescriptionStyleModel",
            "_view_count": null,
            "_view_module": "@jupyter-widgets/base",
            "_view_module_version": "1.2.0",
            "_view_name": "StyleView",
            "description_width": ""
          }
        }
      }
    }
  },
  "nbformat": 4,
  "nbformat_minor": 0
}